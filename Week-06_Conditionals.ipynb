{
 "cells": [
  {
   "cell_type": "markdown",
   "metadata": {},
   "source": [
    "## Conditionals Lab\n",
    "\n",
    "*There are 2 intentional errors in this lab*"
   ]
  },
  {
   "cell_type": "markdown",
   "metadata": {},
   "source": [
    "### Decisions/Branching\n",
    "\n",
    "For programs to be useful, they need to take the appropriate actions based on current circumstances.  This is where **conditionals** come into play.  Conditionals are basically decisions.   Let’s try a simple Python conditional:\n",
    "\n",
    "```Python\n",
    "x = 3\n",
    "if x == 3:\n",
    "print('x is 3')\n",
    "```"
   ]
  },
  {
   "cell_type": "code",
   "execution_count": 1,
   "metadata": {},
   "outputs": [],
   "source": [
    "#\n",
    "# Type your code here\n",
    "#\n"
   ]
  },
  {
   "cell_type": "markdown",
   "metadata": {},
   "source": [
    "1\\.  What did you get?  ***Enter Answer Here***"
   ]
  },
  {
   "cell_type": "markdown",
   "metadata": {},
   "source": [
    "The reason that did not work is due the fact that Python needs to know what code to run if the conditional is true and where to skip down to if it is not true.  It does by using **code blocks**.  An *if* requires its own **code block**.  A **code block** in Python is indicated by the indention of the line.  You may remember earlier in the course, we discussed that you cannot use leading spaces (or tabs) randomly in Python and this is why.  A new code block is indicated by a different indent level between the preceding code and/or the following code.   Here’s a working example for the **if** statement.  Fix your program to look like the following and try it again:\n",
    "\n",
    "```Python\n",
    "x=3\n",
    "if x == 3:\n",
    "    print('x was 3')\n",
    "    x=7\n",
    "\n",
    "print(\"You are here\")\n",
    "y=5\n",
    "```"
   ]
  },
  {
   "cell_type": "code",
   "execution_count": 2,
   "metadata": {},
   "outputs": [],
   "source": [
    "#\n",
    "# Type your code here\n",
    "#\n"
   ]
  },
  {
   "cell_type": "markdown",
   "metadata": {},
   "source": [
    "Notice in the previous example, the ***if*** contains a code block with two lines.  A code block can be one or more lines and there is no limit.   Also look more carefully at the indention.  In preparing this lab, I used a tab for each line, but you may have used spaces.  Which is correct?  Well, Python will accept either, it does not matter.  What is *very important* is that whatever you use is consistent.  You can’t switch back and forth in the same code block and it also needs to be the same number of spaces and tabs inside a code block.  This use of leading indents is to save space and typing by not having to have a lot of extra symbols or syntax to mark code blocks, but can be tricky as you need to mind where the various levels of idents are for your code blocks.\n",
    "\n",
    "In the previous code example, if the expression in the ***if*** statement is ***True***, the ***if*** code block will execute and then it will go ahead and execute the ***print*** and the line ***x=7***.  If the expression was not ***True*** (***False***), Python would skip straight to the ***y=5*** line. Sometimes the decision requires different actions depending on whether the ***if*** expression is ***True*** or ***False***.  This is done with an **if/else**.   Try the following:\n",
    "\n",
    "```Python\n",
    "x=3\n",
    "if x == 3:\n",
    "    print('x was 3')\n",
    "    x=7\n",
    "else:\n",
    "    print('x is not 3')\n",
    "    x=9\n",
    "y=5\n",
    "print('x is', x)\n",
    "```"
   ]
  },
  {
   "cell_type": "code",
   "execution_count": 3,
   "metadata": {},
   "outputs": [],
   "source": [
    "#\n",
    "# Type your code here\n",
    "#\n"
   ]
  },
  {
   "cell_type": "markdown",
   "metadata": {},
   "source": [
    "2\\. Did you get the same output as in the previous example?  Why?    ***Enter Answer Here***"
   ]
  },
  {
   "cell_type": "markdown",
   "metadata": {},
   "source": [
    "Try changing the code to look like the following.\n",
    "\n",
    "```Python\n",
    "x=0\n",
    "if x == 3:\n",
    "     print('x was 3')\n",
    "     x=7\n",
    "else:\n",
    "     print('x is not 3')\n",
    "     x=9\n",
    "y=5\n",
    "print('x is', x)\n",
    "```"
   ]
  },
  {
   "cell_type": "code",
   "execution_count": 4,
   "metadata": {},
   "outputs": [],
   "source": [
    "#\n",
    "# Type your code here\n",
    "#\n"
   ]
  },
  {
   "cell_type": "markdown",
   "metadata": {},
   "source": [
    "3\\.  Did you get the same output as in question 2?  Why or why not?   ***Enter Answer Here***"
   ]
  },
  {
   "cell_type": "markdown",
   "metadata": {},
   "source": [
    "Let’s look more closely at the how to make conditionals.  The general form of the basic if statement looks like this:\n",
    "\n",
    "```Python\n",
    "if <expression>:\n",
    "```\n",
    "    \n",
    "The expression part can be simple (like in the previous example), or complex, including equations or functions.  The key is that when the entire expression is evaluated, the return value must be ***0*** or ***False*** for the condition to fail or ***True*** or **any non-zero** value for the condition to pass.\n",
    "\n",
    "**Helpful Hint:** In Python, whenever you see a line of code (like the ***if*** statement above) that ends in with a ***:*** character, that means it is expecting an indented code bock.\n",
    "\n",
    "Conditional expressions use **equality operators**.  As the name implies, these operators compare things to see how equal they are.  In our example, we used the operator ***==***.  This is not a typing error.  This is the operator to check if something is equal to another thing.  Why not just ***=***?  Try this:\n",
    "\n",
    "```Python\n",
    "x=0\n",
    "if x = 3:\n",
    "     print(‘x was 3’)\n",
    "     x=7\n",
    "else:\n",
    "     print(x is not 3’)\n",
    "     x=9\n",
    "y=5\n",
    "print('x is', x)\n",
    "```"
   ]
  },
  {
   "cell_type": "code",
   "execution_count": 5,
   "metadata": {},
   "outputs": [],
   "source": [
    "#\n",
    "# Type your code here\n",
    "#\n"
   ]
  },
  {
   "cell_type": "markdown",
   "metadata": {},
   "source": [
    "What happened here is that the single ***=*** is the **assignment** operator, which assigns a value to the variable.  Go ahead and change the code to look like this:\n",
    "\n",
    "```Python\n",
    "x=0\n",
    "if x != 3:\n",
    "    print('x was not 3')\n",
    "    x=7\n",
    "else:\n",
    "    print('x was 3')\n",
    "    x=9\n",
    "y=5\n",
    "print('x is', x)\n",
    "```"
   ]
  },
  {
   "cell_type": "code",
   "execution_count": 5,
   "metadata": {},
   "outputs": [],
   "source": [
    "#\n",
    "# Type your code here\n",
    "#\n"
   ]
  },
  {
   "cell_type": "markdown",
   "metadata": {},
   "source": [
    "4\\.  What did you get?  ***Enter Answer Here***"
   ]
  },
  {
   "cell_type": "markdown",
   "metadata": {},
   "source": [
    "The ***!=*** is the not equal to operator.  There are lots of other operators that can check things like greater than, less than, etc. (see the lecture slides or online for a more complete listing).  One thing to note is that Python is very flexible and it’s not just numbers that can be compared, but any sequence/container.  For example, let’s compare two strings:\n",
    "\n",
    "```Python\n",
    "x='Hello'\n",
    "if x > 'Hallo':\n",
    "     print('x is greater than')\n",
    "else:\n",
    "     print('x is not greater than')\n",
    "```"
   ]
  },
  {
   "cell_type": "code",
   "execution_count": 6,
   "metadata": {},
   "outputs": [],
   "source": [
    "#\n",
    "# Type your code here\n",
    "#\n"
   ]
  },
  {
   "cell_type": "markdown",
   "metadata": {},
   "source": [
    "5\\.  What did you get?  Is this what you expected?  ***Enter Answer Here***"
   ]
  },
  {
   "cell_type": "markdown",
   "metadata": {},
   "source": [
    "When comparing containers, Python will compare each element until it finds one that does not match and then decide of the expression is ***True*** or ***False***.  It will not continue comparing after it finds the first mismatch.  Thisis also true for things like **tuples** and **lists**.\n",
    "\n",
    "So far, we have looked at binary type conditionals, where things are one way or another (either yes or no).  These are common, but there are also many cases where there may be more than two outcomes.  Using basic **if** statements, you can do it by **nesting** them.  This is when you have the ***if*** statemetns inside other ***if*** statement.  Look at the following code (don't type this into your code cell below, just look at it to understand and keep reading):\n",
    "\n",
    "```Python\n",
    "x=7\n",
    "if x < 0:\n",
    "    print('x is less than zero')\n",
    "else:\n",
    "    if x < 10:\n",
    "        print('x is a single digit')\n",
    "    else:\n",
    "        if x < 100:\n",
    "            print('x is two digits')\n",
    "        else:\n",
    "            print('x is more than two digits')\n",
    "```\n",
    "              \n",
    "This works just fine, but it is not ideal as it can use up a lot of leading blank space/indents and not easy to read, so Python gives you a better way, the ***elif*** statement.  This is just a way to combine the ***else:*** and ***if*** parts of the above and reduce the indent.  An ***elif*** looks like the following (go ahead and type this into your code cell):\n",
    "\n",
    "```Python\n",
    "x=7\n",
    "if x < 0:\n",
    "    print('x is less than zero')\n",
    "elif  x < 10:\n",
    "    print('x is a single digit')\n",
    "elif x < 100:\n",
    "    print('x is two digits')\n",
    "else:\n",
    "    print('x is more than two digits')\n",
    "    \n",
    "print('Drop down to here')\n",
    "```"
   ]
  },
  {
   "cell_type": "code",
   "execution_count": 7,
   "metadata": {},
   "outputs": [],
   "source": [
    "#\n",
    "# Type your code here\n",
    "#\n"
   ]
  },
  {
   "cell_type": "markdown",
   "metadata": {},
   "source": [
    "That makes things much easier, but there is one very important thing to remember and that is only *one of the cases* in an ***elif*** chain will ever be executed, so the order is very important.  Python will keep evaluating expressions until it finds the first on that is True and then it will NOT evaluate any more in the ***elif*** chain.  Try the following to demonstrate this:\n",
    "\n",
    "```Python\n",
    "x=7\n",
    "if x < 0:\n",
    "    print('x is less than zero')\n",
    "elif x < 100:\n",
    "    print('x is two digits')\n",
    "elif  x < 10:\n",
    "    print('x is a single digit')\n",
    "else:\n",
    "    print('x is more than two digits')\n",
    "\n",
    "print('I am done')\n",
    "```"
   ]
  },
  {
   "cell_type": "code",
   "execution_count": 8,
   "metadata": {},
   "outputs": [],
   "source": [
    "#\n",
    "# Type your code here\n",
    "#\n"
   ]
  },
  {
   "cell_type": "markdown",
   "metadata": {},
   "source": [
    "###  Boolean Values\n",
    "\n",
    "We have talked a lot about expressions being True or False.  The reasoning used with things that can only be true or false is called **Boolean Logic**.  This is used in Python and there is a data type called ***boolean***.  Variables of this data type can only ever be ***True*** or ***False*** (note that in Python the reserved words for ***True*** and ***False*** are always capitalized).  Try the following inthe code cell:\n",
    "\n",
    "```Python\n",
    "x=2\n",
    "y=3\n",
    "if x == 2 and y == 3:\n",
    "    print('Match')\n",
    "```"
   ]
  },
  {
   "cell_type": "code",
   "execution_count": 9,
   "metadata": {},
   "outputs": [],
   "source": [
    "#\n",
    "# Type your code here\n",
    "#\n"
   ]
  },
  {
   "cell_type": "markdown",
   "metadata": {},
   "source": [
    "Boolean expressions can be useful because they are more efficient.  For example, consider the following Python code (do not type this into the code cell):\n",
    "\n",
    "```Python\n",
    "x = 33\n",
    "if x > 9:\n",
    "    if x < 100:\n",
    "        print('x is two digits')\n",
    "```\n",
    "      \n",
    "Although there is nothing wrong with the previous code, a boolean operator makes it much easier.   Try the following code in the code cell:\n",
    "\n",
    "```Python\n",
    "x = 33\n",
    "if x > 9 and x < 100:\n",
    "    print('x is two digits')\n",
    "```"
   ]
  },
  {
   "cell_type": "code",
   "execution_count": 10,
   "metadata": {},
   "outputs": [],
   "source": [
    "#\n",
    "# Type your code here\n"
   ]
  },
  {
   "cell_type": "markdown",
   "metadata": {},
   "source": [
    "The Boolean operators ***and***, ***or***, and ***not*** are simple, but also powerful.  In an ***and*** expression, both sides need to be ***True*** (or non-zero) for the entire expression to be considered ***True***, anything else is ***False***.  Try the following:\n",
    "\n",
    "```Python\n",
    "x = 12\n",
    "if x > 12 and x < 20:\n",
    "    print('x is a teen')\n",
    "else:\n",
    "    print('Nothing')\n",
    "```"
   ]
  },
  {
   "cell_type": "code",
   "execution_count": 12,
   "metadata": {},
   "outputs": [],
   "source": [
    "#\n",
    "# Type your code here\n",
    "#\n"
   ]
  },
  {
   "cell_type": "markdown",
   "metadata": {},
   "source": [
    "5\\.  What would you get if x were set to 13?  ***Enter Answer Here***"
   ]
  },
  {
   "cell_type": "markdown",
   "metadata": {},
   "source": [
    "6\\.  What hat would you get if x were set to 20?  ***Enter Answer Here***"
   ]
  },
  {
   "cell_type": "markdown",
   "metadata": {},
   "source": [
    "The ***not*** is handy because it changes a ***True*** to a ***False*** in an expression.  Try the following change.\n",
    "\n",
    "```Python\n",
    "x = 12\n",
    "if not x > 12 and x < 20:\n",
    "    print('x is something')\n",
    "else:\n",
    "    print('Nothing')    \n",
    "```"
   ]
  },
  {
   "cell_type": "code",
   "execution_count": 11,
   "metadata": {},
   "outputs": [],
   "source": [
    "#\n",
    "# Type your code here\n",
    "#\n"
   ]
  },
  {
   "cell_type": "markdown",
   "metadata": {},
   "source": [
    "The ***or*** operator is also a simple concept.  When ***or*** is used, it returns ***True*** if any of the cases are ***True***.  Try the following:\n",
    "\n",
    "```Python\n",
    "x = 0\n",
    "if  x > 12 or  x < 1:\n",
    "    print('x matches')\n",
    "else:\n",
    "    print('Nothing')\n",
    "```"
   ]
  },
  {
   "cell_type": "code",
   "execution_count": 12,
   "metadata": {},
   "outputs": [],
   "source": [
    "#\n",
    "# Type your code here\n",
    "#\n"
   ]
  },
  {
   "cell_type": "markdown",
   "metadata": {},
   "source": [
    "Another useful thing about booleans is that you are not restricted to only having one of them.  You can have multiples to build up more complex expressions.   The following expressions also work (do not type this into the code cell).\n",
    "\n",
    "```Python\n",
    "x=3\n",
    "y=4\n",
    "z=5\n",
    "if x== 5 or y == 5 or z== 5:\n",
    "    print('Match')\n",
    "else:\n",
    "    print('Nothing')\n",
    "```\n",
    "\n",
    "But what if you must mix Boolean operators?  If ***x=3*** and ***y=5*** and ***z=6***, is the following expression ***True*** or ***False***?\n",
    "\n",
    "```Python\n",
    "x=3\n",
    "y=4\n",
    "z=5\n",
    "if x == 3 and y == 6 or z == 6:\n",
    "    print('Hello')\n",
    "else:\n",
    "    print('Nothing')\n",
    "```"
   ]
  },
  {
   "cell_type": "code",
   "execution_count": 13,
   "metadata": {},
   "outputs": [],
   "source": [
    "#\n",
    "# Enter your code here\n",
    "#\n"
   ]
  },
  {
   "cell_type": "markdown",
   "metadata": {},
   "source": [
    "7\\.  Do you think this expression is *True* or *False*?  ***Enter Answer Here***"
   ]
  },
  {
   "cell_type": "markdown",
   "metadata": {},
   "source": [
    "Mixed expressions will evaluate based on internal Python rules, so it is highly recommended that you use parentheses, or you may get some unexpected results.  Like mathematical expressions, parentheses will force the order or evaluation.  Would the following expression be ***True*** or ***False***? Why?\n",
    "\n",
    "```Python\n",
    "if x == 3 and (y == 6 or z == 6):\n",
    "    print('Hello')\n",
    "```"
   ]
  },
  {
   "cell_type": "markdown",
   "metadata": {},
   "source": [
    "8\\.    ***Enter Answer Here***"
   ]
  },
  {
   "cell_type": "markdown",
   "metadata": {},
   "source": [
    "Do you think this expression is ***True*** or ***False***?\n",
    "\n",
    "```Python\n",
    "if (x == 3 and y == 6) or z == 6:\n",
    "    print('Hello')\n",
    "```"
   ]
  },
  {
   "cell_type": "markdown",
   "metadata": {},
   "source": [
    "9\\.   ***Enter Answer Here***"
   ]
  },
  {
   "cell_type": "markdown",
   "metadata": {},
   "source": [
    "###  Membership Operators\n",
    "\n",
    "In addition to the relational operators, Python also has **membership operators**.  These are used with collections (mainly lists, tuples, and dictionaries) to make it easy to see if a certain value is contained in the collection.  For example, try the following:\n",
    "\n",
    "```Python\n",
    "my_list=[1, 2, 3]\n",
    "\n",
    "if 2 in my_list:\n",
    "    print('OK')\n",
    "else:\n",
    "    print('NOK')\n",
    "```"
   ]
  },
  {
   "cell_type": "code",
   "execution_count": 14,
   "metadata": {},
   "outputs": [],
   "source": [
    "#\n",
    "# Type your code here\n",
    "#\n"
   ]
  },
  {
   "cell_type": "markdown",
   "metadata": {},
   "source": [
    "You can also turn this around and use the ***not*** operator see if something is not there.  Try this code:\n",
    "\n",
    "```Python\n",
    "my_list=[1, 2, 3]\n",
    "if 6 not in my_list:\n",
    "    print('OK')\n",
    "else:\n",
    "    print('NOK')\n",
    "```"
   ]
  },
  {
   "cell_type": "code",
   "execution_count": 15,
   "metadata": {},
   "outputs": [],
   "source": [
    "#\n",
    "# Type your code here\n",
    "#\n"
   ]
  },
  {
   "cell_type": "markdown",
   "metadata": {},
   "source": [
    "###  Conditional Expressions\n",
    "\n",
    "Finally, there is another, more compact way to write conditionals.  This form is more concise and not everyone uses it, but you may see this out in the real world, so we will be introduce it in this class.  This form of if statement is called a **conditional expression**. If you have a simple ***if*** statement like the following (do not type this into the code cell):\n",
    "\n",
    "```Python\n",
    "if x < 6:\n",
    "    print('OK')\n",
    "else:\n",
    "    print('NOK')\n",
    "```\n",
    "      \n",
    "You can rewrite it to look like the following:\n",
    "\n",
    "```Python\n",
    "print('OK') if x < 6 else print('NOK')\n",
    "```\n",
    "\n",
    "Try it in the code cell below:"
   ]
  },
  {
   "cell_type": "code",
   "execution_count": 17,
   "metadata": {},
   "outputs": [],
   "source": [
    "#\n",
    "# Type your code here\n",
    "#\n"
   ]
  },
  {
   "cell_type": "markdown",
   "metadata": {},
   "source": [
    "These expressions have the form of:\n",
    "\n",
    "`<Execute on True> if <condition> else <Execute on False>`\n",
    "    \n",
    "The condition can be as complex as needed, as well as the true expression and false expression (use parentheses), but very complex conditions are not recommended."
   ]
  },
  {
   "cell_type": "markdown",
   "metadata": {},
   "source": [
    "10\\.  What would be some of the advantages and disadvantages of using these types of expressions?  ***Enter Answer Here*** "
   ]
  }
 ],
 "metadata": {
  "kernelspec": {
   "display_name": "Python 3",
   "language": "python",
   "name": "python3"
  },
  "language_info": {
   "codemirror_mode": {
    "name": "ipython",
    "version": 3
   },
   "file_extension": ".py",
   "mimetype": "text/x-python",
   "name": "python",
   "nbconvert_exporter": "python",
   "pygments_lexer": "ipython3",
   "version": "3.6.3"
  }
 },
 "nbformat": 4,
 "nbformat_minor": 4
}
