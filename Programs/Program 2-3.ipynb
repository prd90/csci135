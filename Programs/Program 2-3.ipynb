{
 "cells": [
  {
   "cell_type": "markdown",
   "metadata": {},
   "source": [
    "# Program 2-3: Weather or Not\n",
    "\n",
    "THIS IS NOT HOMEWORK, BUT A FOR CREDIT ASSIGNMENT.  THIS ASSIGNMENT MUST BE COMPLETED INDIVIDUALLY.\n",
    "\n",
    "You have to manage some weather data for one favorite TV station (or streaming channel).  This program will require you to create/manage a more complex data structure.  The best approach is to think about the data structure (and maybe sketch it out on paper) in advance of the coding.   For this program, you will need to the following:\n",
    "\n",
    "1. Print a header with the name of the station or streaming service (make something up here).\n",
    "\n",
    "2. Create the weather data structure.  It must be:  A dictionary that contains three keys (one for each city:  *Conway*, *Myrtle Beach*, and *Aynor*).  The value associated with each of these keys is a dictionary with two keys, *temperature* and *humidity*.   Each of the values for these keys must be a list of temperatures.  For the initial data, just make up 5 temperatures and 5 humidity values for each city (please make all the numbers different).\n",
    "\n",
    "3. You will then ask the user for a menu option.  The function code to print the menu is included for you.\n",
    "\n",
    "4.  For option 1, you will prompt the user for a city name.  The print out all the values (one per line) for the temperatures for that city.  If the city name is not valid, just print an error and go back to the main menu.\n",
    "\n",
    "5.  For option 2, you will prompt the user for a city name.  The print out all the values (one per line) for the humifdity for that city.  If the city name is not valid, just print an error and go back to the main menu.\n",
    "\n",
    "6.  For option 3, you will list all the cities, using data from the dictionary, not hardcoded values.\n",
    "\n",
    "This assignment is not that long, but you need to think about it and use some of Python's feautures or it will be a lot of work.  This will give you practice on dealing with more complex data structures.\n",
    "\n",
    "Example input/output.  User input is in ***bold italic***.\n",
    "\n",
    ">Options\n",
    ">(1) Print out temperatures<br/>\n",
    ">(2) Print out humidity<br/>\n",
    ">(3) List cities<br/>\n",
    ">(4) Quit<br/>\n",
    " \n",
    ">Enter option: ***1***<br/>\n",
    ">City name: **Conway**<br/>\n",
    ">Temperatures for Conway<br/>\n",
    ">34<br/>\n",
    ">56<br/>\n",
    ">67<br/>\n",
    ">89<br/>\n",
    ">12<br/>\n",
    "  \n",
    ">Options<br/>\n",
    ">(1) Print out temperatures<br/>\n",
    ">(2) Print out humidity<br/>\n",
    ">(3) List cities<br/>\n",
    ">(4) Quit<br/>\n",
    " \n",
    ">Enter option: **1**<br/> \n",
    ">City name: **Conway**<br/>\n",
    "\n",
    ">Options<br/>\n",
    ">(1) Print out temperatures<br/>\n",
    ">(2) Print out humidity<br/>\n",
    ">(3) List cities<br/>\n",
    ">(4) Quit<br/>\n",
    " \n",
    ">Enter option: **3**<br><br/>\n",
    ">Cities are: Conway, Myrtle Beach, Aynor<br/>\n"
   ]
  },
  {
   "cell_type": "code",
   "execution_count": 3,
   "metadata": {},
   "outputs": [],
   "source": [
    "##\n",
    "## Display menu options function\n",
    "##\n",
    "\n",
    "def menu():\n",
    "    print('Options')\n",
    "    print('(1) Print out temperatures') \n",
    "    print('(2) Print out humidity') \n",
    "    print('(3) List cities')     \n",
    "    print('(4) Quit')\n",
    "    \n",
    "##\n",
    "## Enter the code for your program here\n",
    "##\n"
   ]
  }
 ],
 "metadata": {
  "kernelspec": {
   "display_name": "Python 3",
   "language": "python",
   "name": "python3"
  },
  "language_info": {
   "codemirror_mode": {
    "name": "ipython",
    "version": 3
   },
   "file_extension": ".py",
   "mimetype": "text/x-python",
   "name": "python",
   "nbconvert_exporter": "python",
   "pygments_lexer": "ipython3",
   "version": "3.8.5"
  }
 },
 "nbformat": 4,
 "nbformat_minor": 2
}
