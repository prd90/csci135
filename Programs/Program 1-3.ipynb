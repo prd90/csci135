{
 "cells": [
  {
   "cell_type": "markdown",
   "metadata": {},
   "source": [
    "# Program 1-3: Paging Doctor Chauncey\n",
    "\n",
    "THIS IS NOT HOMEWORK, BUT A FOR CREDIT ASSIGNMENT.  THIS ASSIGNMENT MUST BE COMPLETED INDIVIDUALLY.\n",
    "\n",
    "Chauncey loves animals!  This program requires you to create a simple program that will generate invoices for veterinary services. In order to make this assignment easier and to allow you to develop the program incrementally, it is written so that you can do each requirement and test it.  Once you have finished one requirement, move on to the next.  You don't have to create seperate programs, you can just add more to the same program, but approaching it incrementally will make the problem easier to solve.  Each requirement shows a sample output of the program after that feature is implemented.   Remember that user inputs are in ***bold italic***.\n",
    "\n",
    "The program requirements are:\n",
    "\n",
    "1. Output a menu of veterinary services and the corresponding cost of each service. \n",
    "\n",
    ">Chauncey's Vet Services<br/>\n",
    "\n",
    ">Exam: 45<br/>\n",
    ">Vaccinations: 32<br/>\n",
    ">Trim Nails: 8<br/>\n",
    ">Bath: 15<br/>\n",
    "\n",
    "2. Prompt the user for two services from the menu.  **Note: The user may enter 'None' or 'none' for either one (or both) of the services.  Every entry of 'none' or 'None' is a zero charge service**.\n",
    "\n",
    ">Chauncey's Vet Services<br/>\n",
    " \n",
    ">Exam: 45<br/>\n",
    ">Vaccinations: 32<br/>\n",
    ">Trim Nails: 8<br/>\n",
    ">Bath: 15<br/>\n",
    " \n",
    ">Select first service: ***Exam***<br/>\n",
    ">Select second service: ***Trim Nails***<br/>\n",
    " \n",
    "3. Output an invoice for the services selected. Output the cost for each service that is selected by the user and the total cost.\n",
    "\n",
    ">Chauncey's Vet Services<br/>\n",
    " \n",
    ">Exam: 45<br/>\n",
    ">Vaccinations: 32<br/>\n",
    ">Trim Nails: 8<br/>\n",
    ">Bath: 15<br/>\n",
    " \n",
    ">Select first service: ***Exam***<br/>\n",
    ">Select second service: ***Trim Nails***<br/>\n",
    " \n",
    ">Chauncey's Vet Invoice<br/>\n",
    ">Service 1 - Exam: 45<br/>\n",
    ">Service 2 - Trim Nails: 8<br/>\n",
    ">Total: 53<br/>\n",
    " \n",
    "\n",
    "Here is an example program execution when only one service is selected:\n",
    "\n",
    ">Chauncey's Vet Services<br/>\n",
    " \n",
    ">Exam: 45<br/>\n",
    ">Vaccinations: 32<br/>\n",
    ">Trim Nails: 8<br/>\n",
    ">Bath: 15<br/>\n",
    " \n",
    ">Select first service: ***Exam***<br/>\n",
    ">Select second service: ***none***<br/>\n",
    " \n",
    ">Chauncey's Vet Invoice<br/>\n",
    ">Service 1 - Exam: 45<br/>\n",
    ">Service 2 - None: 0<br/>\n",
    ">Total: 45<br/>\n"
   ]
  },
  {
   "cell_type": "code",
   "execution_count": 1,
   "metadata": {},
   "outputs": [],
   "source": [
    "##\n",
    "## Enter your code here\n",
    "##\n"
   ]
  }
 ],
 "metadata": {
  "kernelspec": {
   "display_name": "Python 3 (ipykernel)",
   "language": "python",
   "name": "python3"
  },
  "language_info": {
   "codemirror_mode": {
    "name": "ipython",
    "version": 3
   },
   "file_extension": ".py",
   "mimetype": "text/x-python",
   "name": "python",
   "nbconvert_exporter": "python",
   "pygments_lexer": "ipython3",
   "version": "3.9.6"
  }
 },
 "nbformat": 4,
 "nbformat_minor": 2
}
