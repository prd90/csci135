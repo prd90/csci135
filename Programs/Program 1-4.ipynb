{
 "cells": [
  {
   "cell_type": "markdown",
   "metadata": {},
   "source": [
    "# Program 1-4: Virtual Dog\n",
    "\n",
    "THIS IS NOT HOMEWORK, BUT A FOR CREDIT ASSIGNMENT.  THIS ASSIGNMENT MUST BE COMPLETED INDIVIDUALLY.\n",
    "\n",
    "This program assignment will have you design some simple function to create something that (sort of) acts like a virtual dog.  Your pupper will be really simple.  Please read the requirements carefully.  The requirements are:\n",
    "\n",
    "1. Create a simple function called dog_nap().  This function takes not arguments and has no return value.  When this fucntion is called, it will print out \"The Python dog is happy and napping\" \n",
    "\n",
    "2. Establish a global variable for the dog's name.  Set this variable to some string (just make up a name).\n",
    "\n",
    "3. Create a function called rename_dog() that takes one argument that is a new name for the dog and change the name of the pet.\n",
    " \n",
    "4. Create a function called pet_dog().  This function takes one argument, which is the number of times you pet the dog.  You need to calculate how many times the dog wags it's tail and return that value to the caller.  Our dog is very friendly and good natured, so they will wag their tail five times for every pet given.\n"
   ]
  },
  {
   "cell_type": "code",
   "execution_count": null,
   "metadata": {},
   "outputs": [],
   "source": [
    "\n",
    "##\n",
    "## Enter the code for your functions here\n",
    "##\n",
    "\n",
    "##\n",
    "## This is some test code to help you get started.  This series of calls will help you try out the functions.  Feel\n",
    "##   free to make changes to these arguments or the order.\n",
    "##\n",
    "\n",
    "print('Welcome to your virtual dog!')\n",
    "\n",
    "## Add code to print the dog's name\n",
    "\n",
    "## Call dog_nap()\n",
    "\n",
    "## Rename your dog something\n",
    "\n",
    "## Pet the dog and print the number of wags you get.\n"
   ]
  }
 ],
 "metadata": {
  "kernelspec": {
   "display_name": "Python 3",
   "language": "python",
   "name": "python3"
  },
  "language_info": {
   "codemirror_mode": {
    "name": "ipython",
    "version": 3
   },
   "file_extension": ".py",
   "mimetype": "text/x-python",
   "name": "python",
   "nbconvert_exporter": "python",
   "pygments_lexer": "ipython3",
   "version": "3.6.5"
  }
 },
 "nbformat": 4,
 "nbformat_minor": 2
}
