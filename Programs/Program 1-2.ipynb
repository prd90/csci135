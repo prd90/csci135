{
 "cells": [
  {
   "cell_type": "markdown",
   "metadata": {},
   "source": [
    "# Program 1-2: Smooth Operator\n",
    "\n",
    "THIS IS NOT HOMEWORK, BUT A FOR CREDIT ASSIGNMENT.  THIS ASSIGNMENT MUST BE COMPLETED INDIVIDUALLY.\n",
    "\n",
    "Create a program to help the user make smoothies! The program must do the following:\n",
    "\n",
    "1. Prompt the user for the number of cups of mango juice, milk, and kiwis needed\n",
    "\n",
    "2. Prompt the user for the number of servings that the entered values from step (1) makes. Output the ingredients and number of servings.\n",
    "\n",
    "3. Prompt the user to specify the desired number of servings. Adjust the amounts of each ingredient accordingly, and then output the ingredients and serving size.\n",
    "\n",
    "4. Convert the ingredient measurements from step (3) into gallons and change the output to add the amount in gallons. Note: There are 16 cups in a gallon.\n",
    "\n",
    "This is an example execution of the finished program.  Different values for inputs will be used when grading.\n",
    "\n",
    "\n",
    ">Enter amount of mango juice (in cups): ***2***<br/>\n",
    ">Enter amount of milk (in cups): ***4***<br/>\n",
    ">Enter amount of kiwis (in cups): ***8***<br/> \n",
    ">How many servings does this make? ***12***<br/>\n",
    "\n",
    ">Smoothie ingredients - yields 12.0 servings<br/>  \n",
    ">2.0 cup(s) mango juice<br/>  \n",
    ">4.0 cup(s) milk<br/>  \n",
    ">8.0 cup(s) kiwis<br/>\n",
    "\n",
    ">How many servings would you like to make? ***48***<br/> \n",
    ">Smoothie ingredients - yields 48.0 servings<br/>  \n",
    ">8.0 cup(s) or 0.5 gallon(s) mango juice<br/>  \n",
    ">16.0 cup(s) or 1.0 gallon(s) milk<br/> \n",
    ">32.0 cup(s) or 2.0 gallon(s) kiwis<br/>\n",
    " "
   ]
  },
  {
   "cell_type": "code",
   "execution_count": 1,
   "metadata": {},
   "outputs": [],
   "source": [
    "##\n",
    "## Enter your code here\n",
    "##\n"
   ]
  }
 ],
 "metadata": {
  "kernelspec": {
   "display_name": "Python 3",
   "language": "python",
   "name": "python3"
  },
  "language_info": {
   "codemirror_mode": {
    "name": "ipython",
    "version": 3
   },
   "file_extension": ".py",
   "mimetype": "text/x-python",
   "name": "python",
   "nbconvert_exporter": "python",
   "pygments_lexer": "ipython3",
   "version": "3.8.5"
  }
 },
 "nbformat": 4,
 "nbformat_minor": 2
}
