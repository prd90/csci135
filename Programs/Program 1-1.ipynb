{
 "cells": [
  {
   "cell_type": "markdown",
   "metadata": {},
   "source": [
    "# Program 1-1: Everyone Starts Somewhere\n",
    "\n",
    "THIS IS NOT HOMEWORK, BUT A FOR CREDIT ASSIGNMENT.  THIS ASSIGNMENT MUST BE COMPLETED INDIVIDUALLY.\n",
    "\n",
    "For this assignment, you will create a simple program based on the things we have learned.\n",
    "\n",
    "1. Create two variables and assign one a floating point value and one an integer value\n",
    "2. Have the program prompt you for your name\n",
    "3. Print out Hello and your name (see example below)\n",
    "4. Print out a line that includes the two numeric variables (see example below)\n",
    "5. Print the total of the numeric variables (see example below)\n",
    "\n",
    "This is an input/output of the finished program.  User input values are in ***bold italic***.  Different values for inputs will be used when grading.\n",
    "\n",
    "\n",
    ">Enter your name: ***Martha***  \n",
    ">Hello, Martha  \n",
    ">The integer number is 5 and the floating-point number is 1.3\n",
    ">The total is 6.3\n"
   ]
  },
  {
   "cell_type": "code",
   "execution_count": 2,
   "metadata": {},
   "outputs": [],
   "source": [
    "##\n",
    "## Enter your code here\n",
    "##\n",
    "#print(\"Enter your name:\")\n",
    "n1 = 5\n",
    "n2 \n",
    "name = input(\"Enter your name:\")\n",
    "print(\"Hello,\", name)"
   ]
  }
 ],
 "metadata": {
  "kernelspec": {
   "display_name": "Python 3 (ipykernel)",
   "language": "python",
   "name": "python3"
  },
  "language_info": {
   "codemirror_mode": {
    "name": "ipython",
    "version": 3
   },
   "file_extension": ".py",
   "mimetype": "text/x-python",
   "name": "python",
   "nbconvert_exporter": "python",
   "pygments_lexer": "ipython3",
   "version": "3.9.6"
  }
 },
 "nbformat": 4,
 "nbformat_minor": 2
}
