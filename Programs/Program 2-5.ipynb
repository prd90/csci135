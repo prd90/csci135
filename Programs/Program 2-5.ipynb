{
 "cells": [
  {
   "cell_type": "markdown",
   "metadata": {},
   "source": [
    "# Program 2-4: The Plot Thickens\n",
    "\n",
    "THIS IS NOT HOMEWORK, BUT A FOR CREDIT ASSIGNMENT.  THIS ASSIGNMENT MUST BE COMPLETED INDIVIDUALLY.\n",
    "\n",
    "For this assignment, you will need to create a plot.   You can plot any data you want, real or imagined (like the number of hours playing video games over the semester vs hours studying).  The plot must have the following:\n",
    "\n",
    "1. There must be two data lines of different color.  You pick what you want to plot.  Be creative/\n",
    "\n",
    "2. There must be a title on the plot\n",
    "\n",
    "3. There must be title's on both the X and Y axes (google for examples)\n",
    "\n",
    "4. Try to include at least two extra features (look online for examples), like vertical or horizontal lines (but you can have both, that only counts as one extra feature), text annotations, a legend, or any other optional thing."
   ]
  },
  {
   "cell_type": "code",
   "execution_count": null,
   "metadata": {},
   "outputs": [],
   "source": [
    "##\n",
    "## Enter you code here\n",
    "##\n"
   ]
  }
 ],
 "metadata": {
  "kernelspec": {
   "display_name": "Python 3",
   "language": "python",
   "name": "python3"
  },
  "language_info": {
   "codemirror_mode": {
    "name": "ipython",
    "version": 3
   },
   "file_extension": ".py",
   "mimetype": "text/x-python",
   "name": "python",
   "nbconvert_exporter": "python",
   "pygments_lexer": "ipython3",
   "version": "3.6.5"
  }
 },
 "nbformat": 4,
 "nbformat_minor": 2
}
