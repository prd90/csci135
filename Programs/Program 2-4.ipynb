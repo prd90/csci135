{
 "cells": [
  {
   "cell_type": "markdown",
   "metadata": {},
   "source": [
    "### Program 1-3\n",
    "\n",
    "In this programming assignment, you will need to do a simple program."
   ]
  },
  {
   "cell_type": "markdown",
   "metadata": {},
   "source": [
    "\n",
    "THIS IS NOT HOMEWORK, BUT A FOR CREDIT ASSIGNMENT.  THIS WORK IS TO BE COMPLETED INDIVIDUALLY.\n",
    "\n",
    "You need to create an application to track donations for a local charity.  They would like to be able to enter a goal and take donations until the goal is reached. If a user tries to donate a negative amount reject the donation and display an error message.\n",
    "\n",
    "A sample execution of the program should look like (user inputs are in ***bold italics***):\n",
    "\n",
    ">Some Charity Donation Tracker<br/>\n",
    "><br/>\n",
    ">Please enter your goal: ***100***<br/>\n",
    ">Current amount: 0<br/>\n",
    ">Please enter a donation amount: ***25***<br/>\n",
    ">Current amount: 25<br/>\n",
    ">Please enter a donation amount: ***50***<br/>\n",
    ">Current amount: 75<br/>\n",
    ">Please enter a donation amount: ***10***<br/>\n",
    ">Current amount: 85<br/>\n",
    ">Please enter a donation amount: ***-85***<br/>\n",
    ">You can't donate that amount of money!<br/>\n",
    ">Current amount: 85<br/>\n",
    ">Please enter a donation amount: ***15***<br/>\n",
    ">Congratulations, you met your goal!<br/>\n",
    "\n",
    "What is important in completing this assignment is that you use exception handling as we discussed in this week's material."
   ]
  },
  {
   "cell_type": "code",
   "execution_count": null,
   "metadata": {},
   "outputs": [],
   "source": [
    "##\n",
    "## Insert your code here\n",
    "##\n"
   ]
  }
 ],
 "metadata": {
  "kernelspec": {
   "display_name": "Python 3",
   "language": "python",
   "name": "python3"
  },
  "language_info": {
   "codemirror_mode": {
    "name": "ipython",
    "version": 3
   },
   "file_extension": ".py",
   "mimetype": "text/x-python",
   "name": "python",
   "nbconvert_exporter": "python",
   "pygments_lexer": "ipython3",
   "version": "3.8.5"
  }
 },
 "nbformat": 4,
 "nbformat_minor": 2
}
