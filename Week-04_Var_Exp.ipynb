{
 "cells": [
  {
   "cell_type": "markdown",
   "metadata": {},
   "source": [
    "## Lab - Python Variables and Expressions\n",
    "\n",
    "*There should be 2 error messages when doing this lab*"
   ]
  },
  {
   "cell_type": "markdown",
   "metadata": {},
   "source": [
    "###  Variables\n",
    "\n",
    "A variable is an important concept in Python.  For now, think of it as basically a container (like a box) that holds a value (it'a actually a little more complex, but this is a good analgy for now).  It's called a variable because the contents of this container can be changed as needed.   Creating variables in Python is easy.  You can do this just by assigning them values.  Try the following:\n",
    "\n",
    "```python\n",
    "num = 5\n",
    "print(num)\n",
    "```"
   ]
  },
  {
   "cell_type": "code",
   "execution_count": null,
   "metadata": {},
   "outputs": [],
   "source": [
    "#\n",
    "# Enter your code in this cell and run it\n",
    "#\n"
   ]
  },
  {
   "cell_type": "markdown",
   "metadata": {},
   "source": [
    "The first line of code created a variable called ***num*** and gave it a value of 5.   The second line tells Python to print the contents of the variable ***num*** in the output cell (which is right now is 5).\n",
    "\n",
    "What makes variables useful is that you can change the value of a variable at any point.  This means other parts of the program can just refer to the container name to get whatever the current value is stored in it.  Try the following:\n",
    "\n",
    "```Python\n",
    "num = 5\n",
    "print(num)\n",
    "num = 3\n",
    "print(num)\n",
    "```"
   ]
  },
  {
   "cell_type": "code",
   "execution_count": null,
   "metadata": {},
   "outputs": [],
   "source": [
    "#\n",
    "# Enter your code in this cell and run it\n",
    "#\n"
   ]
  },
  {
   "cell_type": "markdown",
   "metadata": {},
   "source": [
    "You can do a lot more with variables than just assign them fixed values, which we will talk about a little later in the lab.  But first, we need to talk about how they are implemented in Python.  Understanding the underlying architecture allows you to better understand how they behave in Python."
   ]
  },
  {
   "cell_type": "markdown",
   "metadata": {},
   "source": [
    "###  Objects and Their Properties\n",
    "\n",
    "Python's underlying architecture is based on **objects**.  It is important to understand the concept of objects because it helps you understand how Python works.\n",
    "\n",
    "Variables are related to objects and it's tempting to just consider them as the same thing, but they are two different things.   **Objects** actually contain/hold value(s) (and other characteristics we will learn about later in the course) and have unique internal id’s.   **Variables** point (are linked or connected) to an object and any variable which exists in Python is pointing to some object in Python.  This may seem like a trivial detail, but it will be important as you learn more about Python.  Fortunately, objects are created for you by Python whenever they are needed, for example, when you assign a value to a variable.\n",
    "\n",
    "Python object come in different \"flavors\" or **types**.  Different types can store different values (or number of values).  The *type()* function tells Python to show you the data type of the object pointed to by a variable.  When you give the ***type()*** function a variable as an argument, it will return the data type.  You can look at that by doing somewthing like:\n",
    "\n",
    "```Python\n",
    "num = 5\n",
    "t=type(num)\n",
    "print(t)\n",
    "```\n",
    "\n",
    "You can save a step by just providing the type function as an argument to ***print()***.  This type of function *nesting* is common in Python.  The innermost function will be evaluated first and the result of that function passed to the outer function.  Try this:\n",
    "\n",
    "```Python\n",
    "num = 5\n",
    "print(type(num))\n",
    "```"
   ]
  },
  {
   "cell_type": "code",
   "execution_count": 1,
   "metadata": {},
   "outputs": [],
   "source": [
    "#\n",
    "# Enter your code in this cell and run it\n",
    "#\n"
   ]
  },
  {
   "cell_type": "markdown",
   "metadata": {},
   "source": [
    "1\\.  What do do you think you got this answer means?  ***My answer***"
   ]
  },
  {
   "cell_type": "markdown",
   "metadata": {},
   "source": [
    "Since objects have **ID's**, let's check out some object **ID's** using the ***id()*** function.  Try the following code **twice**.  However, instead of typing *\\<Pick your own integer here\\>* just enter some number of your own choosing. \n",
    "\n",
    "```Python\n",
    "num = <Pick your own integer here>\n",
    "print(type(num))\n",
    "print(id(num))\n",
    "```"
   ]
  },
  {
   "cell_type": "code",
   "execution_count": null,
   "metadata": {},
   "outputs": [],
   "source": [
    "#\n",
    "# Enter your code in this cell and run it\n",
    "#\n"
   ]
  },
  {
   "cell_type": "markdown",
   "metadata": {},
   "source": [
    "Now let's try it with two variables.  Enter the following code: \n",
    " \n",
    "```Python\n",
    "one = 9\n",
    "print(one)\n",
    "print(id(one))\n",
    "two=9\n",
    "print(two)\n",
    "print(id(two))\n",
    "```"
   ]
  },
  {
   "cell_type": "code",
   "execution_count": null,
   "metadata": {},
   "outputs": [],
   "source": [
    "#\n",
    "# Enter your code in this cell and run it\n",
    "#\n"
   ]
  },
  {
   "cell_type": "markdown",
   "metadata": {},
   "source": [
    "2\\.  Are the object id's the same?  The same as the previous step?  Why do you think you got the answers that you did?  ***Enter Answer Here***"
   ]
  },
  {
   "cell_type": "markdown",
   "metadata": {},
   "source": [
    "###  Variable Naming rules\n",
    "\n",
    "As you can see variables all have names.  While Python is very flexible on the names you can use, there are some rules for the names:\n",
    "\n",
    "- Variables can only contain letters, numbers, and underscores. Variable names can start with a letter or an underscore, but can not start with a number\n",
    "- Spaces are not allowed in variable names, so we use underscores instead of spaces. For example, use student_name instead of \"student name\"\n",
    "- You cannot use Python keywords as variable names (when you are using the editor or the ZyBook, iit colors reserved words differently to help you avoid this problem)\n",
    "- Variable names should be descriptive, without being too long. For example mc_wheels is better than just \"wheels\", and number_of_wheels_on_a_motorycle\n",
    "- Be careful about using the lowercase letter l and the uppercase letter O in places where they could be confused with the numbers 1 and 0\n",
    "\n",
    "Try the following variable names one a time in the code cell:\n",
    "\n",
    "A.  num=5\n",
    "\n",
    "B.  Num=\n",
    "\n",
    "C.  1num= 5\n",
    "\n",
    "D.  _num=8\n",
    "\n",
    "E.  Num again=6\n",
    "\n",
    "F.  Num$also=7\n"
   ]
  },
  {
   "cell_type": "code",
   "execution_count": null,
   "metadata": {},
   "outputs": [],
   "source": [
    "##\n",
    "## You can use this cell to try your code\n",
    "##\n"
   ]
  },
  {
   "cell_type": "markdown",
   "metadata": {},
   "source": [
    "3\\.  Which variable names work?  Which ones do not?  ***Enter Answer Here***"
   ]
  },
  {
   "cell_type": "markdown",
   "metadata": {},
   "source": [
    "###  NameError\n",
    "\n",
    "There is one common error when using variables that you will encounter at some point. Try the following code:\n",
    "\n",
    "```Python\n",
    "message = \"Python Rocks!\"\n",
    "print(mesage)\n",
    "```"
   ]
  },
  {
   "cell_type": "code",
   "execution_count": null,
   "metadata": {},
   "outputs": [],
   "source": [
    "#\n",
    "# Enter your code in this cell and run it\n",
    "#\n"
   ]
  },
  {
   "cell_type": "markdown",
   "metadata": {},
   "source": [
    "Let's look at that result. First, we see the module that caused the error, (it would be the filename of your program if this were an actual stand alone program)  and what line in that file caused the error. Then we get the name of the error (in this case *NameError*) and some more specific feedback, that \"name 'mesage' is not defined\".\n",
    "\n",
    "Python only cares that the spellings of our variable names match every time we use them.  This is pretty important, because it allows us to have a variable \"name\" and then another variable \"names\" which are completely different.  This can be a common source of programming errors since it is easy to miss the fact that the 's' is missing.  This is also why it is a a very good idea to have variable names that are more unique, instead of making them plural or having names like a1, a2, a3, etc.  We can fix NameErrors by making sure all of our variable names are spelled consistently.  Go ahead and fix the problem and make a working version of the following code:\n",
    "\n",
    "```Python\n",
    "message = \"Thank you for sharing Python with the world, Guido!\"\n",
    "print(mesage)\n",
    "```"
   ]
  },
  {
   "cell_type": "code",
   "execution_count": null,
   "metadata": {},
   "outputs": [],
   "source": [
    "#\n",
    "# Enter your corrected code in this cell and run it\n",
    "#\n"
   ]
  },
  {
   "cell_type": "markdown",
   "metadata": {},
   "source": [
    "###  Changing Data Types/Values\n",
    "\n",
    "As we have seen, once a variable is defined it points to an object that has a *type*. We also know we can change the values, but does the type mean that you must always use the same type when you assign new values to the variables?   Try the following code\n",
    "\n",
    "```Python\n",
    "num = 5\n",
    "print(type(num))\n",
    "num = 'What'\n",
    "print(type(num))\n",
    "```"
   ]
  },
  {
   "cell_type": "code",
   "execution_count": null,
   "metadata": {},
   "outputs": [],
   "source": [
    "#\n",
    "# Enter your code in this cell and run it\n",
    "#\n"
   ]
  },
  {
   "cell_type": "markdown",
   "metadata": {},
   "source": [
    "4\\. What is the type of the new variable?  What in the way Python is implemented makes it possible to switch types?  ***Enter Answer Here***"
   ]
  },
  {
   "cell_type": "markdown",
   "metadata": {},
   "source": [
    "###  Floating-Point Numbers\n",
    "\n",
    "So far we have mostly worked with *integers*.  These are whole numbers only (eg. 1, 2, or 3 - no decimals or fractional parts).  However many things are measured with fractional numbers (like money).  **Floating-point** numbers refer to any number with a decimal point.  Try the following:\n",
    "\n",
    "```Python\n",
    "print(0.1+0.1)\n",
    "print(0.1+0.2)\n",
    "```"
   ]
  },
  {
   "cell_type": "code",
   "execution_count": null,
   "metadata": {},
   "outputs": [],
   "source": [
    "#\n",
    "# Enter your code in this cell and run it\n",
    "#\n"
   ]
  },
  {
   "cell_type": "markdown",
   "metadata": {},
   "source": [
    "5\\. Is it what you expected?  What did you expect?  Before reading further, can you make a guess as to why you got what you did?   ***Enter Answer Here***"
   ]
  },
  {
   "cell_type": "markdown",
   "metadata": {},
   "source": [
    "This happens because of the way computers represent numbers internally and is not particular to Python, but will change depending on the computer archotecture.  We are used to working in powers of ten, where one tenth plus two tenths is just three tenths, but computers work in powers of two. So the computer has to represent 0.1 in a power of two, and then 0.2 as a power of two, and express their sum as a power of two. There is no exact representation for 0.3 in powers of two, and we see that in the answer to 0.1+0.2.  Computers use a lot of precision to minimize this problem and Python tries to hide this kind of stuff when possible. Don't worry about it much for now; just don't be surprised by it, and know that we will learn to clean up our results a little later on.  Try the following:\n",
    "\n",
    "```Python\n",
    "print(3*0.1)\n",
    "```"
   ]
  },
  {
   "cell_type": "code",
   "execution_count": null,
   "metadata": {},
   "outputs": [],
   "source": [
    "#\n",
    "# Enter your code in this cell and run it\n",
    "#\n"
   ]
  },
  {
   "cell_type": "markdown",
   "metadata": {},
   "source": [
    "Depending on the version of Python and your host computer, you may see another floating point number format.  Really small and really big numbers are hard to print out and even harder to read unless you use some kind of shorthand.  Python can print floating point numbers in **scientific notation** format.  For example If you have a number 1,000 this can also be written as:\n",
    "\n",
    "3 x 10<sup>3</sup>\n",
    "\n",
    "There is no superscript in Python code, so you would write this as ***3e+3***.  The **e** in the number tells Python you are using scientific notation.  Try the following code.\n",
    "\n",
    "```Python\n",
    "print(3e-3)\n",
    "```"
   ]
  },
  {
   "cell_type": "code",
   "execution_count": null,
   "metadata": {},
   "outputs": [],
   "source": [
    "#\n",
    "# Enter your code in this cell and run it\n",
    "#\n"
   ]
  },
  {
   "cell_type": "markdown",
   "metadata": {},
   "source": [
    "###  Arithmetic Expressions\n",
    "\n",
    "Python supports the concept of **expressions**.  Simply put, an expression is section of code that when Python executes it, it will return a value.   You often see expressions on the right hand side of a an assignment ( = ) operation.  For example, when you say ***num=5***, the 5 is the epxression (a really simple one).\n",
    "\n",
    "Expressions can be more complex.  You can do all of the basic artihmetic operations with numbers like addition and subtraction using the standard plus and minus symbols. Multiplication uses the asterisk, and division uses a forward slash. Exponents use two asterisks.\n",
    "\n",
    "Try the following:\n",
    "\n",
    "```Python\n",
    "print(3+2)\n",
    "print(3-2)\n",
    "print(3*2)\n",
    "print(3**2)\n",
    "```\n"
   ]
  },
  {
   "cell_type": "code",
   "execution_count": null,
   "metadata": {},
   "outputs": [],
   "source": [
    "#\n",
    "# Enter your code in this cell and run it\n",
    "#\n"
   ]
  },
  {
   "cell_type": "markdown",
   "metadata": {},
   "source": [
    "6\\.  There is a potential side effect of an expression to note.  If you were to try the expression:\n",
    "\n",
    "```Python\n",
    "print(3/2)\n",
    "```\n",
    "\n",
    "What do you think you would get as the answer?  ***Enter Answer Here***"
   ]
  },
  {
   "cell_type": "markdown",
   "metadata": {},
   "source": [
    "Try this expression now:\n",
    "\n",
    "```Python\n",
    "print(3/2)\n",
    "```"
   ]
  },
  {
   "cell_type": "code",
   "execution_count": null,
   "metadata": {},
   "outputs": [],
   "source": [
    "#\n",
    "# Enter your code in this cell and run it\n",
    "#\n"
   ]
  },
  {
   "cell_type": "markdown",
   "metadata": {},
   "source": [
    "7\\.  Why do you think you received this answer?  ***Enter Answer Here***"
   ]
  },
  {
   "cell_type": "markdown",
   "metadata": {},
   "source": [
    "###  Order of Operations\n",
    "\n",
    "8\\. What do you think the following generates?\n",
    "\n",
    "```Python\n",
    "result = 3*4+2\n",
    "print(result)\n",
    "```\n",
    "\n",
    "  ***Enter Answer Here***"
   ]
  },
  {
   "cell_type": "markdown",
   "metadata": {},
   "source": [
    "Try the following in the code cell:\n",
    "\n",
    "```Python\n",
    "result = 3*4+2\n",
    "print(result)\n",
    "```"
   ]
  },
  {
   "cell_type": "code",
   "execution_count": null,
   "metadata": {},
   "outputs": [],
   "source": [
    "#\n",
    "# Enter your code in this cell and run it\n",
    "#\n"
   ]
  },
  {
   "cell_type": "markdown",
   "metadata": {},
   "source": [
    "9\\. Try to guess what would you get if you try the following:\n",
    "\n",
    "```Python\n",
    "result = 2+3*4\n",
    "print(result)\n",
    "```\n",
    "\n",
    "  ***Enter Answer Here***"
   ]
  },
  {
   "cell_type": "markdown",
   "metadata": {},
   "source": [
    "Now try the following:\n",
    "\n",
    "```Python\n",
    "result = 2+3*4\n",
    "print(result)\n",
    "```"
   ]
  },
  {
   "cell_type": "code",
   "execution_count": null,
   "metadata": {},
   "outputs": [],
   "source": [
    "#\n",
    "# Enter your code in this cell and run it\n",
    "#\n"
   ]
  },
  {
   "cell_type": "markdown",
   "metadata": {},
   "source": [
    "10\\.  If these expressions seem to act differently, why do you think that is?   ***Enter Answer Here***"
   ]
  },
  {
   "cell_type": "markdown",
   "metadata": {},
   "source": [
    "This is due to the order of operations in Python.  There are specific rules for the order of operations (see the lecture slides for this week).  You can use the PEMDAS acronym to remember them, but it’s better to use parantheses to force the order of operations because it's easier to read and it forces Python to do the expression the way you want.  Try:\n",
    "\n",
    "```Python\n",
    "my_order = (2+3)*4\n",
    "print(my_order)\n",
    "```"
   ]
  },
  {
   "cell_type": "code",
   "execution_count": null,
   "metadata": {},
   "outputs": [],
   "source": [
    "#\n",
    "# Enter your code in this cell and run it\n",
    "#\n"
   ]
  },
  {
   "cell_type": "markdown",
   "metadata": {},
   "source": [
    "###  Strings\n",
    "\n",
    "Strings are containers while hold on or more characters. They are ordered sets because the characters always occur in a specific order (i.e. you don’t get random characters back when you access the string). We will dive deeper into strings later in the course, but here are some basic examples.\n",
    "\n",
    "Strings are enclosed by either single or double quotes in Python.  You can use either one when making strings (as long as you start and end a string with same type of quote).\n",
    "\n",
    "```Python\n",
    "my_str1 = \"This is a string.\"\n",
    "my_str2 = 'This is a string.'\n",
    "print(my_str1)\n",
    "print(type(my_str1))\n",
    "print(my_str2)\n",
    "```"
   ]
  },
  {
   "cell_type": "code",
   "execution_count": 4,
   "metadata": {},
   "outputs": [],
   "source": [
    "#\n",
    "# Enter your code in this cell and run it\n",
    "#\n"
   ]
  },
  {
   "cell_type": "markdown",
   "metadata": {},
   "source": [
    "One handy result of being able to use either symbol is it lets you make strings that contain single or double quotes more easily.  Try the following:\n",
    "\n",
    "```Python\n",
    "quote = \"Dog says'Woof'\"\n",
    "print(quote)\n",
    "quote = 'Cat says\"Meow\"'\n",
    "print(quote)\n",
    "```"
   ]
  },
  {
   "cell_type": "code",
   "execution_count": null,
   "metadata": {},
   "outputs": [],
   "source": [
    "#\n",
    "# Enter your code in this cell and run it\n",
    "#\n"
   ]
  },
  {
   "cell_type": "markdown",
   "metadata": {},
   "source": [
    "What do you get if you do?\n",
    "\n",
    "```Python\n",
    "quote = \"Dog says \"Woof\"\"\n",
    "```\n"
   ]
  },
  {
   "cell_type": "markdown",
   "metadata": {},
   "source": [
    "11\\. What do you get?  Why?   ***Enter Answer Here***"
   ]
  },
  {
   "cell_type": "code",
   "execution_count": null,
   "metadata": {},
   "outputs": [],
   "source": [
    "#\n",
    "# Enter your code in this cell and run it\n",
    "#\n"
   ]
  },
  {
   "cell_type": "markdown",
   "metadata": {},
   "source": [
    "###  Blank Space\n",
    "\n",
    "The term blank space refers to characters that the computer can print, but are usually invisible to readers. The most common blank space characters are spaces, tabs, and newlines.  Spaces are easy to create, because you can just type a space. Tabs and newlines are different in Python and need to be represented by special character combinations.  The two-character combination \"\\t\" makes a tab appear in a string. Tabs can be used anywhere you like in a string.  Try the following.\n",
    "\n",
    "```Python\n",
    "print(\"Hello everyone!\")\n",
    "print(\"\\tHello everyone!\")\n",
    "print(\"Hello /teveryone!\")\n",
    "```"
   ]
  },
  {
   "cell_type": "code",
   "execution_count": null,
   "metadata": {},
   "outputs": [],
   "source": [
    "#\n",
    "# Enter your code in this cell and run it\n",
    "#\n"
   ]
  },
  {
   "cell_type": "markdown",
   "metadata": {},
   "source": [
    "The combination \"\\n\" makes a newline appear in a string. A newline causes any following output to be put on the next line.  You can use newlines anywhere you like in a string.  Try the following:\n",
    "\n",
    "```Python\n",
    "print(\"Hello everyone!\")\n",
    "print(\"\\nHello everyone!\")\n",
    "print(\"Hello \\neveryone!\")\n",
    "print(\"\\n\\n\\nHello everyone!\")\n",
    "```"
   ]
  },
  {
   "cell_type": "code",
   "execution_count": null,
   "metadata": {},
   "outputs": [],
   "source": [
    "#\n",
    "# Enter your code in this cell and run it\n",
    "#\n"
   ]
  },
  {
   "cell_type": "markdown",
   "metadata": {},
   "source": [
    "It is important to note here that when you use print, it automatically addds a newline after it prints wht you requested.  Try the following:\n",
    "\n",
    "```Python\n",
    "print(\"Hello everyone!\\n\")\n",
    "```"
   ]
  },
  {
   "cell_type": "code",
   "execution_count": null,
   "metadata": {},
   "outputs": [],
   "source": [
    "#\n",
    "# Enter your code in this cell and run it\n",
    "#\n"
   ]
  },
  {
   "cell_type": "markdown",
   "metadata": {},
   "source": [
    "###  Inside Strings\n",
    "\n",
    "The way strings are done in Python is with objects (of course), but how are the character values encoded?  Each character is encoded into a specific 8-bit (0-255) value.  The exact mapping varies depending on which character set you use (there are different ones for different languages and countries), but the most common one in the U.S. is UTF-8 (which we will use in this example).  Type the following.\n",
    "\n",
    "```Python\n",
    "ord('0')\n",
    "ord(';')\n",
    "```"
   ]
  },
  {
   "cell_type": "code",
   "execution_count": null,
   "metadata": {},
   "outputs": [],
   "source": [
    "#\n",
    "# Enter your code in this cell and run it\n",
    "#\n"
   ]
  },
  {
   "cell_type": "markdown",
   "metadata": {},
   "source": [
    "The same conversion works the opposite way, you can type the 8 bit coding value and see what character you get by using the *chr()* function.  Try the following code:\n",
    "\n",
    "```Python\n",
    "char(32)\n",
    "chr(50)\n",
    "```"
   ]
  },
  {
   "cell_type": "code",
   "execution_count": null,
   "metadata": {},
   "outputs": [],
   "source": [
    "#\n",
    "# Enter your code in this cell and run it\n",
    "#\n"
   ]
  },
  {
   "cell_type": "markdown",
   "metadata": {},
   "source": [
    "12\\.  Why might you want to do this?  ***Enter Answer Here***"
   ]
  }
 ],
 "metadata": {
  "kernelspec": {
   "display_name": "Python 3",
   "language": "python",
   "name": "python3"
  },
  "language_info": {
   "codemirror_mode": {
    "name": "ipython",
    "version": 3
   },
   "file_extension": ".py",
   "mimetype": "text/x-python",
   "name": "python",
   "nbconvert_exporter": "python",
   "pygments_lexer": "ipython3",
   "version": "3.6.3"
  }
 },
 "nbformat": 4,
 "nbformat_minor": 4
}
