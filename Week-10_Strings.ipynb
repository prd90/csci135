{
 "cells": [
  {
   "cell_type": "markdown",
   "metadata": {},
   "source": [
    "# Lab - Strings\n",
    "\n",
    "*There are 2 intentional errors in this lab*"
   ]
  },
  {
   "cell_type": "markdown",
   "metadata": {},
   "source": [
    "###  Strings Review\n",
    "\n",
    "You have been using strings, but now we will look at them in more detail. First a quick review.  Since strings are (**ordered**) **sequences** of characters, you can pull out individual characters or groups of characters from the strings (i.e. **slicing**).  You do this using an **index** which indicates which character(s) you want from the string.  You then put this in square brackets after the variable and it will return a new string with only the character(s) requested.\n",
    "\n",
    "As you may recall, you can use single indicies (positive of negative) to return on character strings, or ranges for slices.\n",
    "\n",
    "Try the following.\n",
    "\n",
    "```Python\n",
    "my_str= 'Hello There'\n",
    "print(my_str[1])\n",
    "print(my_str[4])\n",
    "print(my_str[-1])\n",
    "print(my_str[0:4])\n",
    "print(my_str[-13:-6])\n",
    "```\n"
   ]
  },
  {
   "cell_type": "code",
   "execution_count": 3,
   "metadata": {},
   "outputs": [],
   "source": [
    "##\n",
    "## Enter your code here\n",
    "##\n"
   ]
  },
  {
   "cell_type": "markdown",
   "metadata": {},
   "source": [
    "1\\.  What does the second index number represent?   ***Enter Answer Here***"
   ]
  },
  {
   "cell_type": "markdown",
   "metadata": {},
   "source": [
    "###  A Closer Look at Strings and Methods\n",
    "\n",
    "Strings are implemented as **objects**, like most everything in Python.   *Objects* can have one or more values and can contain methods, which are functions built into the object that allow you to operate on those values.  Strings have a lot of methods which are convenient for manipulating the string value in the object.  As a reminder, we call methods using the form ***<object_name>.<method_name>()***, where the object name is the variable assigned to the object and the method name is the method you wish to call.\n",
    "\n",
    "Let’s look at an example.  It is common to have a string of characters which needs to be broken into separate parts.  The parts are usually separated by specific characters which mark where fields begin and end.  These are called **delimiters**.  You can use the ***split()*** method in Python to break a string into a list of components based on a delimiter value.\n",
    "\n",
    "The simplest delimiter is one or more spaces that separate words, so by default, the ***split()*** methods assumes the delimiter is a space or a tab.  Try the following:\n",
    "\n",
    "```Python\n",
    "x = 'This is a test'\n",
    "y = x.split()\n",
    "print(y)\n",
    "```\n"
   ]
  },
  {
   "cell_type": "code",
   "execution_count": 4,
   "metadata": {},
   "outputs": [],
   "source": [
    "##\n",
    "## Enter your code here\n",
    "##\n"
   ]
  },
  {
   "cell_type": "markdown",
   "metadata": {},
   "source": [
    "Now try the following:\n",
    "\n",
    "```Python\n",
    "print(x)\n",
    "```\n"
   ]
  },
  {
   "cell_type": "code",
   "execution_count": 5,
   "metadata": {},
   "outputs": [],
   "source": [
    "##\n",
    "## Enter your code here\n",
    "##\n"
   ]
  },
  {
   "cell_type": "markdown",
   "metadata": {},
   "source": [
    "2\\.  What did you get and why?   ***Enter Answer Here***"
   ]
  },
  {
   "cell_type": "markdown",
   "metadata": {},
   "source": [
    "The original string was not changed because string objects are **immutable** (so the method would destroy itself), but the method instead returns a new object with the results.  What if there are multiple spaces?  Try the following code in the interpreter.\n",
    "\n",
    "```Python\n",
    "x='A lot of              spaces'\n",
    "print(x.split())\n",
    "```\n"
   ]
  },
  {
   "cell_type": "code",
   "execution_count": 6,
   "metadata": {},
   "outputs": [],
   "source": [
    "##\n",
    "## Enter your code here\n",
    "##\n"
   ]
  },
  {
   "cell_type": "markdown",
   "metadata": {},
   "source": [
    "The **split()** method is smart enough to be able to handle multiple **delimiters**.  But what if your delimiters are not spaces or tabs?  The ***split()*** method can handle these as well.  You can provide an argument to ***split()*** and this argument specifies what to use as a delimiter instead of space or tab.  Try the following:\n",
    "\n",
    "```Python\n",
    "y='Hello, Python'\n",
    "y.split(',')\n",
    "```\n"
   ]
  },
  {
   "cell_type": "code",
   "execution_count": 7,
   "metadata": {},
   "outputs": [],
   "source": [
    "##\n",
    "## Enter your code here\n",
    "##\n"
   ]
  },
  {
   "cell_type": "markdown",
   "metadata": {},
   "source": [
    "3\\.  What did you get?  How did split treat the space?   ***Enter Answer Here***"
   ]
  },
  {
   "cell_type": "markdown",
   "metadata": {},
   "source": [
    "That worked (hopefully) as expected but notice that the second argument includes the space (since it was not treated as a delimiter).   What if you wanted to split on the comma, but also wanted to lose the space?  Try making the following:\n",
    "\n",
    "```Python\n",
    "y.split(', ')   ## There is a space between the comma and closing single comma\n",
    "```\n"
   ]
  },
  {
   "cell_type": "code",
   "execution_count": 8,
   "metadata": {},
   "outputs": [],
   "source": [
    "##\n",
    "## Enter your code here\n",
    "##\n"
   ]
  },
  {
   "cell_type": "markdown",
   "metadata": {},
   "source": [
    "Now that you are experts in splitting strings, you can try joining them.  We have discussed **concatenating** (adding) strings with the ***+*** operator, but what if you want to add strings together but also add a delimiter character between each of the strings?   You can do this with the ***join()*** method.   The ***join()*** method is called differently than when you add strings together.  You need to declare some sort of string (can be anything) which will be the delimiter value and then call the ***join()*** method from that string with a list of strings to join together.  Let’s try a few examples to make this clearer.  Try the following:\n",
    "\n",
    "```Python\n",
    "sep=':'\n",
    "x=sep.join(['a','b'])\n",
    "print(x)\n",
    "```\n"
   ]
  },
  {
   "cell_type": "code",
   "execution_count": 9,
   "metadata": {},
   "outputs": [],
   "source": [
    "##\n",
    "## Enter your code here\n",
    "##\n"
   ]
  },
  {
   "cell_type": "markdown",
   "metadata": {},
   "source": [
    "4\\.  Does that make sense?   What if you had three or four elements in the list you specified in the ***join()***.  What would you get then?   ***Enter Answer Here***"
   ]
  },
  {
   "cell_type": "markdown",
   "metadata": {},
   "source": [
    "Generally, the string methods can be divided into two groups, **string checking** and **string modifying**.  First let’s talk about the **string checking** methods.  These are methods that will look at all the characters in a string and perform some sort of test on them and then return either ***True*** or ***False***.  Let’s look at an example.  The ***islower()*** method tests whether all the characters in a string are lower case or not.  Try the following:\n",
    "\n",
    "```Python\n",
    "a='X'\n",
    "b='x'\n",
    "c=';'\n",
    "print(a.islower())\n",
    "print(b.islower())\n",
    "print(c.islower())\n",
    "```\n"
   ]
  },
  {
   "cell_type": "code",
   "execution_count": 10,
   "metadata": {},
   "outputs": [],
   "source": [
    "##\n",
    "## Enter your code here\n",
    "##\n"
   ]
  },
  {
   "cell_type": "markdown",
   "metadata": {},
   "source": [
    "5\\.  What did you get? Why?   ***Enter Answer Here***"
   ]
  },
  {
   "cell_type": "markdown",
   "metadata": {},
   "source": [
    "Notice that the check for ***c*** failed.  That’s because special characters don’t have any case, so the test will automatically fail.  There are many different tests available and some have options you can specify.  You can look in the Python documentation for other tests.\n",
    "\n",
    "The other type of methods are **string modifying**.  These methods make changes to the string.  Remember, that because strings are **immutable**, these methods will return a modifed copy of the string and *not modify* the original string.  One example is the ***upper()*** method, which make all the characters in a string upper case.  Try the following:\n",
    "\n",
    "```Python\n",
    "print(a.upper())\n",
    "print(b.upper())\n",
    "print(c.upper())\n",
    "```\n"
   ]
  },
  {
   "cell_type": "code",
   "execution_count": 11,
   "metadata": {},
   "outputs": [],
   "source": [
    "##\n",
    "## Enter your code here\n",
    "##\n"
   ]
  },
  {
   "cell_type": "markdown",
   "metadata": {},
   "source": [
    "You may find yourself needing to look for certain characters in a string.  You can do this using the ***find()*** method.  This method searches the string for a match to the argument provided (note the argument can be more than one character and if so, that substring will need to be matched identically) and returns the index of the first match.  Try the following (you should not get errors on this step):\n",
    "\n",
    "```Python\n",
    "print(y.find('o'))\n",
    "print(y.find('on'))\n",
    "print(y.find('g'))\n",
    "```\n"
   ]
  },
  {
   "cell_type": "code",
   "execution_count": 12,
   "metadata": {},
   "outputs": [],
   "source": [
    "##\n",
    "## Enter your code here\n",
    "##\n"
   ]
  },
  {
   "cell_type": "markdown",
   "metadata": {},
   "source": [
    "What value did you get back and what does this value represent?"
   ]
  },
  {
   "cell_type": "markdown",
   "metadata": {},
   "source": [
    "6\\.  **Enter your answer here**"
   ]
  },
  {
   "cell_type": "markdown",
   "metadata": {},
   "source": [
    "Note that you get **-1** if there are no matches.  You can also limit the searches in the string by specifying a start and/or ending index in the ***find()*** method.  This limits the search to that particular substring .  Try the following in the code cell:\n",
    "\n",
    "```Python\n",
    "print(y)\n",
    "y.find('o',7)\n",
    "```\n"
   ]
  },
  {
   "cell_type": "code",
   "execution_count": 13,
   "metadata": {},
   "outputs": [],
   "source": [
    "##\n",
    "## Enter your code here\n",
    "##\n"
   ]
  },
  {
   "cell_type": "markdown",
   "metadata": {},
   "source": [
    "Do you think this indexing matches the regular string indicies?"
   ]
  },
  {
   "cell_type": "markdown",
   "metadata": {},
   "source": [
    "7\\.  **Enter your answer here**"
   ]
  },
  {
   "cell_type": "markdown",
   "metadata": {},
   "source": [
    "Now try the following in the code cell:\n",
    "  \n",
    "```Python\n",
    "print(y)\n",
    "y.find('on',7,12)\n",
    "```\n"
   ]
  },
  {
   "cell_type": "code",
   "execution_count": 14,
   "metadata": {},
   "outputs": [],
   "source": [
    "##\n",
    "## Enter your code here\n",
    "##\n"
   ]
  },
  {
   "cell_type": "markdown",
   "metadata": {},
   "source": [
    "Does the indices work like they do with slicing?"
   ]
  },
  {
   "cell_type": "markdown",
   "metadata": {},
   "source": [
    "8\\.  **Enter your answer here**"
   ]
  },
  {
   "cell_type": "markdown",
   "metadata": {},
   "source": [
    "Now try the following:\n",
    "\n",
    "```Python\n",
    "print(y)\n",
    "print(y.find('ell',1))\n",
    "print(y.find('ell',2))\n",
    "```\n"
   ]
  },
  {
   "cell_type": "code",
   "execution_count": 15,
   "metadata": {},
   "outputs": [],
   "source": [
    "##\n",
    "## Enter your code here\n",
    "##\n"
   ]
  },
  {
   "cell_type": "markdown",
   "metadata": {},
   "source": [
    "What did you get?  Why?"
   ]
  },
  {
   "cell_type": "markdown",
   "metadata": {},
   "source": [
    "9\\.  **Enter your answer here**"
   ]
  },
  {
   "cell_type": "markdown",
   "metadata": {},
   "source": [
    "Now try the following:\n",
    "\n",
    "      \n",
    "```Python\n",
    "print(y)\n",
    "print(y.find('ell',1,3))\n",
    "print(y.find('ell',1,3))\n",
    "```\n"
   ]
  },
  {
   "cell_type": "code",
   "execution_count": 16,
   "metadata": {},
   "outputs": [],
   "source": [
    "##\n",
    "## Enter your code here\n",
    "##\n"
   ]
  },
  {
   "cell_type": "markdown",
   "metadata": {},
   "source": [
    "Why did this fail?"
   ]
  },
  {
   "cell_type": "markdown",
   "metadata": {},
   "source": [
    "10\\.  **Enter your answer here**"
   ]
  },
  {
   "cell_type": "markdown",
   "metadata": {},
   "source": [
    "You see that the indices work just like when you **slice** strings, so Python is consistent.  Another search method is ***rfind()***.  This works like the ***find()*** method, but starts searching from the end of the string, not the beginning.  Please note that **rfind()** only changes where it starts looking, it does not reverse the argument you give it.   Maybe you would like to know how many times a character or substring occurs in your string?  If so, you can use the ***count()*** method to get a count of the number of times that substring appears.  Try the following:\n",
    "\n",
    "```Python\n",
    "print(y)\n",
    "print(y.count('o'))\n",
    "print(y.count('g'))\n",
    "```\n"
   ]
  },
  {
   "cell_type": "code",
   "execution_count": 17,
   "metadata": {},
   "outputs": [],
   "source": [
    "##\n",
    "## Enter your code here\n",
    "##\n"
   ]
  },
  {
   "cell_type": "markdown",
   "metadata": {},
   "source": [
    "Another modification method for strings is ***replace()***.  This allows you to not only find a substring, but to replace it in the string with another substring.  Of course, this must return a *copy* of the changed string.   Try the following:\n",
    "\n",
    "```Python\n",
    "print(y)\n",
    "print(y.replace('g','y'))\n",
    "print(y.replace('o','X'))\n",
    "print(y)\n",
    "```\n"
   ]
  },
  {
   "cell_type": "code",
   "execution_count": 18,
   "metadata": {},
   "outputs": [],
   "source": [
    "##\n",
    "## Enter your code here\n",
    "##\n"
   ]
  },
  {
   "cell_type": "markdown",
   "metadata": {},
   "source": [
    "Why did the first not change the string?"
   ]
  },
  {
   "cell_type": "markdown",
   "metadata": {},
   "source": [
    "11\\.  **Enter your answer here**"
   ]
  },
  {
   "cell_type": "markdown",
   "metadata": {},
   "source": [
    "Notice that ***replace()*** changes all the occurrences in the string.  This may not be what you want, so you can specify a count to control how many replacements will occur. Try the following:\n",
    "\n",
    "```Python\n",
    "print(y)\n",
    "print(y.replace('o','X',1))\n",
    "print(y)\n",
    "```\n"
   ]
  },
  {
   "cell_type": "code",
   "execution_count": 19,
   "metadata": {},
   "outputs": [],
   "source": [
    "##\n",
    "## Enter your code here\n",
    "##\n"
   ]
  },
  {
   "cell_type": "markdown",
   "metadata": {},
   "source": [
    "### Chaining and Formatting\n",
    "\n",
    "Python has a lot of convenient ways to do things and one of these is called **chaining**.  This allows you to call more than one method on an object in one line of code.  Try the following:\n",
    "\n",
    "```Python\n",
    "print(y)\n",
    "print(y.lower().replace('o','X'))\n",
    "```\n"
   ]
  },
  {
   "cell_type": "code",
   "execution_count": 20,
   "metadata": {},
   "outputs": [],
   "source": [
    "##\n",
    "## Enter your code here\n",
    "##\n"
   ]
  },
  {
   "cell_type": "markdown",
   "metadata": {},
   "source": [
    "Is that what you expected?"
   ]
  },
  {
   "cell_type": "markdown",
   "metadata": {},
   "source": [
    "12\\.  **Enter your answer here**"
   ]
  },
  {
   "cell_type": "markdown",
   "metadata": {},
   "source": [
    "The trick to *chaining* is the methods will be applied left to right in the order they are listed.  That’s an important distinction as it’s tempting to think it’s hierarchical and the last one in the chain gets executed first, but it’s always left to right.  Also make sure that you keep track of what type is returned by each method.  Try the following:\n",
    "\n",
    "```Python\n",
    "print(y.lower().replace('o','X').split(','))\n",
    "print(y.lower().split(',').replace('o','X'))```\n"
   ]
  },
  {
   "cell_type": "code",
   "execution_count": 21,
   "metadata": {},
   "outputs": [],
   "source": [
    "##\n",
    "## Enter your code here\n",
    "##\n"
   ]
  },
  {
   "cell_type": "markdown",
   "metadata": {},
   "source": [
    "Is this similar to the way expressions are evaluated?"
   ]
  },
  {
   "cell_type": "markdown",
   "metadata": {},
   "source": [
    "13\\.  **Enter your answer here**"
   ]
  },
  {
   "cell_type": "markdown",
   "metadata": {},
   "source": [
    "###  String Formatting\n",
    "\n",
    "Sometimes when printing outputs, you may have to print similar messsages, but just need to change certain values.  You could always build these strings each time with **concatenation** (adding different strings together), but there is an easier way to do this, **string formatting**.  This allows you to put a placeholder in a string and then fill it from a variable.  Let’s look at simple example.  The following uses the string formatting command to build and print an output string.   Take note of the place holder in the string.  Placeholders always start with a ***%*** and are followed by the type of variable to be used to build the string (e.g. ***d*** for integers, ***f*** for floating point, and ***s*** for string.  The variable to be used in the string is provided after the string format is defined.  The advantage to this is that you don't have to convert different variable types to strings.  Try the following.\n",
    "\n",
    "```Python\n",
    "i = 9\n",
    "print(\"The number is %d\" % i)\n",
    "```"
   ]
  },
  {
   "cell_type": "code",
   "execution_count": 34,
   "metadata": {},
   "outputs": [],
   "source": [
    "#\n",
    "# Enter your code here\n",
    "#\n"
   ]
  },
  {
   "cell_type": "markdown",
   "metadata": {},
   "source": [
    "That may not seem like it is easier to read (with just a single variable), but it really helps when you have multiple variables to be put into the string.  For multiple variables, you just add additional placeholders in the format string and pass it multiple variables.  The trick with this is that you must pass the multiple values in as a **tuple**.  Try the following code.\n",
    "\n",
    "```Python\n",
    "i = 9\n",
    "f=3.0\n",
    "s='Sam'\n",
    "print(\"%s the numbers are %d and %f\" % (s, i, f) )\n",
    "```"
   ]
  },
  {
   "cell_type": "code",
   "execution_count": 35,
   "metadata": {},
   "outputs": [],
   "source": [
    "#\n",
    "# Enter your code here\n",
    "#\n"
   ]
  },
  {
   "cell_type": "markdown",
   "metadata": {},
   "source": [
    "14\\.  What could be a reason a tuple is used to pass in the arguments? (as opposed to a list)  ***Enter Answer Here***"
   ]
  },
  {
   "cell_type": "markdown",
   "metadata": {},
   "source": [
    "How are the values assigned to the placeholders?"
   ]
  },
  {
   "cell_type": "markdown",
   "metadata": {},
   "source": [
    "15\\.  **Enter your answer here**"
   ]
  },
  {
   "cell_type": "markdown",
   "metadata": {},
   "source": [
    "The other thing you can do is specify some special formatting information in the placeholders.   Make the following changes in the code:\n",
    "\n",
    "```Python\n",
    "x=5\n",
    "y=3.14\n",
    "z='CCU'\n",
    "print('School: %7s: %6d %5.1f' % (z,x,y) )\n",
    "```\n"
   ]
  },
  {
   "cell_type": "code",
   "execution_count": 25,
   "metadata": {},
   "outputs": [],
   "source": [
    "##\n",
    "## Enter your code here\n",
    "##\n"
   ]
  },
  {
   "cell_type": "markdown",
   "metadata": {},
   "source": [
    "The numbers in the placeholders control the variables are formatted.  The number after the **%** sign indicates the width of the field.  This is the number of characters that will be printed for this value.  If the value is less than that amount of characters, it will be padded by spaces and will be right justified.  If the value is tool long it will be either truncated (not all the characters displayed) or rounded (for numbers).  Additionally, for floating point values, the number after the decimal point in the placeholder indicates how many decimals to print in the output (the number will be rounded).  If you want to left justify the values, just use a negative width.  Try the following:\n",
    "\n",
    "\n",
    "```Python\n",
    "print('%-7s the numbers are %-6d and %-4.2f' % (z,x,y) )\n",
    "```\n"
   ]
  },
  {
   "cell_type": "code",
   "execution_count": 24,
   "metadata": {},
   "outputs": [],
   "source": [
    "##\n",
    "## Enter your code here\n",
    "##\n"
   ]
  },
  {
   "cell_type": "markdown",
   "metadata": {},
   "source": [
    "### String Format Method\n",
    "\n",
    "Another way to format strings is with the string **method** called ***format()***.  This method also uses placeholders in the string, but they are represented by ***{ }*** and it is not as flexible as the previous method we used.  Try the following code:\n",
    "\n",
    "```Python\n",
    "x=5\n",
    "y=3.14\n",
    "s='Num1 {}, Num2 {}'.format(str(x),str(y))\n",
    "print(s)\n",
    "```\n"
   ]
  },
  {
   "cell_type": "code",
   "execution_count": 26,
   "metadata": {},
   "outputs": [],
   "source": [
    "##\n",
    "## Enter your code here\n",
    "##\n"
   ]
  },
  {
   "cell_type": "markdown",
   "metadata": {},
   "source": [
    "What the main differences between this and the previous method?"
   ]
  },
  {
   "cell_type": "markdown",
   "metadata": {},
   "source": [
    "16\\.  **Enter your answer here**"
   ]
  },
  {
   "cell_type": "markdown",
   "metadata": {},
   "source": [
    "This is a very simple way to create formatted strings.  Notice two things.  First, if you just use a standard placeholder, you must convert everything to strings with the ***str()*** function before passing it to ***format()***.  The second is that the placeholders are filled in the order the arguments are specified.  If you want to make changes to the latter (the order in which they are assigned), you can use **positional placeholders**.  Make the following changes to the code:\n",
    "\n",
    "```Python\n",
    "x=5\n",
    "y=3.14\n",
    "s='Num1 {1}, Num2 {0}'.format(str(x),str(y))\n",
    "print(s)\n",
    "```\n"
   ]
  },
  {
   "cell_type": "code",
   "execution_count": 27,
   "metadata": {},
   "outputs": [],
   "source": [
    "##\n",
    "## Enter your code here\n",
    "##\n"
   ]
  },
  {
   "cell_type": "markdown",
   "metadata": {},
   "source": [
    "The number in the placeholder tells Python which of the arguments to put in that placeholder.  Another way to do this is to use keyword arguments (just like in functions).  This allows you to specify keywords instead of numerical positions.   Try the following:\n",
    "\n",
    "```Python\n",
    "x=5\n",
    "y=3.14\n",
    "s='Num1 {yval}, Num2 {xval}'.format(xval=str(x),yval=str(y))\n",
    "print(s)\n",
    "```\n"
   ]
  },
  {
   "cell_type": "code",
   "execution_count": 28,
   "metadata": {},
   "outputs": [],
   "source": [
    "##\n",
    "## Enter your code here\n",
    "##\n"
   ]
  },
  {
   "cell_type": "markdown",
   "metadata": {},
   "source": [
    "Why might you want to use keywords instead of positional placeholders?"
   ]
  },
  {
   "cell_type": "markdown",
   "metadata": {},
   "source": [
    "17\\.  **Enter your answer here**"
   ]
  },
  {
   "cell_type": "markdown",
   "metadata": {},
   "source": [
    "If you don’t want to convert everything to a string first, you can do that by specifying a type code in the placeholder.  Make the following changes to your code:\n",
    "\n",
    "```Python\n",
    "x=5\n",
    "y=3.14\n",
    "s='Num1 {yval:f}, Num2 {xval:d}'.format(xval=x,yval=y)\n",
    "print(s)\n",
    "```\n"
   ]
  },
  {
   "cell_type": "code",
   "execution_count": 29,
   "metadata": {},
   "outputs": [],
   "source": [
    "##\n",
    "## Enter your code here\n",
    "##\n"
   ]
  },
  {
   "cell_type": "markdown",
   "metadata": {},
   "source": [
    "The type codes are the same as we looked at with **string formatting**.  You can also specify formatting information in the placeholder like what we looked at with **string formatting**.  Make the following changes to the code:\n",
    "\n",
    "```Python\n",
    "x=5\n",
    "y=3.14\n",
    "s='Num1 {yval:5.1f}, Num2 {xval:6d}'.format(xval=x,yval=y)\n",
    "print(s)\n",
    "```\n"
   ]
  },
  {
   "cell_type": "code",
   "execution_count": 30,
   "metadata": {},
   "outputs": [],
   "source": [
    "##\n",
    "## Enter your code here\n",
    "##\n"
   ]
  },
  {
   "cell_type": "markdown",
   "metadata": {},
   "source": [
    "### f Strings\n",
    "\n",
    "The latest formatting method (and some say the most convenient) to be added in Python 3 is *f-strings*.  These are a very recent addition and are very powerful.  They allow you to embed variables and expressions directly into the string.  In order to use this, you preface the string with an ***f***.  Try the following code:\n",
    "\n",
    "```Python\n",
    "x=5\n",
    "y=3.14\n",
    "s=f'Num1 {y}, Num2 {x}'\n",
    "print(s)\n",
    "```"
   ]
  },
  {
   "cell_type": "code",
   "execution_count": 31,
   "metadata": {},
   "outputs": [],
   "source": [
    "##\n",
    "## Enter your code here\n",
    "##\n"
   ]
  },
  {
   "cell_type": "markdown",
   "metadata": {},
   "source": [
    "Does this seem easier?  Why?"
   ]
  },
  {
   "cell_type": "markdown",
   "metadata": {},
   "source": [
    "18\\.  **Enter your answer here**"
   ]
  },
  {
   "cell_type": "markdown",
   "metadata": {},
   "source": [
    "You can also have expressions inside the placeholders:\n",
    "\n",
    "```Python\n",
    "t='Hello'\n",
    "print(f'Num1={x*y}, Num2={t.lower()}')\n",
    "```\n"
   ]
  },
  {
   "cell_type": "code",
   "execution_count": 32,
   "metadata": {},
   "outputs": [],
   "source": [
    "##\n",
    "## Enter your code here\n",
    "##\n"
   ]
  }
 ],
 "metadata": {
  "kernelspec": {
   "display_name": "Python 3",
   "language": "python",
   "name": "python3"
  },
  "language_info": {
   "codemirror_mode": {
    "name": "ipython",
    "version": 3
   },
   "file_extension": ".py",
   "mimetype": "text/x-python",
   "name": "python",
   "nbconvert_exporter": "python",
   "pygments_lexer": "ipython3",
   "version": "3.6.3"
  }
 },
 "nbformat": 4,
 "nbformat_minor": 4
}
