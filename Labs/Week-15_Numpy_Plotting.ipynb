{
 "cells": [
  {
   "cell_type": "markdown",
   "metadata": {},
   "source": [
    "# Lab - Numpy and Plotting\n",
    "\n",
    "*There are no intentional errors in this lab*"
   ]
  },
  {
   "cell_type": "markdown",
   "metadata": {},
   "source": [
    "### Numpy\n",
    "\n",
    "Python is a very flexible and powerful language, but one thing that makes it even more powerful are the additional libraries that are freely available.  One of the most used libraries is **numpy**.  This is used for numerical calculations and has very fast routines that implement a wide range of numerical functions.  This library is required by many, many third-party libraries in Python, including **matplotlib**, which we will also be using in this section.\n",
    "\n",
    "<img src=\"./images/NP-1.jpg\">\n",
    "\n",
    "**Numpy** implements a new type in python called ***ndarray***.  These are similar in some ways to Python lists but are closer to classical arrays. **Numpy** arrays have advantages in that they are much more compact (take less space) and are much faster to use.  In addition, unlike Python lists the array will be allocated in one consecutive block of memory.  This is important for some applications.   The price for all these features in that, unlike Python lists, numpy arrays can only ever contain one type of data (integer floating point, etc.).  This data type is determined at the ***ndarray*** creation time.  The data types for numpy are also more detailed than in Python as you can select not only the basic type, but the storage size of the value (8, 16, 32, or 64-bit).\n",
    "\n",
    "Finally, it is important to note that in order to use **numpy** functions, you need to import the **numpy** library. For our lab, we will import the **numpy** library with the name ***np***.  The reasons for this is that is the way alsmot all the documentation and examples you find on the Internet do as well.  In fact when Googling for **numpy** functions, you get the best results using the prefix \"np.\"  In the code cell enter the following:\n",
    "\n",
    "```Python\n",
    "import numpy as np\n",
    "```\n"
   ]
  },
  {
   "cell_type": "code",
   "execution_count": 1,
   "metadata": {},
   "outputs": [],
   "source": [
    "##\n",
    "## Enter your code here\n",
    "##\n",
    "\n",
    "import numpy as np\n"
   ]
  },
  {
   "cell_type": "markdown",
   "metadata": {},
   "source": [
    "Numpy arrays are easy to create with the ***array()*** function.  This function takes a Python data structure like a tuple or a list and creates a numpy array that has the same dimensions and values as the Python data structure. The array is created as a completely separate object *(even if the original Python object was mutable)*.  Try the following:\n",
    "\n",
    "```Python\n",
    "a = [1, 2, 3, 4]\n",
    "x = np.array(a)\n",
    "print(type(a))\n",
    "print(type(x))\n",
    "print(a)\n",
    "print('----')\n",
    "print(x)\n",
    "```\n"
   ]
  },
  {
   "cell_type": "code",
   "execution_count": 1,
   "metadata": {},
   "outputs": [],
   "source": [
    "##\n",
    "## Enter your code here\n",
    "##\n"
   ]
  },
  {
   "cell_type": "markdown",
   "metadata": {},
   "source": [
    "1\\.  Does the array look the same?   **Enter your answer here**"
   ]
  },
  {
   "cell_type": "markdown",
   "metadata": {},
   "source": [
    "Of course, you there are also multiple functions in numpy to create arrays without needing a Python data structure.  Each one of the functions takes an argument which is a **tuple** with the **shape** (dimensions) of the array.  **Shape** is term numpy uses for the dimensions/layout of the array.  If you want a single dimensional array, you would specify the number of elements with one number, like ***(12)*** – in this case there will be twelve places in the array along a single axis (or dimension).  Higher numbers of dimensions are specified with more values in the tuple (e.g. ***(3,3,2)*** ).  The main functions to create arrays are:\n",
    "\n",
    "***np.empty()*** – Creates an array which has uninitialized values. Each value will start with whatever was in that memory location prior to allocation.  This is generally not recommended.\n",
    "\n",
    "***np.zeros()*** – Creates an array in which all the elements are initialized to 0.\n",
    "\n",
    "***np.ones()*** – Creates an array in which all the elements are initialized to 1.\n",
    "\n",
    "***np.full()*** – Creates an array in which all the values are initialized to certain value  This function takes two arguments.  Like the other function, the first argument is a tuple with the shape and the second argument is value to be loaded into every element of the array.\n",
    "\n",
    "Try the following:\n",
    "\n",
    "```Python\n",
    "x = np.zeros((4))\n",
    "print(x)\n",
    "y= np.full((2,2),27)\n",
    "print(y)\n",
    "```\n"
   ]
  },
  {
   "cell_type": "code",
   "execution_count": 2,
   "metadata": {
    "scrolled": true
   },
   "outputs": [],
   "source": [
    "##\n",
    "## Enter your code here\n",
    "##\n"
   ]
  },
  {
   "cell_type": "markdown",
   "metadata": {},
   "source": [
    "Numpy arrays are mutable like lists.  If you create and array and assign a second variable to point to it, any changes will be reflected in both variables.  Try the following:\n",
    "\n",
    "```Python\n",
    "z=y\n",
    "print(z)\n",
    "z[1][0]=34\n",
    "print(y)\n",
    "```\n"
   ]
  },
  {
   "cell_type": "code",
   "execution_count": 3,
   "metadata": {},
   "outputs": [],
   "source": [
    "##\n",
    "## Enter your code here\n",
    "##\n"
   ]
  },
  {
   "cell_type": "markdown",
   "metadata": {},
   "source": [
    "One of the things that makes numpy arrays so convenient and powerful is that they allow you to use a wide variety of math functions on each element of the array.   They also implement more sophisticated linear algebra matrix operations, but we won’t cover those in this course.  Let’s look at a simple example.  Suppose you want to multiply every element in array by 10 and then you want to add the elements of two arrays together.  Try the following:\n",
    "\n",
    "```Python\n",
    "print(y)\n",
    "y=y*10  # multiply every element in array by 10\n",
    "print('---')\n",
    "print(y)\n",
    "z=y+y  # add two arrays together\n",
    "print('---')\n",
    "print(z)\n",
    "```\n"
   ]
  },
  {
   "cell_type": "code",
   "execution_count": 4,
   "metadata": {},
   "outputs": [],
   "source": [
    "##\n",
    "## Enter your code here\n",
    "##\n"
   ]
  },
  {
   "cell_type": "markdown",
   "metadata": {},
   "source": [
    "2\\. What would be an alternative way to do this?  Is this way more convenient?  **Enter your answer here**"
   ]
  },
  {
   "cell_type": "markdown",
   "metadata": {},
   "source": [
    "You can always check the dimensions, or shape, of a numpy array with the ***shape*** attribute.  An attribute is called just like a **method**, but with no arguments or **()** and will return a value.  Another thing that can be done is to **reshape** a numpy array.  The ***reshape()*** method allows you to change the shape into any other shape that has the same number of elements, e.g. a one-dimensional array with 4 elements can be turned into a 2x2 array or vice versa.  Try the following:\n",
    "\n",
    "```Python\n",
    "print(y)\n",
    "print('---')\n",
    "print(y.shape)\n",
    "y.reshape((4))\n",
    "print('---')\n",
    "print(y)\n",
    "```\n"
   ]
  },
  {
   "cell_type": "code",
   "execution_count": 5,
   "metadata": {},
   "outputs": [],
   "source": [
    "##\n",
    "## Enter your code here\n",
    "##\n"
   ]
  },
  {
   "cell_type": "markdown",
   "metadata": {},
   "source": [
    "###  Plotting\n",
    "\n",
    "**Matplotlib** is a general-purpose library which allows Python program to use simple commands to create professional looking charts and graphs.  It has a very large number of options to configure details on any plots that you create.  In order to use it, all you need to do is import the library.  **Matplotlib** has two interfaces, a simple one called ***pyplot***, and the full matplotlib which is more involved.  We will use the basic interface for this class.  Go ahead and try the following code.  Please note in order to use **matplotlib** you also need to import numpy, but don't need to do this again in this lab since it was done earlier in the lab (but no errors will occur for importing it a second time).\n",
    "\n",
    "```Python\n",
    "import numpy as np\n",
    "import matplotlib.pyplot as pl\n",
    "```\n"
   ]
  },
  {
   "cell_type": "code",
   "execution_count": 6,
   "metadata": {},
   "outputs": [],
   "source": [
    "##\n",
    "## Enter your code here\n",
    "##\n"
   ]
  },
  {
   "cell_type": "markdown",
   "metadata": {},
   "source": [
    "Simple plots are easy to make.  Try this:\n",
    "\n",
    "```Python\n",
    "x=np.array([1,2,3,4,5,6,7,8,9,10])\n",
    "y=np.array([2,4,6,8,10,12,14,16,18,20])\n",
    "\n",
    "pl.plot(x,y)\n",
    "pl.show()\n",
    "```\n",
    "\n",
    "*NOTE:  If you get a text output that says something like <figure....>, try running the cell again and you should get a graph.*"
   ]
  },
  {
   "cell_type": "code",
   "execution_count": 10,
   "metadata": {},
   "outputs": [],
   "source": [
    "##\n",
    "## Enter your code here\n",
    "##\n"
   ]
  },
  {
   "cell_type": "markdown",
   "metadata": {},
   "source": [
    "It is easy to add additional lines to the plot.  Try the following (you may want to cut and paste the code from your previous cell and just add the necessary lines):\n",
    "\n",
    "```Python\n",
    "x=np.array([1,2,3,4,5,6,7,8,9,10])\n",
    "y=np.array([2,4,6,8,10,12,14,16,18,20])\n",
    "z=np.array([0.5,1.0,1.5,2.0,2.5,3.0,3.5,4.0,4.5,5.0])\n",
    "\n",
    "pl.plot(x,y)\n",
    "pl.plot(x,z)\n",
    "pl.show()\n",
    "```\n"
   ]
  },
  {
   "cell_type": "code",
   "execution_count": 11,
   "metadata": {},
   "outputs": [],
   "source": [
    "##\n",
    "## Enter your code here\n",
    "##\n"
   ]
  },
  {
   "cell_type": "markdown",
   "metadata": {},
   "source": [
    "3\\.  This seems like very little code.  What do you think the ***pl.plot()*** command is doing in Python?  **Enter your answer here**"
   ]
  },
  {
   "cell_type": "markdown",
   "metadata": {},
   "source": [
    "A good plot needs to be understandable.  This means you need to add some explanatory information.  You can add various labels, formatting, and legend information to the plot.  You can create a title label for the entire graph (using ***pl.title()*** ) and the label on either the X or Y axis.  Check the slides for some examples.\n",
    "\n",
    "If you have a key point in your plot, you can add annotations to make that clear.  You can add vertical or horizontal lines and place text located anywhere in the plot field.  You can use the ***axvline()*** for vertical lines and ***axhline()*** for horizontal lines.  The ***text()*** function places a string starting that coordinates given."
   ]
  },
  {
   "cell_type": "markdown",
   "metadata": {},
   "source": [
    "Try setting some options in the code cell below.  You can find information on the options in the slides or at https://matplotlib.org/stable/api/_as_gen/matplotlib.pyplot.plot.html"
   ]
  },
  {
   "cell_type": "code",
   "execution_count": 23,
   "metadata": {},
   "outputs": [],
   "source": [
    "##\n",
    "## Enter your code here\n",
    "##\n"
   ]
  },
  {
   "cell_type": "markdown",
   "metadata": {},
   "source": [
    "4\\.   What options did you try?   **Enter your answer here**"
   ]
  }
 ],
 "metadata": {
  "kernelspec": {
   "display_name": "Python 3",
   "language": "python",
   "name": "python3"
  },
  "language_info": {
   "codemirror_mode": {
    "name": "ipython",
    "version": 3
   },
   "file_extension": ".py",
   "mimetype": "text/x-python",
   "name": "python",
   "nbconvert_exporter": "python",
   "pygments_lexer": "ipython3",
   "version": "3.6.3"
  }
 },
 "nbformat": 4,
 "nbformat_minor": 4
}
