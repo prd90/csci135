{
 "cells": [
  {
   "cell_type": "markdown",
   "metadata": {},
   "source": [
    "# Lab - Dictionaries\n",
    "\n",
    "*There are 2 intentional errors in this lab*"
   ]
  },
  {
   "cell_type": "markdown",
   "metadata": {},
   "source": [
    "### Dictionaries Review\n",
    "\n",
    "Dictionaries are another useful type of Python data structure.  These are sequences of objects, but they are **unordered**.   There are no numerical indices for a dictionary, the way elements are accessed is with a **key**.  Every **key** is associated with a particular **value**.   When you define a dictionary, you create **key**/**value** pairs.  A **value** is always accessed with its **key**.  Dictionaries are defined with { }, but again indexed with [ ].  Try the following code:\n",
    "\n",
    "```Python\n",
    "d={'one':1 , 'two':2}\n",
    "print(d)\n",
    "print(d['two'])\n",
    "```\n"
   ]
  },
  {
   "cell_type": "code",
   "execution_count": 1,
   "metadata": {},
   "outputs": [],
   "source": [
    "##\n",
    "## Insert your code here\n",
    "##\n"
   ]
  },
  {
   "cell_type": "markdown",
   "metadata": {},
   "source": [
    "Like lists, dictionaries are **mutable** so this means that they can have elements added, deleted and changed.  It is very easy to do all these.  To add or modify an element, simply reference it.  You can remove and element with the ***del()*** function.  Try the following:\n",
    "\n",
    "```Python\n",
    "d['three']=3\n",
    "print(d)\n",
    "del(d['two'])\n",
    "print(d)\n",
    "d['one']=256\n",
    "print(d)\n",
    "```\n"
   ]
  },
  {
   "cell_type": "code",
   "execution_count": 2,
   "metadata": {},
   "outputs": [],
   "source": [
    "##\n",
    "## Insert your code here\n",
    "##\n"
   ]
  },
  {
   "cell_type": "markdown",
   "metadata": {},
   "source": [
    "The one challenge with dictionaries is trying to access a key value that does not exists.  Try the following:\n",
    "\n",
    "```Python\n",
    "print(d['four'])\n",
    "```\n"
   ]
  },
  {
   "cell_type": "code",
   "execution_count": 3,
   "metadata": {},
   "outputs": [],
   "source": [
    "##\n",
    "## Insert your code here\n",
    "##\n"
   ]
  },
  {
   "cell_type": "markdown",
   "metadata": {},
   "source": [
    "What type of error do you get?"
   ]
  },
  {
   "cell_type": "markdown",
   "metadata": {},
   "source": [
    "1\\.  ***Enter your answer here***"
   ]
  },
  {
   "cell_type": "markdown",
   "metadata": {},
   "source": [
    "### More on Dictionaries\n",
    "\n",
    "Let’s create a dictionary for the following exercises.  Notice there are different types of keys and values.  Let’s look at the values first.  Try the following:\n",
    "\n",
    "```Python\n",
    "D={ 'A': 1, 2:'B','D':3}\n",
    "D[4]=[7,8,9]\n",
    "D[5]=len\n",
    "print(D)\n",
    "len(D)\n",
    "```\n"
   ]
  },
  {
   "cell_type": "code",
   "execution_count": 4,
   "metadata": {},
   "outputs": [],
   "source": [
    "##\n",
    "## Insert your code here\n",
    "##\n"
   ]
  },
  {
   "cell_type": "markdown",
   "metadata": {},
   "source": [
    "As you can see, any type of value, **immutable** or **mutable** can be used, which basically means everything in Python, even a data type or a function object.  But what about keys?  Let’s try the following:\n",
    "\n",
    "```Python\n",
    "D[len]=56\n",
    "print(D)\n",
    "X=[1,2]\n",
    "D[X]=45\n",
    "```\n"
   ]
  },
  {
   "cell_type": "code",
   "execution_count": 5,
   "metadata": {},
   "outputs": [],
   "source": [
    "##\n",
    "## Insert your code here\n",
    "##\n"
   ]
  },
  {
   "cell_type": "markdown",
   "metadata": {},
   "source": [
    "What is the general difference between the two keys that were used?  Why would this be a problem?"
   ]
  },
  {
   "cell_type": "markdown",
   "metadata": {},
   "source": [
    "2\\.  ***Enter your answer here***"
   ]
  },
  {
   "cell_type": "markdown",
   "metadata": {},
   "source": [
    "### Dictionary Methods\n",
    "\n",
    "The dictionary type in Python has a lot of methods that can be found in the online documentation.  We will go through some of the basic ones here.  The first is the ***clear()*** method.  This is a simple method that will remove all the elements of a dictionary.  Note it will not remove the dictionary, just remove all its elements and leave an empty dictionary.  Try the following:\n",
    "\n",
    "```Python\n",
    "print(D)\n",
    "print('---')\n",
    "C=D\n",
    "C.clear()\n",
    "print(C)\n",
    "print(D)\n",
    "```\n"
   ]
  },
  {
   "cell_type": "code",
   "execution_count": 6,
   "metadata": {},
   "outputs": [],
   "source": [
    "##\n",
    "## Insert your code here\n",
    "##\n"
   ]
  },
  {
   "cell_type": "markdown",
   "metadata": {},
   "source": [
    "Is that what you expected? Why?"
   ]
  },
  {
   "cell_type": "markdown",
   "metadata": {},
   "source": [
    "3\\.  ***Enter your answer here***"
   ]
  },
  {
   "cell_type": "markdown",
   "metadata": {},
   "source": [
    "Why is D empty as well as C?"
   ]
  },
  {
   "cell_type": "markdown",
   "metadata": {},
   "source": [
    "4\\.  ***Enter your answer here***"
   ]
  },
  {
   "cell_type": "markdown",
   "metadata": {},
   "source": [
    "The way to avoid both being cleared is to use the ***copy()*** method.  Change your code to look like the following:\n",
    "\n",
    "```Python\n",
    "print(D)\n",
    "print('---')\n",
    "C=D.copy()\n",
    "C.clear()\n",
    "print(C)\n",
    "print(D)\n",
    "```\n"
   ]
  },
  {
   "cell_type": "code",
   "execution_count": null,
   "metadata": {},
   "outputs": [],
   "source": [
    "##\n",
    "## Enter your code here\n",
    "##\n"
   ]
  },
  {
   "cell_type": "markdown",
   "metadata": {},
   "source": [
    "Remember earlier in the lab when we got an error when we tried to access a non-existent key?   There are two methods that make accessing a key that may or may not exist much easier.  These are the ***get()*** and ***pop()*** methods.  They are both very similar with only one key difference; ***get()*** returns the value associated with the key and ***pop()*** returns the value associated with a key, but also deletes that key/value pair from the dictionary.  Try the following:\n",
    "\n",
    "```Python\n",
    "D={ 'A': 1, 2:'B','D':3}\n",
    "print(D.get('A'))\n",
    "print(D.get('A',0))\n",
    "print(D.get('q',0))\n",
    "print(D)\n",
    "```\n"
   ]
  },
  {
   "cell_type": "code",
   "execution_count": 7,
   "metadata": {},
   "outputs": [],
   "source": [
    "##\n",
    "## Insert your code here\n",
    "##\n"
   ]
  },
  {
   "cell_type": "markdown",
   "metadata": {},
   "source": [
    "The important part of ***get()*** and ***pop()*** is that they each take two arguments.  In addition to the key to be searched for they also take a **default argument**.   If the key is not found in the dictionary, instead of generating an error, the method will return the **default value**.  This is the real usefulness of these methods.  Another useful method is ***update()***.  This method allows you to merge two dictionaries into a single dictionary.  Try the following code:\n",
    "\n",
    "```Python\n",
    "D={'A':1, 2:'B', 'D':3}\n",
    "C={ 'A': 55, 'Q':38 }\n",
    "D.update(C)\n",
    "print(C)\n",
    "print(D)\n",
    "```\n"
   ]
  },
  {
   "cell_type": "code",
   "execution_count": 8,
   "metadata": {},
   "outputs": [],
   "source": [
    "##\n",
    "## Insert your code here\n",
    "##\n"
   ]
  },
  {
   "cell_type": "markdown",
   "metadata": {},
   "source": [
    "Why might these be useful?"
   ]
  },
  {
   "cell_type": "markdown",
   "metadata": {},
   "source": [
    "5\\.  ***Enter your answer here***"
   ]
  },
  {
   "cell_type": "markdown",
   "metadata": {},
   "source": [
    "How many entries in D after the commands in the previous step?   Why?"
   ]
  },
  {
   "cell_type": "markdown",
   "metadata": {},
   "source": [
    "6\\.  ***Enter Answer Here***"
   ]
  },
  {
   "cell_type": "markdown",
   "metadata": {},
   "source": [
    "### Iterating/Using Dictionaries\n",
    "\n",
    "Dictionaries are iterable objects like lists, but there are some subtleties and some special methods that can be used when you are using them in loops.   Let’s try a simple iteration case.  Try the following:\n",
    "\n",
    "```Python\n",
    "print(D)\n",
    "\n",
    "for  x  in  D:\n",
    "    print(x)\n",
    "```\n",
    "    "
   ]
  },
  {
   "cell_type": "code",
   "execution_count": 9,
   "metadata": {},
   "outputs": [],
   "source": [
    "##\n",
    "## Insert your code here\n",
    "##\n"
   ]
  },
  {
   "cell_type": "markdown",
   "metadata": {},
   "source": [
    "What parts of the dictionary are printed?"
   ]
  },
  {
   "cell_type": "markdown",
   "metadata": {},
   "source": [
    "7\\.  ***Enter your answer here***"
   ]
  },
  {
   "cell_type": "markdown",
   "metadata": {},
   "source": [
    "As you saw in the previous step, the default iteration for dictionaries is to return the *keys only*.  That is the same as using the method ***keys()*** with the dictionary.  But what if you would rather iterate the values of a dictionary?  You can do that using the ***values()*** method  Try the following:\n",
    "\n",
    "```Python\n",
    "print(D)\n",
    "\n",
    "for x in D.values():\n",
    "    print(x)\n",
    "```\n",
    "    "
   ]
  },
  {
   "cell_type": "code",
   "execution_count": 10,
   "metadata": {},
   "outputs": [],
   "source": [
    "##\n",
    "## Insert your code here\n",
    "##\n"
   ]
  },
  {
   "cell_type": "markdown",
   "metadata": {},
   "source": [
    "What parts are printed this time?"
   ]
  },
  {
   "cell_type": "markdown",
   "metadata": {},
   "source": [
    "8\\.  ***Enter your answer here***"
   ]
  },
  {
   "cell_type": "markdown",
   "metadata": {},
   "source": [
    "What if you want both?  Try the following in the interpreter:\n",
    "\n",
    "```Python\n",
    "print(D)\n",
    "\n",
    "for  x  in  enumerate(D):\n",
    "    print(x)\n",
    "```\n",
    "    "
   ]
  },
  {
   "cell_type": "code",
   "execution_count": 11,
   "metadata": {},
   "outputs": [],
   "source": [
    "##\n",
    "## Insert your code here\n",
    "##\n"
   ]
  },
  {
   "cell_type": "markdown",
   "metadata": {},
   "source": [
    "What do you think these values represent?"
   ]
  },
  {
   "cell_type": "markdown",
   "metadata": {},
   "source": [
    "9\\.  ***Enter your answer here***"
   ]
  },
  {
   "cell_type": "markdown",
   "metadata": {},
   "source": [
    "That does not make a lot of sense.  You are getting indexes back and keys.  That does not really help since indices are not very useful with dictionaries.  In order to get back a useful tuple, you need to use the ***items()*** method.  Try the following:\n",
    "\n",
    "```Python\n",
    "print(D)\n",
    "for x in D.items():\n",
    "    print(x)\n",
    "```\n",
    "    "
   ]
  },
  {
   "cell_type": "code",
   "execution_count": 12,
   "metadata": {},
   "outputs": [],
   "source": [
    "##\n",
    "## Insert your code here\n",
    "##\n"
   ]
  },
  {
   "cell_type": "markdown",
   "metadata": {},
   "source": [
    "Now the tuples that are returned are useful since they contain (key, value) pairs.\n",
    "\n",
    "### Complex Data Structures\n",
    "\n",
    "In the slides for this week’s lecture we talk about nested dictionaries.  This seems like a small topic, but it’s a very important one.  A lot of students who learn programming tend to think of data structures as one level.   For example, if you have three pieces of data, you might store them as:\n",
    "\n",
    "```C\n",
    "List of National Soccer Teams\n",
    "List of Players\n",
    "List of Total Points Scored by Players\n",
    "```\n",
    " \n",
    "But that is not always the best way.  In fact, it’s often much more important to use a more complex, nested data structure.  This gives you a lot of options to manage the data.  Let’s look at the previous list of the three lists.  What if you need to sort the lists into a certain order?   You can sort one list, but now the other items don’t match.  You could take the time to write a complex sorting algorithm to track how the indices changes and then reorder the other two lists, but that’s unnecessary.  If you used something like this:\n",
    "\n",
    "![Nested Data Structure](images/Dict-1.jpg)\n",
    "\n",
    "It would make it much easier.  Python has ways for sorting and searching to key off one part of a value in a list or a dictionary.  That means you can still sort or search with one command.   This very handy for nested data structures.\n",
    "\n",
    "The other thing that’s important to remember is that lists and dictionaries allow ANY type of value to in the list/dictionary.  This is also often overlooked by beginning students.  You may be creating objects from a library and those objects can go into a list.  You may have a set of functions you have created and those can be assigned to a list.  Once there, you can use the power of lists or dictionaries to use them.\n",
    "\n",
    "### Unpacking and Zip\n",
    "\n",
    "This next section has some more esoteric features of Python, but you may see them so it’s important to know what they are doing.  We saw the ***\\**** operator when we were looking at variable length arguments.  This is called the **unpacking operator** (not to be confused with the , which is used in **unpacking**…).   When you use it you get a series of values.  It’s a limited operator because Python only lets you use in a few places.  Try the following:\n",
    "\n",
    "```Python\n",
    "x=[1,2,3]\n",
    "print(x)\n",
    "print(*x)\n",
    "```\n"
   ]
  },
  {
   "cell_type": "code",
   "execution_count": 13,
   "metadata": {},
   "outputs": [],
   "source": [
    "##\n",
    "## Insert your code here\n",
    "##\n"
   ]
  },
  {
   "cell_type": "markdown",
   "metadata": {},
   "source": [
    "Where can you use this is to unpack arguments?  Here’s an example to try:\n",
    "\n",
    "```Python\n",
    "y=[x,x]\n",
    "print(y)\n",
    "y=[*x,*x]\n",
    "print(y)\n",
    "```\n"
   ]
  },
  {
   "cell_type": "code",
   "execution_count": 14,
   "metadata": {},
   "outputs": [],
   "source": [
    "##\n",
    "## Insert your code here\n",
    "##\n"
   ]
  },
  {
   "cell_type": "markdown",
   "metadata": {},
   "source": [
    "The opposite of the unpacking operator is the ***zip()*** function.  This function takes the arguments given and puts the members into individual tuples.  The result can then be iterated.  An example may be the easiest way to show how this work.  Try the following:\n",
    "\n",
    "```Python\n",
    "x=[1,2,3]\n",
    "y=['a','b','c']\n",
    "z=zip(x,y)\n",
    "print(z)\n",
    "print('---')\n",
    "for i in z:\n",
    "    print(i)\n",
    "```\n",
    "    "
   ]
  },
  {
   "cell_type": "code",
   "execution_count": 15,
   "metadata": {},
   "outputs": [],
   "source": [
    "##\n",
    "## Insert your code here\n",
    "##\n"
   ]
  },
  {
   "cell_type": "markdown",
   "metadata": {},
   "source": [
    "As you saw, ***zip()*** creates a special object that’s only good as an iterator.  The reason we spent time talking about these two features is that it can come in handy when you are dealing with dictionaries.  If you want to create a new dictionary with default values, that is easy with the ***fromkeys()*** method.  Try the following:\n",
    "\n",
    "```Python\n",
    "print(x)\n",
    "c=dict.fromkeys(x,0)\n",
    "print(c)\n",
    "```\n"
   ]
  },
  {
   "cell_type": "code",
   "execution_count": null,
   "metadata": {},
   "outputs": [],
   "source": [
    "##\n",
    "## Insert your code here\n",
    "##\n"
   ]
  },
  {
   "cell_type": "markdown",
   "metadata": {},
   "source": [
    "You can also use zip to create a dictionary from two tuples (one with values for **keys** and one with the **values** in the dictionary).  Try the following code:\n",
    "\n",
    "```Python\n",
    "print(x)\n",
    "print(y)\n",
    "z=zip(x,y)\n",
    "F=dict(z)\n",
    "print(F)\n",
    "```\n"
   ]
  },
  {
   "cell_type": "code",
   "execution_count": 16,
   "metadata": {},
   "outputs": [],
   "source": [
    "##\n",
    "## Insert your code here\n",
    "##\n"
   ]
  },
  {
   "cell_type": "markdown",
   "metadata": {},
   "source": [
    "What values are assigned?"
   ]
  },
  {
   "cell_type": "markdown",
   "metadata": {},
   "source": [
    "10\\.  ***Enter your answer here***"
   ]
  },
  {
   "cell_type": "markdown",
   "metadata": {},
   "source": [
    "### Dictionary Comprehensions\n",
    "\n",
    "Finally, we can talk about dictionary **comprehensions**.  These work almost identically to the list **comprehensions** we discussed in last week’s lab, so this section will be short.  A dictionary **comprehension** has the exact same form with one exception.  For example:\n",
    "\n",
    "```Python\n",
    "D={ key_expression: value_expression for variable in iterable if condition}\n",
    "```\n",
    "    \n",
    "The two differences from list comprehensions are the use of { and } around the *comprehension* and the fact that you need to have an expression for the key *and* the value.  Let's start with an example using a loop to build a dictionary.   Enter the following into the code cell:\n",
    "\n",
    "```Python\n",
    "D={}\n",
    "for k,v in zip(x,y):\n",
    "    D[k]=v\n",
    "print(D)\n",
    "```\n"
   ]
  },
  {
   "cell_type": "code",
   "execution_count": 17,
   "metadata": {},
   "outputs": [],
   "source": [
    "##\n",
    "## Enter your code here\n",
    "##\n"
   ]
  },
  {
   "cell_type": "markdown",
   "metadata": {},
   "source": [
    "Using a dictionary **comprehension**, this would look like the following:\n",
    "\n",
    "```Python\n",
    "D={ k:v for k,v in zip(x,y) }\n",
    "print(D)\n",
    "```\n",
    "\n",
    "Enter this into the code cell."
   ]
  },
  {
   "cell_type": "code",
   "execution_count": 18,
   "metadata": {},
   "outputs": [],
   "source": [
    "##\n",
    "## Enter your code here\n",
    "##\n"
   ]
  }
 ],
 "metadata": {
  "kernelspec": {
   "display_name": "Python 3",
   "language": "python",
   "name": "python3"
  },
  "language_info": {
   "codemirror_mode": {
    "name": "ipython",
    "version": 3
   },
   "file_extension": ".py",
   "mimetype": "text/x-python",
   "name": "python",
   "nbconvert_exporter": "python",
   "pygments_lexer": "ipython3",
   "version": "3.6.3"
  }
 },
 "nbformat": 4,
 "nbformat_minor": 4
}
