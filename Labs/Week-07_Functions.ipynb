{
 "cells": [
  {
   "cell_type": "markdown",
   "metadata": {},
   "source": [
    "# Functions Lab\n",
    "\n",
    "*There is 1 intentional error in this lab.*"
   ]
  },
  {
   "cell_type": "markdown",
   "metadata": {},
   "source": [
    "###  Functions\n",
    "\n",
    "One of the key concepts in programming is **abstraction**.  This is used to break solutions into parts to make them more manageable.  It works by treating different parts of the program as a black box, where you know what goes in and what comes out, but the details are hidden.  You can do this in your program code using **functions**.\n",
    "\n",
    "<img src=\"https://www.dropbox.com/s/fzqeeatl3x079mm/Func-1.png?dl=1\">\n",
    "\n",
    "Functions allow programmers to break up their solution into logical parts.  This can make programs more readable by breaking complex code sections into separate pieces.  It also makes programs more modular because functions can be used in multiple places in the same program (reducing the typing you need) and can also be used in other programs you do later.\n",
    "\n",
    "You have already used some functions in this class (like **str()** or **len()**), but in Python you can also create your own custom functions.  They are easy to create, with functions having the following general form:\n",
    "\n",
    "```Python\n",
    "def  <function name> (  <arguments> ):\n",
    "      <code block>\n",
    "```\n",
    "          \n",
    "Just like conditionals (***if*** statements), all functions have indented code blocks which tells Python which code is part of the function.  Let’s try a simple example.  Enter the following code:\n",
    "      \n",
    "```Python\n",
    "def my_func():\n",
    "    print('Yo Yo Yo')\n",
    "      \n",
    "print('Start')\n",
    "my_func()\n",
    "my_func()\n",
    "print('End')\n",
    "```\n"
   ]
  },
  {
   "cell_type": "code",
   "execution_count": 1,
   "metadata": {},
   "outputs": [],
   "source": [
    "#\n",
    "# Type your code here\n",
    "#\n"
   ]
  },
  {
   "cell_type": "markdown",
   "metadata": {},
   "source": [
    "Notice that Python starts reading the program from top to bottom, and it remembers all the function code but does not execute those functions until they are called farther down in the code.  It’s important to remember that all Python functions need to be defined before they are called, or they will result in a program error.\n",
    "\n",
    "Functions are more useful when they are flexible, so let’s add an **argument**, which is a value to be passed into the function. Make the following changes to the code and run it:\n",
    "\n",
    "```Python\n",
    "def my_func(text):\n",
    "    print(text)\n",
    "     \n",
    "print('Start')\n",
    "my_func('Line 1')\n",
    "my_func('Line 2')\n",
    "print('End')\n",
    "```\n"
   ]
  },
  {
   "cell_type": "code",
   "execution_count": 2,
   "metadata": {},
   "outputs": [],
   "source": [
    "#\n",
    "# Type your code here\n",
    "#\n"
   ]
  },
  {
   "cell_type": "markdown",
   "metadata": {},
   "source": [
    "1\\.  What value does the variable *text* get?  ***Enter Answer Here**"
   ]
  },
  {
   "cell_type": "markdown",
   "metadata": {},
   "source": [
    "Of course, you are not limited to a single argument but can use as many as you want.  Try making the following changes to the code:\n",
    "\n",
    "```Python\n",
    "def my_func(text, arg2, arg3):\n",
    "    print('text',text)\n",
    "    print('arg2',arg2)\n",
    "    print('arg3',arg3)\n",
    "      \n",
    "print('Start')\n",
    "my_func('Function', 1, [1,3])\n",
    "my_func('Second Function',[2,6],2)\n",
    "print('End')\n",
    "```"
   ]
  },
  {
   "cell_type": "code",
   "execution_count": 3,
   "metadata": {},
   "outputs": [],
   "source": [
    "#\n",
    "# Type your code here\n",
    "#\n"
   ]
  },
  {
   "cell_type": "markdown",
   "metadata": {},
   "source": [
    "2\\.  What kind of values can be passed as arguments in Python?   ***Enter Answer Here**"
   ]
  },
  {
   "cell_type": "markdown",
   "metadata": {},
   "source": [
    "The previous example uses **positional arguments**.  This basically means that the arguments used when a function is called are assigned to the variables in the function in the same order.  This is the default for function arguments in Python.\n",
    "\n",
    "Another thing to notice is that the arguments don’t need to be the same type, even over subsequent calls.  This means that the user can pass in any type of arguments they want.  This is because Python uses **dynamic typing**, which means that the type of a variable is not preset but determined based on the value assigned to it.\n",
    "\n",
    "This further means that, as a programmer, you must use **duck typing**, where the type is checked by your code in the function or the code in the function can operate on any type.  In other words, there is no guarantee what type an argument will be in a function, and you must ensure that a variable is suitable for how you want to use it.  How much checking depends on how you will be using the variable.  You need to check enough so the function won't throw an exception and crash.\n",
    "\n",
    "Since you can have a function variable assume any type, your functions can have **polymorphism**.  This means being able to adapt to different data types and still be able to work.  We won’t do an example implementation in this lab, but it’s an important concept to know and there is a good example in the video lecture and lecture slides.  You have already seen an example of this in Python, the + operator.  This operator can not only operate on numbers (integers or floating-point numbers), but also strings, lists, and other data types.  This is an example of polymorphism."
   ]
  },
  {
   "cell_type": "markdown",
   "metadata": {},
   "source": [
    "3\\.  How do you think that dynamic typing can be an advantage?   ***Enter Answer Here***"
   ]
  },
  {
   "cell_type": "markdown",
   "metadata": {},
   "source": [
    "Of course, to be useful, a function needs more than just inputs, it needs outputs as well.   Make the following change to your code:\n",
    "      \n",
    "```Python\n",
    "def my_func(text, arg2, arg3):\n",
    "    print('text',text)\n",
    "    print('arg2',arg2)\n",
    "    print('arg3',arg3)\n",
    "      \n",
    "print('Start')\n",
    "retval=my_func('Function', 1, [1,3])\n",
    "retval2=my_func('Second Function',[2,6],2)\n",
    "print('Return Values',retval,retval2)\n",
    "print('End')\n",
    "```"
   ]
  },
  {
   "cell_type": "code",
   "execution_count": 4,
   "metadata": {},
   "outputs": [],
   "source": [
    "#\n",
    "# Type your code here\n",
    "#\n"
   ]
  },
  {
   "cell_type": "markdown",
   "metadata": {},
   "source": [
    "4\\.  What output did you get for the return values (no need to list the other outputs)?  ***Enter Answer Here***"
   ]
  },
  {
   "cell_type": "markdown",
   "metadata": {},
   "source": [
    "The **return** keyword in Python is used to exit a function and return the program back to the point where the function was called.  It can also optionally be used to return a value to the function caller.  Try the following code changes:\n",
    "      \n",
    "```Python\n",
    "def my_func(text, arg2, arg3):\n",
    "    if text=='Second Function':\n",
    "        return\n",
    "    print('text',text)\n",
    "    print('arg2',arg2)\n",
    "    print('arg3',arg3)\n",
    "    return\n",
    "      \n",
    "print('Start')\n",
    "retval=my_func('Function', 1, [1,3])\n",
    "retval2=my_func('Second Function',[2,6],2)\n",
    "print('Return Values',retval,retval2)\n",
    "print('End')```\n"
   ]
  },
  {
   "cell_type": "code",
   "execution_count": 5,
   "metadata": {},
   "outputs": [],
   "source": [
    "#\n",
    "# Type your code here\n",
    "#\n"
   ]
  },
  {
   "cell_type": "markdown",
   "metadata": {},
   "source": [
    "5\\.  What is the difference in the values returned with a return keyword vs using no return keyword?   ***Enter Answer Here***"
   ]
  },
  {
   "cell_type": "markdown",
   "metadata": {},
   "source": [
    "In the previous example, you’ll notice that you can have more than one **return** keyword in a function and that a return with no arguments still returns the same value.  That’s not always useful, so you can specify the value you want to return.  Make the following changes in the code:\n",
    "      \n",
    "```Python\n",
    "def my_func(text, arg2, arg3):\n",
    "    if text=='Second Function':\n",
    "        return 1\n",
    "    print('text',text)\n",
    "    print('arg2',arg2)\n",
    "    print('arg3',arg3)\n",
    "    return 2\n",
    "      \n",
    "print('Start')\n",
    "\n",
    "retval=my_func('Function', 1, [1,3])\n",
    "print('Return Value:',retval)\n",
    "\n",
    "print('------')\n",
    "\n",
    "retval2=my_func('Second Function',[2,6],2)\n",
    "print('Return Value',retval2)\n",
    "\n",
    "print('End')\n",
    "```\n"
   ]
  },
  {
   "cell_type": "code",
   "execution_count": 6,
   "metadata": {},
   "outputs": [],
   "source": [
    "#\n",
    "# Type your code here\n",
    "#\n"
   ]
  },
  {
   "cell_type": "markdown",
   "metadata": {},
   "source": [
    "What if you want return to send back multiple values?  Make the following changes to the code:\n",
    "      \n",
    "```Python\n",
    "def my_func(text, arg2, arg3):\n",
    "    if text=='Second Function':\n",
    "        return 1,2\n",
    "    print('arg1',text)\n",
    "    print('arg2',arg2)\n",
    "    print('arg3',arg3)\n",
    "    return 3,4\n",
    "      \n",
    "print('Start')\n",
    "retval=my_func('Function', 1, [1,3])\n",
    "print('Return Value:',retval)\n",
    "\n",
    "print('------')\n",
    "\n",
    "retval2=my_func('Second Function',[2,6],2)\n",
    "print('Return Value',retval2)\n",
    "print('End')\n",
    "```\n"
   ]
  },
  {
   "cell_type": "code",
   "execution_count": 7,
   "metadata": {},
   "outputs": [],
   "source": [
    "#\n",
    "# Type your code here\n",
    "#\n"
   ]
  },
  {
   "cell_type": "markdown",
   "metadata": {},
   "source": [
    "6\\.  What did you get for return values?  What format are these in?  ***Enter Answer Here***"
   ]
  },
  {
   "cell_type": "markdown",
   "metadata": {},
   "source": [
    "That may not have been what you expected.  The reason for this return format is that Python only allows functions to return a single object.   This object can be something like a list (which can have a lot of values, but the list is still one object).  However, to return multiple independent values you need to use Python’s **packing** feature.  **Packing** is a simple way to create a **tuple** using the comma operator with multiple variables.  Type the following:\n",
    "      \n",
    "```Python\n",
    "x=1\n",
    "y=2\n",
    "z=3\n",
    "a=x,y,z\n",
    "print(a)\n",
    "```\n"
   ]
  },
  {
   "cell_type": "code",
   "execution_count": 8,
   "metadata": {},
   "outputs": [],
   "source": [
    "#\n",
    "# Type your code here\n",
    "#\n"
   ]
  },
  {
   "cell_type": "markdown",
   "metadata": {},
   "source": [
    "The packing feature is useful to create tuples to return multiple values from a function.  However, it is not always convenient to have to index into a tuple to get the values once you return to the part of the program that called the function, so you can use another feature to return values into separate variables.  This feature is called **unpacking** and uses the comma operator as well.  Try the following:\n",
    "      \n",
    "```Python\n",
    "a1, a2, a3 = a\n",
    "print(a)\n",
    "print(a1)\n",
    "print(a2)\n",
    "print(a3)\n",
    "```\n"
   ]
  },
  {
   "cell_type": "code",
   "execution_count": 9,
   "metadata": {},
   "outputs": [],
   "source": [
    "#\n",
    "# Type your code here\n",
    "#\n"
   ]
  },
  {
   "cell_type": "markdown",
   "metadata": {},
   "source": [
    "7\\.  How do you think Python knows when the comma is for packing and when it is for unpacking?   ***Enter Answer Here***"
   ]
  },
  {
   "cell_type": "markdown",
   "metadata": {},
   "source": [
    "Now we can put this all together with what we have learned about functions.  Make the following changes to the code from the earlier part of the lab:\n",
    "      \n",
    "```Python\n",
    "def my_func(text, arg2, arg3):\n",
    "    if text=='Second Function':\n",
    "        return 1,2\n",
    "    print('text',text)\n",
    "    print('arg2',arg2)\n",
    "    print('arg3',arg3)\n",
    "    return 3,4\n",
    "      \n",
    "print('Start')\n",
    "retval, retval2=my_func('Function', 1, [1,3])\n",
    "print('Return Values:',retval,retval2)\n",
    "\n",
    "print('------')\n",
    "\n",
    "retval3,retval4=my_func('Second Function',[2,6],2)\n",
    "print('Return Values',retval3, retval4)\n",
    "print('End')\n",
    "```\n"
   ]
  },
  {
   "cell_type": "code",
   "execution_count": 10,
   "metadata": {},
   "outputs": [],
   "source": [
    "#\n",
    "# Type your code here\n",
    "#\n"
   ]
  },
  {
   "cell_type": "markdown",
   "metadata": {},
   "source": [
    "###  Variable Scope\n",
    "\n",
    "In the previous examples, we used seperate variables in our main (no ident) code and in our function.  This touches on the concept of **scope**, or where a variable is valid.  Variables in Python can be valid in certain parts of the code or over all the code.  Understanding where a variable is valid as well as the rules for how to use a variable from a different scope is important.\n",
    "\n",
    "The main body code (no indent) is called the **global** scope and any variables created in this way are **global variables**.  These can be seen by any code in the same physical program file.  This means that functions can access global variables (with some differences that we will discuss below).  Let's try this example:\n",
    "      \n",
    "```Python\n",
    "x=2\n",
    "\n",
    "def getx():\n",
    "    print('x is',x)\n",
    "      \n",
    "getx()\n",
    "x=4\n",
    "getx()\n",
    "```\n"
   ]
  },
  {
   "cell_type": "code",
   "execution_count": 11,
   "metadata": {},
   "outputs": [],
   "source": [
    "#\n",
    "# Type your code here\n",
    "#\n"
   ]
  },
  {
   "cell_type": "markdown",
   "metadata": {},
   "source": [
    "**Global variables** are easy to understand.  Anyone can access them.  However, functions can define their own private variables, called **local variables**.  These are variables used only in the function (like the arguments defined in the functions we used earlier).   Make the following changes to the code:\n",
    "      \n",
    "```Python\n",
    "xx=2\n",
    "\n",
    "def getxy():\n",
    "    yy=3\n",
    "    print('xx is',xx)\n",
    "    print('yy is',yy)\n",
    "      \n",
    "getxy()\n",
    "x=4\n",
    "getxy()\n",
    "print('yy is',yy)\n",
    "```\n"
   ]
  },
  {
   "cell_type": "code",
   "execution_count": 12,
   "metadata": {},
   "outputs": [],
   "source": [
    "#\n",
    "# Type your code here\n",
    "#\n"
   ]
  },
  {
   "cell_type": "markdown",
   "metadata": {},
   "source": [
    "The error you saw was due to scope.  The local variables only exist inside the function and code outside of the function does not “see” the variables like **yy** in the above example.  The general rule is the function can look “up” to higher level scopes (so the function can see global variables) but cannot look “down” or “across” (so global code can’t look into functions or one function cannot look into another separate function).\n",
    "\n",
    "The **local variables** are stored in a separate table from the **global variables**.  This is important to know not only for accessing variables, but also for understanding how variables are resolved, which simply means which entry in which table is used for a variable.  In our example, it is simple, because each variable is unique.  This does not have to be the case though.  Variables in different scopes can have the same names (because they are stored in different tables inside Python)!  Which entry is used depends on the scope resolution.  Make the following changes to the code:\n",
    "      \n",
    "```Python\n",
    "xx=2\n",
    " \n",
    "def getxx():\n",
    "    xx=12\n",
    "    print('local xx is',xx)\n",
    "      \n",
    "getxx()\n",
    "print('global xx is',xx)\n",
    "```"
   ]
  },
  {
   "cell_type": "code",
   "execution_count": 13,
   "metadata": {},
   "outputs": [],
   "source": [
    "#\n",
    "# Type your code here\n",
    "#\n"
   ]
  },
  {
   "cell_type": "markdown",
   "metadata": {},
   "source": [
    "8\\.  Does this make sense?  What might be an advantage or disadvantage to this?   ***Enter Answer Here***"
   ]
  },
  {
   "cell_type": "markdown",
   "metadata": {},
   "source": [
    "The reason that ***xx*** was different the second time around was that when ***xx*** was assigned in the function, a local variable was set up and because the local namespace tables are searched prior to the global, that was the version used in the function.  However, in the global code, it does not know about the ***xx*** local variable in the function, so it continues to use the global version.\n",
    "\n",
    "Hopefully, that example makes sense, but it's actually a litte more complex than that.  Make the following changes to the code:\n",
    "      \n",
    "```Python\n",
    "x=[2]\n",
    "      \n",
    "def getx():\n",
    "    x[0]=12\n",
    "    print('local x is',x[0])\n",
    "      \n",
    "print('global x is',x[0])\n",
    "getx()\n",
    "print('global x is',x[0])\n",
    "```\n"
   ]
  },
  {
   "cell_type": "code",
   "execution_count": 14,
   "metadata": {},
   "outputs": [],
   "source": [
    "#\n",
    "# Type your code here\n",
    "#\n"
   ]
  },
  {
   "cell_type": "markdown",
   "metadata": {},
   "source": [
    "9\\.  This is an important question for understanding how scoping works in Python.  What's a difference in this example that makes it work differently?  (Hint:  The answer is not that is a list, exactly, but something we talked about)   ***Enter Answer Here***"
   ]
  },
  {
   "cell_type": "markdown",
   "metadata": {},
   "source": [
    "What happens if you want to modify *any* global variable in the local scope of a function?   There is a keyword to do that.  Make the following changes to the code:\n",
    "      \n",
    "```Python\n",
    "x=2\n",
    "      \n",
    "def getx():\n",
    "    global x\n",
    "    x=12\n",
    "    print('local x is',x)\n",
    "      \n",
    "getx()\n",
    "print('global X is',x)\n",
    "```"
   ]
  },
  {
   "cell_type": "code",
   "execution_count": 15,
   "metadata": {},
   "outputs": [],
   "source": [
    "#\n",
    "# Type your code here\n",
    "#\n"
   ]
  },
  {
   "cell_type": "markdown",
   "metadata": {},
   "source": [
    "Remember, the global keyword tells the interpreter to use the entry in the global namespace table for x inside that function, no matter what the mutability of the object is.  *It is not used to create a global variable.*\n",
    "\n",
    "###  More On Arguments\n",
    "\n",
    "Let’s go back to the first program that we did and revisit arguments.  Using **positional arguments** works fine when you want the user to pass argument in an exact order.  If you have a lot of arguments, this is not always easy to remember the proper, so a better way is to use **keyword arguments**.  This is way to break dependence on how you order the arguments.  Make the following changes to the code:\n",
    "\n",
    "```Python\n",
    "def my_func(arg1, arg2, text):\n",
    "    print('text',text)\n",
    "    print('arg2',arg1)\n",
    "    print('arg3',arg2)\n",
    "      \n",
    "print('Start')\n",
    "my_func(text='Function', arg1=1, arg2=[1,3])\n",
    "print('----')\n",
    "my_func(text='Second Function',arg2=[2,6],arg1=2)\n",
    "print('End')```\n"
   ]
  },
  {
   "cell_type": "code",
   "execution_count": 16,
   "metadata": {},
   "outputs": [],
   "source": [
    "#\n",
    "# Type your code here\n",
    "#\n"
   ]
  },
  {
   "cell_type": "markdown",
   "metadata": {},
   "source": [
    "**Keyword arguments** are useful for another reason.  When you use **keyword arguments**, you can specify **default values**.  This means that in addition to not having to specify the arguments in the exact order they are defined in the function, you only provide arguments to the function call for things you want to change.  This is very convenient for cases where you have many arguments/options, but most of them can be left at the default values.  Default values are easy to add.  Make the following changes to the code:\n",
    "\n",
    "```Python\n",
    "def my_func(arg1=4, arg2=[1,2], text='Default'):\n",
    "    print('text',text)\n",
    "    print('arg2',arg1)\n",
    "    print('arg3',arg2)\n",
    "      \n",
    "print('Start')\n",
    "my_func()\n",
    "print()\n",
    "my_func(text='Function', arg1=1, arg2=[1,3])\n",
    "print()\n",
    "my_func(text='Second Function')\n",
    "print()\n",
    "print('End')\n",
    "```\n"
   ]
  },
  {
   "cell_type": "code",
   "execution_count": 17,
   "metadata": {},
   "outputs": [],
   "source": [
    "#\n",
    "# Type your code here\n",
    "#\n"
   ]
  },
  {
   "cell_type": "markdown",
   "metadata": {},
   "source": [
    "Using positional arguments works fine when you know exactly how many arguments you are expecting and keyword arguments are good for specifying a subset of arguments, but what if you want to pass in a variable number of arguments?  Python can do this as well.  Make the following changes in the first program that we did:\n",
    "\n",
    "```Python\n",
    "def my_func(text, *args):\n",
    "    print(len(args))\n",
    "    print('text',text)\n",
    "    print('arg2',args[0])\n",
    "    print('arg3',args[1])\n",
    "      \n",
    "print('Start')\n",
    "my_func('Function', 1, [1,3])\n",
    "print('----')\n",
    "my_func('Second Function',[2,6],2)\n",
    "print('End')\n",
    "```\n"
   ]
  },
  {
   "cell_type": "code",
   "execution_count": 20,
   "metadata": {},
   "outputs": [],
   "source": [
    "#\n",
    "# Type your code here\n",
    "#\n"
   ]
  },
  {
   "cell_type": "markdown",
   "metadata": {},
   "source": [
    "10\\.  How is this similar to positional arguments?   ***Enter Answer Here***"
   ]
  },
  {
   "cell_type": "markdown",
   "metadata": {},
   "source": [
    "Notice in the previous step we used both positional and variable arguments.  This is allowed.  You can use just positional arguments and keyword arguments or could simply have one entry for variable arguments, but if you use both positional and variable arguments, the positional arguments must come BEFORE the variable argument value.  When the function is called, the arguments will be assigned to any positional arguments first (in the order they appeared in the function call) and the remainder of the arguments will be assigned to the variable argument value.  Please note that there may be no values in the variable argument list (that is OK), so you must check for that.\n",
    "\n",
    "There is one other variant for variable arguments and that is uses a double asterisk ** instead of a single asterisk.  If you use a function argument with the double asterisk, the variable argument will come not as a list, but as a dictionary, with keywords being the keys and the value for the keywords being the values.  If you want to try this, you do so for yourself.\n",
    "\n",
    "###  A Few Other Things\n",
    "\n",
    "Python has the concept ofcode running in the global scope.  This is different than other languages which require you to explicitly designate a **main()** function or program entry point.  While it is great that Python is flexible, there are some advantages to having a main code function.  These advantages include being able to import your entire code file into another program and use the functions in a different application.  This does not work if there is a lot of code at the zero-indent level.   You can simulate a main code function by doing something like the following.  Make the following changes to the last program:\n",
    "      \n",
    "```Python\n",
    "def my_func(text, *args):\n",
    "    print(len(args))\n",
    "    print('text',text)\n",
    "    print('arg2',args[0])\n",
    "    print('arg3',args[1])\n",
    "      \n",
    "def main():\n",
    "    print('Start')\n",
    "    my_func('Function', 1, [1,3])\n",
    "    print('----')\n",
    "    my_func('Second Function',[2,6],2)\n",
    "    print('End')\n",
    "      \n",
    "if __name__ == \"__main__\":\n",
    "    main()\n",
    "```"
   ]
  },
  {
   "cell_type": "code",
   "execution_count": 23,
   "metadata": {},
   "outputs": [],
   "source": [
    "#\n",
    "# Type your code here\n",
    "#\n"
   ]
  },
  {
   "cell_type": "markdown",
   "metadata": {},
   "source": [
    "The global variable ***__name__*** will be set by Python when you run the file (there are other variables that are set, and you can check these on Google if you want).  If you import this file ubti another program, the ***__name__*** variable will not be set to ***__main__*** and the main code block won't run.  The file that imnported this program could call either ***my_func*** or ***main*** as functions whenever it needed them."
   ]
  },
  {
   "cell_type": "markdown",
   "metadata": {},
   "source": [
    "###  Modules\n",
    "\n",
    "Let's talk about import code from other files a bit more.  Python is designed to be modular.  Many of the Python libraries are provided as separate modules that you can bring into your program if you need to use them.  One example is the ***math*** module, which contains a lot of functions to implement higher order mathematical functions.  In order to use these, you need to bring the module into Python.  Once you do, you can access values and/or functions in that module like methods.  Try the following:\n",
    "\n",
    "```Python\n",
    "import math\n",
    "x=math.sqrt(9.0)\n",
    "print(x)\n",
    "```"
   ]
  },
  {
   "cell_type": "code",
   "execution_count": 58,
   "metadata": {},
   "outputs": [],
   "source": [
    "#\n",
    "# Enter your code here\n",
    "#\n"
   ]
  },
  {
   "cell_type": "markdown",
   "metadata": {},
   "source": [
    "Sometimes the module names can be very long and you may want a shorthand way to refer to them.  By default, just using the import command will use the module name as the prefix for all the items in that module.  You can change that by changing the import statement to assign a prefix. Try the following:\n",
    "\n",
    "```Python\n",
    "import math as m\n",
    "x=m.sqrt(9.0)\n",
    "print(x)\n",
    "```"
   ]
  },
  {
   "cell_type": "code",
   "execution_count": 25,
   "metadata": {},
   "outputs": [],
   "source": [
    "#\n",
    "# Enter your code here\n",
    "#\n"
   ]
  },
  {
   "cell_type": "markdown",
   "metadata": {},
   "source": [
    "There is another common way to **import** code from another file (a **module**).  Sometimes the module/file you are importing may have a lot more things than you need or maybe it does not have the ***__main__*** structure we covered earlier.  In these cases you can import part of a module.  Try the following:\n",
    "\n",
    "```Python\n",
    "from math import sqrt as s\n",
    "x=s(9.0)\n",
    "print(x)\n",
    "```"
   ]
  },
  {
   "cell_type": "code",
   "execution_count": 27,
   "metadata": {},
   "outputs": [],
   "source": [
    "#\n",
    "#  Enter your code here\n",
    "#\n"
   ]
  },
  {
   "cell_type": "markdown",
   "metadata": {},
   "source": [
    "As you can see, this is good way to shorten a long function name."
   ]
  }
 ],
 "metadata": {
  "kernelspec": {
   "display_name": "Python 3",
   "language": "python",
   "name": "python3"
  },
  "language_info": {
   "codemirror_mode": {
    "name": "ipython",
    "version": 3
   },
   "file_extension": ".py",
   "mimetype": "text/x-python",
   "name": "python",
   "nbconvert_exporter": "python",
   "pygments_lexer": "ipython3",
   "version": "3.6.3"
  }
 },
 "nbformat": 4,
 "nbformat_minor": 4
}
