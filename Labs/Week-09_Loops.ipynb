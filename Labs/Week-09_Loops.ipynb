{
 "cells": [
  {
   "cell_type": "markdown",
   "metadata": {},
   "source": [
    "# Lab - Loops\n",
    "\n",
    "*This lab has 2 intentional errors in it.*"
   ]
  },
  {
   "cell_type": "markdown",
   "metadata": {},
   "source": [
    "###  Topic\n",
    "\n",
    "We talked about **conditionals** and **functions** to help make programs more useful.  However, one of the things that makes programs really useful is the ability to use repetition to complete the same or a similar task over a large amount of data.  For example, if you have 50,000 lines in a spreadsheet, you can either spend a week typing changes by hand or create a Python program which does it in a very short time!  The code to do repetitive task is called a **loop**.  There are several ways to do loops in Python.  Consider the following code.\n",
    "\n",
    "```Python\n",
    "my_list=[]\n",
    "name1=input('Enter a name: ')\n",
    "my_list.append(name1)\n",
    "name2=input('Enter a name: ')\n",
    "my_list.append(name2)\n",
    "name3=input('Enter a name: ')\n",
    "my_list.append(name3)\n",
    "name4=input('Enter a name: ')\n",
    "my_list.append(name4)\n",
    "print('\\nName List:')\n",
    "print(name1)\n",
    "print(name2)\n",
    "print(name3)\n",
    "print(name4)\n",
    "```"
   ]
  },
  {
   "cell_type": "markdown",
   "metadata": {},
   "source": [
    "1\\.  There is nothing wrong with this, but does this seem like a good use of code?  Is it efficient?  Why or why not?  **Enter your answer here**"
   ]
  },
  {
   "cell_type": "markdown",
   "metadata": {},
   "source": [
    "You can rewrite this as a **while** loop.\n",
    "\n",
    "```Python\n",
    "my_list=[]\n",
    "name=input('Enter a name: ')\n",
    "\n",
    "while name != '':\n",
    "    my_list.append(name)\n",
    "    name=input('Enter a name: ')\n",
    "\n",
    "print('\\nName List:')\n",
    "i=0\n",
    "\n",
    "while i < len(my_list):\n",
    "    print(my_list[i])\n",
    "    i=i+1\n",
    "```\n",
    "     \n",
    "Let’s break this down a bit.  Right away you notice that just like ***if*** statements, ***while*** loops use an indented code block.  Everything in the higher levels of indent from the ***while*** statement is in the loop code block.  This is also called the **body** of the loop.  Each pass though the body of the code is called an **iteration**.\n",
    "\n",
    "Try entering the above code in cell below and give it two names before just hitting enter.  "
   ]
  },
  {
   "cell_type": "code",
   "execution_count": 2,
   "metadata": {},
   "outputs": [],
   "source": [
    "##\n",
    "## Enter the code here\n",
    "##\n"
   ]
  },
  {
   "cell_type": "markdown",
   "metadata": {},
   "source": [
    "2\\.  If you run this several times with different numbers of names, does it work every time?  **Enter Answer Here**"
   ]
  },
  {
   "cell_type": "markdown",
   "metadata": {},
   "source": [
    "A key part to understanding **while loops** is knowing when the **condition** is checked.  It is only checked at the *beginning* of each iteration, not during the iteration.  So, if the condition becomes **False** while the loop is running, it will complete the current iteration before rechecking the condition.  Make the following change to first while loop in the code:\n",
    "\n",
    "```Python\n",
    "while name == '':\n",
    "```\n",
    "\n",
    "So it looks like this:\n",
    "\n",
    "```Python\n",
    "my_list=[]\n",
    "name=input('Enter a name: ')\n",
    "\n",
    "while name == '':\n",
    "    my_list.append(name)\n",
    "    name=input('Enter a name: ')\n",
    "\n",
    "print('\\nName List:')\n",
    "i=0\n",
    "\n",
    "while i < len(my_list):\n",
    "    print(my_list[i])\n",
    "    i=i+1\n",
    "```\n"
   ]
  },
  {
   "cell_type": "code",
   "execution_count": null,
   "metadata": {},
   "outputs": [],
   "source": [
    "##\n",
    "## Enter the code here\n",
    "##\n"
   ]
  },
  {
   "cell_type": "markdown",
   "metadata": {},
   "source": [
    "3\\. What is different this time?   ***Enter Answer Here***"
   ]
  },
  {
   "cell_type": "markdown",
   "metadata": {},
   "source": [
    "The value checked in the while statement is called a **sentinel value**.  This means that it acts as an indicator of whether to continue the loop before every iteration.  An important thing to note is then when using a sentinel value, it must be declared and initialized before it used in the loop expression, otherwise you will get an error.\n",
    "\n",
    "Using a sentinel value is very important when you don’t know how many iterations you will have to run.  Using a while loop in our example allows it handle any number of names from 0 to a very large number.  Try changing the first **while** back to the following and run the code:\n",
    "\n",
    "```Python\n",
    "while name != '':\n",
    "```\n",
    "\n",
    "So it looks like this:\n",
    "\n",
    "```Python\n",
    "my_list=[]\n",
    "name=input('Enter a name: ')\n",
    "\n",
    "while name != '':\n",
    "    my_list.append(name)\n",
    "    name=input('Enter a name: ')\n",
    "\n",
    "print('\\nName List:')\n",
    "i=0\n",
    "\n",
    "while i < len(my_list):\n",
    "    print(my_list[i])\n",
    "    i=i+1\n",
    "```\n",
    "    \n",
    "Now run it with one name only."
   ]
  },
  {
   "cell_type": "code",
   "execution_count": null,
   "metadata": {},
   "outputs": [],
   "source": [
    "##\n",
    "## Enter the code here\n",
    "##\n"
   ]
  },
  {
   "cell_type": "markdown",
   "metadata": {},
   "source": [
    "4\\.  Does it work?  If you don't use any names does it also work?   ***Enter Answer Here***"
   ]
  },
  {
   "cell_type": "markdown",
   "metadata": {},
   "source": [
    "The second while statement uses an **index variable**.  This variable is used to access the elements of a container sequentially.  You must initialize this variable to some number (usually 0 if you want to start at the beginning of a container) and then you must increment it each time you do an iteration of the loop!  If you do not do this, you can end up in an **infinite loop** which means it never exits and the program will hang.\n",
    "\n",
    "The loop condition needs to check the index variable against some limit.  In this case, it is checking the number of items we have in the list.  Change the second ***while*** to look like this.\n",
    "\n",
    "```Python\n",
    "while i <= len(my_list):\n",
    "```\n",
    "\n",
    "So the code looks like:\n",
    "\n",
    "```Python\n",
    "my_list=[]\n",
    "name=input('Enter a name: ')\n",
    "\n",
    "while name != '':\n",
    "    my_list.append(name)\n",
    "    name=input('Enter a name: ')\n",
    "\n",
    "print('\\nName List:')\n",
    "i=0\n",
    "\n",
    "while i <= len(my_list):\n",
    "    print(my_list[i])\n",
    "    i=i+1\n",
    "```\n"
   ]
  },
  {
   "cell_type": "code",
   "execution_count": 3,
   "metadata": {},
   "outputs": [],
   "source": [
    "##\n",
    "## Enter the code here\n",
    "##\n"
   ]
  },
  {
   "cell_type": "markdown",
   "metadata": {},
   "source": [
    "5\\.  What do you get?  Why?   ***Enter Answer Here***"
   ]
  },
  {
   "cell_type": "markdown",
   "metadata": {},
   "source": [
    "The other common use of a variable in a loop is a **counting variable**.  This is a variable used to count the number of something found over every iteration of the loop.  This is a little different than an **index variable** because it is only incremented when one (or more things) are found and does *not* have to be incremented each loop.   It also means that unless you have a requirement to stop when a certain count is reached, you may not want to use a counting variable in your while loop expression.  Try making the following changes to the second while loop in the code (you don’t have to add the comments):\n",
    "\n",
    "```Python\n",
    "my_list=[]\n",
    "name=input(\"Enter a name: \")\n",
    "while name != '':\n",
    "    my_list.append(name)\n",
    "    name=input(\"Enter a name: \")\n",
    "      \n",
    "print('\\nName List:')\n",
    "count=0               # ←  ADD THIS\n",
    "i=0\n",
    "\n",
    "while i < len(my_list):   # ←  FIX THIS From <= to <\n",
    "    print(my_list[i])\n",
    "    if len(my_list[i]) > 12:     # ←  ADD THIS\n",
    "        count=count+1    # ←  ADD THIS\n",
    "    i=i+1\n",
    "    \n",
    "print('\\n',count,'Long Names')\n",
    "```"
   ]
  },
  {
   "cell_type": "code",
   "execution_count": 4,
   "metadata": {},
   "outputs": [],
   "source": [
    "##\n",
    "## Enter the code here\n",
    "##\n"
   ]
  },
  {
   "cell_type": "markdown",
   "metadata": {},
   "source": [
    "6\\.  Is the count correct?   ***Enter Answer Here***"
   ]
  },
  {
   "cell_type": "markdown",
   "metadata": {},
   "source": [
    "One other common use of loops are **nested loops**.  This is where you have loops inside of other loops.  This can be an efficient way to access combinations of things in different containers with a  minimum of code.  Type the following in the code cell:\n",
    "\n",
    "```Python\n",
    "letters = ['a', 'b', 'c']\n",
    "numbers = [1, 2, 3]\n",
    "\n",
    "i = 0\n",
    "while i < len(letters):\n",
    "    j = 0\n",
    "    while j < len(numbers):\n",
    "        print('%s%d' % ( letters[i], numbers[j] ) )\n",
    "        j += 1\n",
    "    i += 1\n",
    "print('Done')\n",
    "```\n"
   ]
  },
  {
   "cell_type": "code",
   "execution_count": 5,
   "metadata": {},
   "outputs": [],
   "source": [
    "##\n",
    "## Enter the code here\n",
    "##\n"
   ]
  },
  {
   "cell_type": "markdown",
   "metadata": {},
   "source": [
    "7\\.  Does this print every possible combination?   ***Enter Answer Here***"
   ]
  },
  {
   "cell_type": "markdown",
   "metadata": {},
   "source": [
    "Let’s look at this code a bit more closely. You will notice a couple of things:\n",
    "\n",
    "Check out the indents.  The first ***while*** loop has an indent of one tab, but the code block for the second loop has two-tab indents.  This is how Python knows which code belongs in what loop block.  Putting things at the wrong indent level is a very common and easy to make mistake in Python.\n",
    "\n",
    "Notice the **index variable** in the second loop, ***j***.  See we must initialize it before we do every ***j*** loop (inside loop)."
   ]
  },
  {
   "cell_type": "markdown",
   "metadata": {},
   "source": [
    "8\\.  What would happen if we initialized it outside of the ***i*** loop (the outer loop)?   **Enter your answere here**"
   ]
  },
  {
   "cell_type": "markdown",
   "metadata": {},
   "source": [
    "Finally, notice that the index variable for the outer loop is incremented at the end of the outer loop body.  However, it needs to be a single tab indent.  What happens if it at a double indent.  Try this in the following code cell:\n",
    "\n",
    "```Python\n",
    "letters = ['a', 'b', 'c']\n",
    "numbers = [1, 2, 3]\n",
    "\n",
    "i = 0\n",
    "while i < len(letters):\n",
    "    j = 0\n",
    "    while j < len(numbers):\n",
    "        print('%s%d' % ( letters[i], numbers[j] ) )\n",
    "        j += 1\n",
    "        i += 1\n",
    "print('Done')\n",
    "```\n"
   ]
  },
  {
   "cell_type": "code",
   "execution_count": 6,
   "metadata": {},
   "outputs": [],
   "source": [
    "##\n",
    "## Enter the code here\n",
    "##\n"
   ]
  },
  {
   "cell_type": "markdown",
   "metadata": {},
   "source": [
    "9\\.  How does that affect the program.  Why?    ***Enter Answer Here***"
   ]
  },
  {
   "cell_type": "markdown",
   "metadata": {},
   "source": [
    "There is another type of loop that can be very useful.  We have seen that Python has the concept of a **container**.  A container is any object which holds a collection of values, **ordered** or **unordered** (string, tuple, list, etc.).   ***For*** loops are designed for stepping through containers.   This is called **iterating** over a container.  An important point is that when you start a loop on a container, you know how many elements are in that container.  Remember that ***while*** loops are good for when you don’t know how many times you will have to do the loop, ***for*** loops are better when you do know the number of iterations you will have to do.   The basic format of a ***for*** loop is:\n",
    "\n",
    "```Python\n",
    "for  <variable>  in  <container>:\n",
    "    <code block>\n",
    "```\n",
    "          \n",
    "These are bit different than ***while*** loops in that you do not need to initialize your loop variable in advance.  ***For*** will create that variable and set it to each value in the container in order until it gets through all the values.  Let’s look at a simple example.  Try the following code:\n",
    "\n",
    "```Python\n",
    "my_list=[0, 1, 2, 3, 4]\n",
    "      \n",
    "for  x  in  my_list:\n",
    "    print(x)\n",
    "```"
   ]
  },
  {
   "cell_type": "code",
   "execution_count": 7,
   "metadata": {},
   "outputs": [],
   "source": [
    "##\n",
    "## Enter the code here\n",
    "##\n"
   ]
  },
  {
   "cell_type": "markdown",
   "metadata": {},
   "source": [
    "10\\.  Does this print all the elements in the list?  Is this easier than a while loop?  ***Enter Answer Here***"
   ]
  },
  {
   "cell_type": "markdown",
   "metadata": {},
   "source": [
    "Notice that with ***for*** loops, you don’t need to worry about indexing.  The ***for*** loop does the work of updating the variable (in this case, ***x***) with the appropriate value.  Please note that addition to specifying a container to iterate over, you can also specify *any function returns a container* (e.g. tuple, dictionary, etc.).  One is the ***reversed()*** function.  This function takes any container and reverses the order of the elements.  Make the following change to the code:\n",
    "\n",
    "```Python\n",
    "my_list=[0, 1, 2, 3, 4]\n",
    "      \n",
    "for  x  in  reversed(my_list):\n",
    "     print(x)\n",
    "```\n",
    "     "
   ]
  },
  {
   "cell_type": "code",
   "execution_count": 8,
   "metadata": {},
   "outputs": [],
   "source": [
    "##\n",
    "## Enter the code here\n",
    "##\n"
   ]
  },
  {
   "cell_type": "markdown",
   "metadata": {},
   "source": [
    "11\\.  What other function could you use to return a container (there are many - just pick one)?  ***Enter Answer Here***"
   ]
  },
  {
   "cell_type": "markdown",
   "metadata": {},
   "source": [
    "In the example, we created a list with sequential integers starting at zero.  This is common (like when you are indexing something or you need to go through a sequential list), so there is a function with returns a list of numbers, called ***range()***.  If a single argument is used, ***range()*** will return a range object (which is a type of container) with numbers starting at 0 and ending with one minus the argument provided  (just like **slicing**).  Try making the following changes to your code:\n",
    "\n",
    "```Python\n",
    "for  x  in  range(5):\n",
    "    print(x)\n",
    "```\n"
   ]
  },
  {
   "cell_type": "code",
   "execution_count": 9,
   "metadata": {},
   "outputs": [],
   "source": [
    "##\n",
    "## Enter the code here\n",
    "##\n"
   ]
  },
  {
   "cell_type": "markdown",
   "metadata": {},
   "source": [
    "Sometimes you don’t want the list to start at 0.   You can easily change this by specifying a second argument to ***range()***.  When you use two arguments, the numbers work like they do in slicing, the first number is the first value returned in the container and the second value is *one greater* than the final value.  Make the following changes to the code:\n",
    "\n",
    "```Python\n",
    "for  x  in  range(1,6):\n",
    "    print(x)\n",
    "```"
   ]
  },
  {
   "cell_type": "code",
   "execution_count": 10,
   "metadata": {},
   "outputs": [],
   "source": [
    "##\n",
    "## Enter the code here\n",
    "##\n"
   ]
  },
  {
   "cell_type": "markdown",
   "metadata": {},
   "source": [
    "12\\.  Can you think of a case where this might be useful?   ***Enter Answer Here***"
   ]
  },
  {
   "cell_type": "markdown",
   "metadata": {},
   "source": [
    "The ***range()*** function can take a third argument (again, like in **slicing**) that changes the increment between values from the default of one to some other value.  Make the following change to your code:\n",
    "\n",
    "```Python\n",
    "for  x  in  range(1, 6, 2):\n",
    "    print(x)\n",
    "```\n",
    "    "
   ]
  },
  {
   "cell_type": "code",
   "execution_count": 11,
   "metadata": {},
   "outputs": [],
   "source": [
    "##\n",
    "## Enter the code here\n",
    "##\n"
   ]
  },
  {
   "cell_type": "markdown",
   "metadata": {},
   "source": [
    "What if you want ***range()*** to count backwards?  That works as well.   Try the following in the code cell:\n",
    "      \n",
    "```Python\n",
    "for  x  in  range(6, 1):\n",
    "    print(x)\n",
    "```\n",
    "    "
   ]
  },
  {
   "cell_type": "code",
   "execution_count": 16,
   "metadata": {},
   "outputs": [],
   "source": [
    "##\n",
    "## Enter the code here\n",
    "##\n",
    "\n",
    "for  x  in  range(6, 1):\n",
    "    print(x)"
   ]
  },
  {
   "cell_type": "markdown",
   "metadata": {},
   "source": [
    "13\\.  Did that work?  Why or why not?   ***Enter Answer Here***"
   ]
  },
  {
   "cell_type": "markdown",
   "metadata": {},
   "source": [
    "The solution to this is to use a negative increment.  Try the following:\n",
    "\n",
    "```Python\n",
    "for  x  in  range(6, 1, -1):\n",
    "    print(x)\n",
    "```\n",
    "    "
   ]
  },
  {
   "cell_type": "code",
   "execution_count": 12,
   "metadata": {},
   "outputs": [],
   "source": [
    "##\n",
    "## Enter the code here\n",
    "##\n"
   ]
  },
  {
   "cell_type": "markdown",
   "metadata": {},
   "source": [
    "Let’s go back to using a list.  Sometimes when going through a list, you need more than just the values in the list.  Sometimes you also need the corresponding indices as well.  You could use a ***while*** loop looking something like this (you don’t have to type this into the code cell):\n",
    "\n",
    "```Python\n",
    "my_list=[0, 1, 2, 3, 4]\n",
    "      \n",
    "i=0\n",
    "while  i  < len(my_list):\n",
    "    print('Index',i,'Value',my_list[i])\n",
    "    i=i+1\n",
    "```\n",
    "     "
   ]
  },
  {
   "cell_type": "markdown",
   "metadata": {},
   "source": [
    "Since this is a common use case, there is a function for this.  The ***enumerate()*** function returns a tuple with the first value being the index of the element and the second being the value of that element.  Try the following code:\n",
    "\n",
    "```Python\n",
    "my_list=[0, 1, 2, 3, 4]\n",
    "      \n",
    "for  x  in  enumerate(my_list):\n",
    "    print('Index', x[0], 'Value', x[1])\n",
    "```\n",
    "    "
   ]
  },
  {
   "cell_type": "code",
   "execution_count": 13,
   "metadata": {},
   "outputs": [],
   "source": [
    "##\n",
    "## Enter the code here\n",
    "##\n"
   ]
  },
  {
   "cell_type": "markdown",
   "metadata": {},
   "source": [
    "14\\.  Can you think of a reason that you may want to get the index back as well? (This question is a little harder).   ***Enter Answer Here***"
   ]
  },
  {
   "cell_type": "markdown",
   "metadata": {},
   "source": [
    "The ***enumerate()*** function also allows us to do a cool trick in Python.  Since the ***enumerate()*** function returns a tuple, you can use **unpacking** to save some steps.  Instead of assigning the tuple values returned from enumerate to a single variable, you can automatically break the tuple’s values into multiple single variables.  The comma operator allows you to do this.  Make the following changes to the code:\n",
    "\n",
    "```Python\n",
    "my_list=[0, 1, 2, 3, 4]\n",
    "      \n",
    "for  i, x  in  enumerate(my_list):\n",
    "    print('Index', i, 'Value', x)\n",
    "```\n",
    "    "
   ]
  },
  {
   "cell_type": "code",
   "execution_count": 14,
   "metadata": {},
   "outputs": [],
   "source": [
    "##\n",
    "## Enter the code here\n",
    "##\n"
   ]
  },
  {
   "cell_type": "markdown",
   "metadata": {},
   "source": [
    "### Caution With Containers\n",
    "\n",
    "One thing you need to be careful about when working with ***for*** loops is changing the container while you are **iterating** over it.   There are several considerations here:\n",
    "\n",
    "Changing the **loop variable**.  The **loop variable** (***x*** in our example) is a temporary copy of a value in the container.  If you make a change to this, the original container will not be changed, and ***x*** reassigned in the next iteration.\n",
    "\n",
    "Changing the container.  If you do want to change the original container, you must use the index value to index into the original container.  However, you need to be cautious about doing this as it can cause unpredictable results.\n",
    "\n",
    "If you really need to change the container, you need to make a copy of the list to iterate over.  Make the following changes to the code:\n",
    "\n",
    "```Python\n",
    "my_list=[0, 1, 2, 3, 4]\n",
    "      \n",
    "for  i, x  in  enumerate(my_list.copy()):\n",
    "    my_list[i]=10+x\n",
    "    print(x,'-->',my_list[i])\n",
    "```\n",
    "    "
   ]
  },
  {
   "cell_type": "code",
   "execution_count": 15,
   "metadata": {},
   "outputs": [],
   "source": [
    "##\n",
    "## Enter the code here\n",
    "##\n"
   ]
  },
  {
   "cell_type": "markdown",
   "metadata": {},
   "source": [
    "15\\.  Will this change the elements in the original container, *my_list*?   ***Enter Answer Here***"
   ]
  },
  {
   "cell_type": "markdown",
   "metadata": {},
   "source": [
    "###  Control Logic\n",
    "\n",
    "Loops are great, but there are times when you are executing a loop that you need to stop early.  This can be done with the ***break*** keyword.  Whenever Python encounters a ***break*** keyword, the current loop will immediately stop executing and the code following the loop body will start executing.  Make the following changes to your code:\n",
    "\n",
    "```Python\n",
    "my_list=[0, 1, 2, 3, 4]\n",
    "\n",
    "for  i, x  in  enumerate(my_list.copy()):\n",
    "    if x==2:\n",
    "        break\n",
    "    my_list[i]=10+x\n",
    "    print(x,'-->',my_list[i])\n",
    "\n",
    "print('Here')\n",
    "```\n",
    "    "
   ]
  },
  {
   "cell_type": "code",
   "execution_count": 16,
   "metadata": {},
   "outputs": [],
   "source": [
    "##\n",
    "## Enter the code here\n",
    "##\n"
   ]
  },
  {
   "cell_type": "markdown",
   "metadata": {},
   "source": [
    "16\\.  Did that work?  Can you think of a case where ***break*** might be needed?   ***Enter Answer Here***"
   ]
  },
  {
   "cell_type": "markdown",
   "metadata": {},
   "source": [
    "Sometimes you don’t want the loop to stop, but you just want to stop the current iteration and start over with the next one.  You can do this with the ***continue*** keyword.  Make the following changes to the code:\n",
    "\n",
    "```Python\n",
    "my_list=[0, 1, 2, 3, 4]\n",
    "      \n",
    "for  i, x  in  enumerate(my_list.copy()):\n",
    "    if x==2:\n",
    "        continue\n",
    "    my_list[i]=10+x\n",
    "    print(x,'-->',my_list[i])\n",
    "```\n",
    "    "
   ]
  },
  {
   "cell_type": "code",
   "execution_count": 17,
   "metadata": {},
   "outputs": [],
   "source": [
    "##\n",
    "## Enter the code here\n",
    "##\n"
   ]
  },
  {
   "cell_type": "markdown",
   "metadata": {},
   "source": [
    "17\\.  Can you think of case where this may be useful?   ***Enter Answer Here***"
   ]
  }
 ],
 "metadata": {
  "kernelspec": {
   "display_name": "Python 3",
   "language": "python",
   "name": "python3"
  },
  "language_info": {
   "codemirror_mode": {
    "name": "ipython",
    "version": 3
   },
   "file_extension": ".py",
   "mimetype": "text/x-python",
   "name": "python",
   "nbconvert_exporter": "python",
   "pygments_lexer": "ipython3",
   "version": "3.6.3"
  }
 },
 "nbformat": 4,
 "nbformat_minor": 4
}
