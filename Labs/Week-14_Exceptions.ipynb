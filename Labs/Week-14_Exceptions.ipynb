{
 "cells": [
  {
   "cell_type": "markdown",
   "metadata": {},
   "source": [
    "# Lab - Exception Handling and Lambdas\n",
    "\n",
    "*There are 2 intentional errors in this lab.*"
   ]
  },
  {
   "cell_type": "markdown",
   "metadata": {},
   "source": [
    "###  Handling Errors\n",
    "\n",
    "One of the challenge in programming is **robustness**, which just means that your program can handle almost anything that is given to it without crashing.  This is important if you have any kind of input because that input may or may not make sense or be what you are expecting.  I am sure you have all used programs/applications that are very senstive to how you use them and they can be frustrating.  Alternatively, something external to your program (like a file not being available) may occur.  One way to control your program's behavior for the unexpected is to carefully check the input data and other things against certain conditions.  Although this works, it does not guarantee that you will catch every case or that your program will not crash with an error for some unexpected case.  It also results in a lot of extra code that has to be written and makes your code hrder to understand.\n",
    "\n",
    "An alternative in modern programming languages is **exception handling**.  You are actually already familiar with **exceptions** in Python.  They occur whenever there is a problemin the program.  Let's look at an example.  Try the following code:\n",
    "\n",
    "```Python\n",
    "print(wrong)\n",
    "print('Here')\n",
    "```\n"
   ]
  },
  {
   "cell_type": "code",
   "execution_count": 1,
   "metadata": {},
   "outputs": [],
   "source": [
    "##\n",
    "## Entercode here\n",
    "##\n"
   ]
  },
  {
   "cell_type": "markdown",
   "metadata": {},
   "source": [
    "When you executed that, Python *took an exception*.  By default, Python will stop the programm immediately and print a message like the one you just saw when an exception occurs.  That may be what you want, but there are other times that you may want to not have the program just stop running.   Python allows you to create your own code that will run during an **exception**.  In other words, you want to **catch** the exception and do something about it.  Catching an exception allows your program to keep running and make any changes to try and counteract the error (if possible) or exit more gracefully (like saving important data so it is not lost).\n",
    "\n",
    "Python allows you to catch various types of exceptions inside particular code blocks.  This means you can set different exception handling policies in different code blocks.  You catch exceptions using the ***try:*** and ***except:*** keywords.  The basic idea is fairly simple.  You start a code block with the ***try:*** keyword.   Inside this code block, any exception will be caught by the program (instead of the Python standard exception handler).   A ***try:*** code block must be paired with at least one ***except:*** code block.  The ***except:*** code block will only be executed if an exception (by default all exceptions) occurs anywhere in the corresponding ***try:*** code block.\n",
    "\n",
    "Let's look at an example.  Type the following into the code cell and then try running it several times.  First give it a valid input (like 7), and then try giving it something invalid (like q).\n",
    "\n",
    "```Python\n",
    "import random\n",
    "rnd = random.randint(1,10)\n",
    "try:\n",
    "    guess = int(input('Guess: '))\n",
    "    if guess == rnd:\n",
    "        print('Correct!')\n",
    "    else:\n",
    "        print('Incorrect...')\n",
    "except:\n",
    "    print('Invalid input!')\n",
    "```\n",
    "    "
   ]
  },
  {
   "cell_type": "code",
   "execution_count": 2,
   "metadata": {},
   "outputs": [],
   "source": [
    "##\n",
    "## Enter code here\n",
    "##\n"
   ]
  },
  {
   "cell_type": "markdown",
   "metadata": {},
   "source": [
    "1\\.  Did that print a standard error message?   ***Enter Answer Here***"
   ]
  },
  {
   "cell_type": "markdown",
   "metadata": {},
   "source": [
    "In that example, an invalid value entered causes the code in the ***except:*** code block to be run.  The main purpose of this ***try:***/***except:*** block was to catch the error that occurs when you pass something that does not make sense to the ***int()*** function.  This returns a ***ValueError***.   This will be caught and the ***except:*** code block to be executed.  Please note that when the exception occurs, the code in the original ***try:*** code block immediately stops running (it does not complete like a loop) and the exception code is immediately executed.\n",
    "\n",
    "However, if you were like me when I was first developing the lab, you may have made a mistake in typing the program (e.g. used the wrong name for a variable).  This causes the ***except:*** code block to be run every time.  That may be a little confusing and shows the need to handle different exceptions in a different way.  This can be done by using mutiple ***except:*** code blocks.  Try the following code:\n",
    "\n",
    "```Python\n",
    "import random\n",
    "rnd = random.randint(1,10)\n",
    "try:\n",
    "    guess = int(input('Guess: '))\n",
    "    if guess == rnd:\n",
    "        print('Correct!')\n",
    "    else:\n",
    "        print('Incorrect...')\n",
    "except ValueError:\n",
    "    print('Invalid input!')\n",
    "except:\n",
    "    print('Another Type of Error Has Occurred')\n",
    "```\n",
    "    \n",
    "First, running it again with a valid value.\n",
    "\n",
    "Second, running it with a valid value, try running it with an invalid value.\n",
    "\n",
    "Finally, go in and change one of the variable names in the ***try:*** block to something that does not exist and run it again with a valid number entry.\n",
    "\n"
   ]
  },
  {
   "cell_type": "code",
   "execution_count": 3,
   "metadata": {},
   "outputs": [],
   "source": [
    "##\n",
    "## Copy and edit your code here\n",
    "##\n"
   ]
  },
  {
   "cell_type": "markdown",
   "metadata": {},
   "source": [
    "2\\. Did that work as you expected?   ***Enter Answer Here***"
   ]
  },
  {
   "cell_type": "markdown",
   "metadata": {},
   "source": [
    "3\\. What does that suggest about using exception clauses during development of a program?   ***Enter Answer Here**"
   ]
  },
  {
   "cell_type": "markdown",
   "metadata": {},
   "source": [
    "You can have as many **except** code blocks as you want (each with a different type of error).  Having an **except** block with no particular error means it will **catch** any error that has not already been caught.  Can you just have **except** code blocks for specific errors and no default **except** code block?  Yes, you can certainly do that.  In that case if you get an exception not covered by one your ***except:*** code blocks, the standard Python exception handler will run and your program will stop executing.\n",
    "\n",
    "Python exceptions are organized into a hierarchy:\n",
    "\n",
    "<img src=\"images/Exception.jpg\">\n",
    "\n",
    "If you just specify the ***except:*** with no specific exception class, it will catch all exceptions in the class ***Exception***.   You will also notice that some exceptions are in groups (like an ***ArithmeticError*** has three sub exceptions).  You can specify an individual exception or one of the exection groups to be caught."
   ]
  },
  {
   "cell_type": "markdown",
   "metadata": {},
   "source": [
    "4\\.  What do you think happens in a program that has only specific **except** blocks and it takes an exception that is not covered by any of the code blocks?   ***Enter Answer Here***"
   ]
  },
  {
   "cell_type": "markdown",
   "metadata": {},
   "source": [
    "One very important aspect of the ***try:***/***except:*** construct is it's **scope**.  We talked about **scope** in the class on function in the context of where variables are defined and who can access them.  The ***try:*** coverage will be in effect for the entire duration of the ***try:*** code block.  That makes sense, but it's important to note that if you call a user (or any other) function from inside that ***try:*** block, the exception coverage is still in effect, so if that function you called (or any other functions it called) cause an exception, your program will immediately jump back to your associated **except:** code blocks, so it's important to remember this.\n",
    "\n",
    "Here is some code to try:\n",
    "\n",
    "```Python\n",
    "def my_funx(q):\n",
    "    if qq == 'f':\n",
    "        print('OK')\n",
    "    x=int(q)\n",
    "        \n",
    "import random\n",
    "rnd=random.randint(1,10)\n",
    "try:\n",
    "    my_func('OK')\n",
    "    guess = int(input('Guess:'))\n",
    "    if gues == rnd:\n",
    "        print('Correct')\n",
    "    else:\n",
    "        print('Incorrect')\n",
    "except ValueError:\n",
    "    print('Invalid Input')\n",
    "except:\n",
    "    print('Another error type has occurred')\n",
    "    \n",
    "print('Here')\n",
    "```"
   ]
  },
  {
   "cell_type": "code",
   "execution_count": null,
   "metadata": {},
   "outputs": [],
   "source": [
    "##\n",
    "## Enter code here\n",
    "##\n"
   ]
  },
  {
   "cell_type": "markdown",
   "metadata": {},
   "source": [
    "Of course, if you are able to **catch** exceptions, you are also able to **throw** them (i.e. cause them to occur).  In Python, you can do this with the ***raise*** keyword.  You can do this at any point in your program and the Python error handling will start just like if the exception had been generated by the kernel.  This also means it will be caught if you are covered by a ***try:*** block and it will stop the program if you are not.  Try the following in the code block:\n",
    "\n",
    "```Python\n",
    "raise NameError(\"My error message\")\n",
    "```\n"
   ]
  },
  {
   "cell_type": "code",
   "execution_count": 4,
   "metadata": {},
   "outputs": [],
   "source": [
    "##\n",
    "## Enter code here\n",
    "##\n"
   ]
  },
  {
   "cell_type": "markdown",
   "metadata": {},
   "source": [
    "The main argument to ***raise*** is the type of error you would like to generate.  These are all defined inside Python as functions, and you can specify an argument which is the message you like printed for the user.  This is a good way to provide more information on the likely cause of the error.  For example, a NameError may not tell the user enough, but saying something like *\"Number entered is too large.  Try a smaller value\"* may be more helpful.\n",
    "\n",
    "There are two more facilities that you can use for exception handling.  The first is the ***else:*** construct.  You specify this as a code block after your last ***except:*** code block.  The ***else:*** code block will only be executed if your entire ***try:*** code block is completed with *NO* exceptions occurring.  The code in the ***else:*** block can assume no errors occurred in the try block.  This can be handy if your exception code is fixing up or ignoring incorrect data.  If that is the case, the code in the else can be used to indicate that there was no bad data and everything is cool.\n",
    "\n",
    "Try the following code:\n",
    "\n",
    "```Python\n",
    "import random\n",
    "rnd = random.randint(1,10)\n",
    "try:\n",
    "    guess = int(input('Guess: '))\n",
    "    if guess == rnd:\n",
    "        print('Correct!')\n",
    "    else:\n",
    "        print('Incorrect...')\n",
    "except ValueError:\n",
    "    print('Invalid input!')\n",
    "except:\n",
    "    print('Another Type of Error Has Occurred')\n",
    "else:\n",
    "    print('No error has occurred')\n",
    "```\n",
    "     \n",
    "Then run the code cell with a valid and invalid value."
   ]
  },
  {
   "cell_type": "code",
   "execution_count": 5,
   "metadata": {},
   "outputs": [],
   "source": [
    "##\n",
    "## Paste and edit code here\n",
    "##\n"
   ]
  },
  {
   "cell_type": "markdown",
   "metadata": {},
   "source": [
    "The other thing you can add is a ***finally:*** code block.  This is a block of code that get executed whether or not an exception has occurred, so it is guaranteed to run.   Although this is easy to understand, the actual use cases are not as easy to envision.  Imagine you have some code that looks like this:\n",
    "\n",
    "```Python\n",
    "try:\n",
    "    run_code1()\n",
    "except TypeError:\n",
    "    run_code2()\n",
    "other_code()```\n",
    "\n",
    "The above works, but say you use a ***finally:*** code block:\n",
    "\n",
    "```Python\n",
    "try:\n",
    "    run_code1()\n",
    "except TypeError:\n",
    "    run_code2()\n",
    "finally:\n",
    "    other_code()\n",
    "```\n",
    "    "
   ]
  },
  {
   "cell_type": "markdown",
   "metadata": {},
   "source": [
    "5\\.  Wouldn't that be the same thing?  ***Enter Answer Here***"
   ]
  },
  {
   "cell_type": "markdown",
   "metadata": {},
   "source": [
    "6\\.  If it is can you think of case where the second one is needed? (This is a harder question, so take a minute or two to think about it)  ***Enter Answer Here***"
   ]
  },
  {
   "cell_type": "markdown",
   "metadata": {},
   "source": [
    "x\n",
    "\n",
    "x\n",
    "\n",
    "x\n",
    "\n",
    "x\n",
    "\n",
    "x\n",
    "\n",
    "x\n",
    "\n",
    "x\n",
    "\n",
    "x\n",
    "\n",
    "x\n",
    "\n",
    "x\n",
    "\n",
    "x\n",
    "\n",
    "x\n",
    "This Cell Intentionally Left Blank\n",
    "x\n",
    "\n",
    "x\n",
    "\n",
    "x\n",
    "\n",
    "x\n",
    "\n",
    "x\n",
    "\n",
    "x\n",
    "\n",
    "x\n",
    "\n",
    "x"
   ]
  },
  {
   "cell_type": "markdown",
   "metadata": {},
   "source": [
    "There are several cases where the ***finally:*** code block may makes sense. Let's go back to the number guessing program.  Try the following code:\n",
    "\n",
    "```Python\n",
    "import random\n",
    "rnd = random.randint(1,10)\n",
    "try:\n",
    "    guess = int(input('Guess: '))\n",
    "    if guess == rnd:\n",
    "        print('Correct!')\n",
    "    else:\n",
    "        print('Incorrect...')\n",
    "except ValueError:\n",
    "    print('Invalid input!')\n",
    "except:\n",
    "    print('Another Type of Error Has Occurred')\n",
    "else:\n",
    "    print('No error has occurred')\n",
    "finally:\n",
    "    print('Program finished...cleaning up')\n",
    "```\n",
    " \n",
    "Try this with at least one valid and one invalid value."
   ]
  },
  {
   "cell_type": "code",
   "execution_count": 6,
   "metadata": {},
   "outputs": [],
   "source": [
    "##\n",
    "## Enter code here\n",
    "##\n"
   ]
  },
  {
   "cell_type": "markdown",
   "metadata": {},
   "source": [
    "7\\.  When did the finally code block execute?  ***Enter Answer Here***"
   ]
  },
  {
   "cell_type": "markdown",
   "metadata": {},
   "source": [
    "A ***finally:*** block may also be useful if an exception occurs in the ***except:*** code block.  That kind of exception is *not* covered by the ***try:*** block and any exception will normally stop the program and not cause any more code to be run.  However, if there is a ***finally:*** code block it will be executed.  You see this sometimes in programs you use when you get something non-specific like \"An Internal Error Has Occurred\".   This is the kind of message that can appear in a ***finally:*** block if it detects an error in the ***except:*** code."
   ]
  },
  {
   "cell_type": "markdown",
   "metadata": {},
   "source": [
    "### Lambdas\n",
    "\n",
    "Python has support for **lambda functions**.   These are also called **anonymous functions**.  These are functionas that have no persistent state and do not effect any outside parts of the program.   They are used in **functional programming** which can be done in Python, but we don't focus on in this class.   However, you will see lambdas when working with Python code, so it's important to understand them and they are not that difficult to read.\n",
    "\n",
    "Let's look at a simple example program.  One of the functions of **lambdas** is to act or make changes to arguments to more complex function.  A simple example of this without using **lamdbas** is:\n",
    "\n",
    "```Python\n",
    "def func(y):\n",
    "    return y*2\n",
    "\n",
    "val=2\n",
    "print(func(val))\n",
    "```\n",
    "\n",
    "Go ahead and try this code."
   ]
  },
  {
   "cell_type": "code",
   "execution_count": 14,
   "metadata": {},
   "outputs": [],
   "source": [
    "##\n",
    "## Enter your code here\n",
    "##\n"
   ]
  },
  {
   "cell_type": "markdown",
   "metadata": {},
   "source": [
    "Of course, this could simply be written as:\n",
    "\n",
    "```Python\n",
    "print(val*2)\n",
    "```\n",
    "\n",
    "But for now, the previous code will help illustrate a **lambda function**.   **Lambas** can be used as a short hand function definition.  For example, let's change our example code to look like:\n",
    "\n",
    "```Python\n",
    "func=lambda x: x*2\n",
    "val=2\n",
    "print(func(val))\n",
    "```\n",
    "\n",
    "Try running this code in the cell below:"
   ]
  },
  {
   "cell_type": "code",
   "execution_count": 24,
   "metadata": {},
   "outputs": [],
   "source": [
    "##\n",
    "## Enter your code here\n",
    "##\n"
   ]
  },
  {
   "cell_type": "markdown",
   "metadata": {},
   "source": [
    "This still does not seem that useful, but where this capability is frequently used is in **high order functions**.  What is a **high order function**?  It is a function which takes another function as it's argument.  Let's look at an example.  One of the other **functional programming** features in Python is the ***map()*** function.  This function takes a **function** and a **list** as it's arguments.  It then applies that function to every item in the list and returns the a map object with the updated values (this can then be iterated in a loop or turned into a list).  Let's look at an example:\n",
    "\n",
    "```Python\n",
    "my_list=[1,2,3,4,5]\n",
    "new_obj=map(lambda x: x*2, my_list)\n",
    "print(new_obj)\n",
    "new_list=list(new_obj)\n",
    "print(new_list)\n",
    "```\n"
   ]
  },
  {
   "cell_type": "code",
   "execution_count": 30,
   "metadata": {},
   "outputs": [],
   "source": [
    "##\n",
    "## Enter your code here\n",
    "##\n"
   ]
  },
  {
   "cell_type": "markdown",
   "metadata": {},
   "source": [
    "That's a common use of a **lambda function**.  There is one other function related to ***map()*** and that is the ***filter()*** function.  This function works like the map, except that it only returns elements from the list where the function argument is ***True***, so it works like an actual filter.  Try this example:\n",
    "\n",
    "```Python\n",
    "my_list=[1,2,3,4,5]\n",
    "new_obj=filter(lambda x: x % 2 == 0, my_list)\n",
    "print(new_obj)\n",
    "new_list=list(new_obj)\n",
    "print(new_list)\n",
    "```"
   ]
  },
  {
   "cell_type": "code",
   "execution_count": 32,
   "metadata": {},
   "outputs": [],
   "source": [
    "##\n",
    "## Enter your code here\n",
    "##\n"
   ]
  }
 ],
 "metadata": {
  "kernelspec": {
   "display_name": "Python 3",
   "language": "python",
   "name": "python3"
  },
  "language_info": {
   "codemirror_mode": {
    "name": "ipython",
    "version": 3
   },
   "file_extension": ".py",
   "mimetype": "text/x-python",
   "name": "python",
   "nbconvert_exporter": "python",
   "pygments_lexer": "ipython3",
   "version": "3.6.3"
  }
 },
 "nbformat": 4,
 "nbformat_minor": 4
}
