{
 "cells": [
  {
   "cell_type": "markdown",
   "metadata": {},
   "source": [
    "# Lab - File I/O\n",
    "\n",
    "*There are two intentional errors in this lab*"
   ]
  },
  {
   "cell_type": "markdown",
   "metadata": {},
   "source": [
    "### Accessing Files\n",
    "\n",
    "Input and output are very important, because without them, programs are not very useful.   You have experience reading input from and printing to the console at this point in the course, but that’s not always enough.  Sometimes you have a large amount of input data to process and it may yield a lot of output data.  Python can easily handle large amounts of data, but it would be tedious and error-prone to type all that information via the console or have to read it on the screen to write it down somewhere, so the solution is to use **files** on a storage medium to read or write your data.  This lab will discuss file I/O in Python and some data interchange formats.\n",
    "\n",
    "Using **files** is a little different than simple console input and output, which just uses ***input()*** and ***print()***.  To use a **file**, you need to create a **file object** and a variable that points to that object.   This is called a **file descriptor**, but it will help you to think of the file descriptor as just another object, with a variable pointing to it and giving you a lot of methods to access the file.\n",
    "\n",
    "You can create the object with a single call, ***open()***.  This will return a file descriptor that you can then use to access the file.  With this lab, there are several pre-made files for you to use.  The first is ***file_example1.txt*** and this is what is in the file:\n",
    "\n",
    "```C\n",
    "Hello,\n",
    "This is a file\n",
    "The End!\n",
    "```\n",
    "\n",
    "Let's start by doing some simple code that will read the file and print out the contents.  Enter the following code into the code cell (this code should not return an error):\n",
    "\n",
    "```Python\n",
    "f = open('file_example1.txt')\n",
    "c = f.read()\n",
    "print(type(c))\n",
    "print('---')\n",
    "print(c)\n",
    "```\n"
   ]
  },
  {
   "cell_type": "code",
   "execution_count": 1,
   "metadata": {},
   "outputs": [],
   "source": [
    "##\n",
    "## Enter your code here\n",
    "##\n"
   ]
  },
  {
   "cell_type": "markdown",
   "metadata": {},
   "source": [
    "As you can see the ***read()*** method literally reads the entire file into a single string.   While this may be useful for some applications, it is more common to need to read files line by line.  Python has an easy way to do this, the ***readlines()*** method.  Modify your program to look like the following (you don't need to add the comment):\n",
    "\n",
    "```Python\n",
    "f = open('file_example1.txt')\n",
    "c = f.readlines()    # <---- Change This line\n",
    "print(type(c))\n",
    "print('----')\n",
    "print(c)\n",
    "```\n"
   ]
  },
  {
   "cell_type": "code",
   "execution_count": 2,
   "metadata": {},
   "outputs": [],
   "source": [
    "##\n",
    "## Enter your code here\n",
    "##\n"
   ]
  },
  {
   "cell_type": "markdown",
   "metadata": {},
   "source": [
    "Why might this be better?"
   ]
  },
  {
   "cell_type": "markdown",
   "metadata": {},
   "source": [
    "1\\. **Enter your answer here**"
   ]
  },
  {
   "cell_type": "markdown",
   "metadata": {},
   "source": [
    "The ***readlines()*** method, breaks all the lines into a **list** of items.  It is important to note that the newline characters that are in the file are still in the string returned by ***read()*** and in the strings in the list returned by ***readlines()***.  You will need to make sure you account for these when processing the data.\n",
    "\n",
    "To write to a file, you will use the ***write()*** method for the file object.  This call will write the argument into the file.  Make the following changes to the code:\n",
    "\n",
    "```Python\n",
    "f=open(\"file_example1.txt\")\n",
    "c=f.readlines()\n",
    "f.close()\n",
    "\n",
    "g=open(\"file_out1.txt\")\n",
    "for i in c:\n",
    "     g.write(i)\n",
    "g.close()\n",
    "\n",
    "h=open(\"file_out1.txt\")\n",
    "d=h.readlines()\n",
    "print(d)\n",
    "```\n"
   ]
  },
  {
   "cell_type": "code",
   "execution_count": 3,
   "metadata": {},
   "outputs": [],
   "source": [
    "##\n",
    "## Enter your code here\n",
    "##\n"
   ]
  },
  {
   "cell_type": "markdown",
   "metadata": {},
   "source": [
    "That did not work!  The reason is that files can be opened in many different **modes** that control reading, writing, and whether a new file is created if it does not exist (as opposed to returning an error).  By default, the **mode** for a file is **read-only** and will generate an error if the file does not exist.  Make the following change to the code.:\n",
    "\n",
    "```Python\n",
    "f=open(\"file_example1.txt\")\n",
    "c=f.readlines()\n",
    "f.close()\n",
    "\n",
    "g=open(\"file_out1.txt\",'w')\n",
    "for i in c:\n",
    "    g.write(i)\n",
    "g.close()\n",
    "\n",
    "h=open(\"file_out1.txt\")\n",
    "d=h.readlines()\n",
    "print(d)\n",
    "```\n"
   ]
  },
  {
   "cell_type": "code",
   "execution_count": 4,
   "metadata": {},
   "outputs": [],
   "source": [
    "##\n",
    "## Enter your code here\n",
    "##\n"
   ]
  },
  {
   "cell_type": "markdown",
   "metadata": {},
   "source": [
    "The previous code shows two important things.  The first is that you must **close** a file when you are done using it.  This is especially important when you are writing to a file.   The second is the **mode** flag which controls whether the file can only be read, only be written, or both.  Additionally, it also controls *where* in the file the reading or writing happens.  Let’s try adding to a file. Make the following changes to the code:\n",
    "\n",
    "```Python\n",
    "f=open(\"file_out1.txt\")\n",
    "c=f.readlines()\n",
    "f.close()\n",
    "\n",
    "g=open(\"file_out1.txt\",'w')\n",
    "for i in c:\n",
    "    g.write(i)\n",
    "g.close()\n",
    "\n",
    "h=open(\"file_out1.txt\")\n",
    "d=h.readlines()\n",
    "print(d)\n",
    "```\n"
   ]
  },
  {
   "cell_type": "code",
   "execution_count": 5,
   "metadata": {},
   "outputs": [],
   "source": [
    "##\n",
    "## Enter your code here\n",
    "##\n"
   ]
  },
  {
   "cell_type": "markdown",
   "metadata": {},
   "source": [
    "Did that add lines to the file ***file_ou1.txt***?"
   ]
  },
  {
   "cell_type": "markdown",
   "metadata": {},
   "source": [
    "2\\.  **Enter your answer here**"
   ]
  },
  {
   "cell_type": "markdown",
   "metadata": {},
   "source": [
    "That should have doubled the lines in the file.  Why didn’t it work?  The reason is that the **mode** specified in the ***open()*** command not only controls whether you can read or write to a file, but also where the in the file the reads and writes will start!  Here is a simple list of the modes controlling how ***open()***/***read()***/***write()*** behaves:\n",
    "\n",
    "| Mode | Read | Writing | Overwrite Existing File | Read/Write Location | Error if File Does Not Exist |\n",
    "|------|------|---------|-------------------------|---------------------|------------------------------|\n",
    "|  r   | Yes  |   No    |           N/A           |     At Beginning    |              Yes             |\n",
    "| r+ | Yes | Yes | No. |  At Beginning | No |\n",
    "| w | No | Yes | Yes | At Beginning | No |\n",
    "| w+ | Yes | Yes | Yes | At Beginning | No |\n",
    "| a | No | Yes | No | At End | Yes |\n",
    "      \n",
    "Since we want to double the lines in the file, we will choose a mode that starts writing at the end and does not replace the data already in the file.  Make the following changes to the code:\n",
    "\n",
    "```Python\n",
    "f=open(\"file_out1.txt\")\n",
    "c=f.readlines()\n",
    "f.close()\n",
    "\n",
    "g=open(\"file_out1.txt\",'a')\n",
    "for i in c:\n",
    "     g.write(i)\n",
    "g.close()\n",
    "\n",
    "h=open(\"file_out1.txt\")\n",
    "d=h.readlines()\n",
    "print(d)\n",
    "```\n"
   ]
  },
  {
   "cell_type": "code",
   "execution_count": 6,
   "metadata": {},
   "outputs": [],
   "source": [
    "##\n",
    "## Enter code here\n",
    "##\n"
   ]
  },
  {
   "cell_type": "markdown",
   "metadata": {},
   "source": [
    "The *mode* is good for telling Python where to start reading or writing, but what if you want to know where the file is currently set to read and or write?  You can do that with the ***tell()*** method.  This method will return a value indicating where the current **file pointer** (the location for the next read or write) is located.  Make a change to your program to look like:\n",
    "\n",
    "```Python\n",
    "f=open(\"file_out1.txt\")\n",
    "c=f.readlines()\n",
    "print(f.tell())\n",
    "f.close()\n",
    "\n",
    "g=open(\"Outdata.txt\",'a')\n",
    "for i in c:\n",
    "     g.write(i)\n",
    "g.close()\n",
    "\n",
    "h=open(\"Outdata.txt\")\n",
    "d=h.readlines()\n",
    "print(h.tell())\n",
    "print(d)\n",
    "```\n"
   ]
  },
  {
   "cell_type": "code",
   "execution_count": 7,
   "metadata": {},
   "outputs": [],
   "source": [
    "##\n",
    "## Enter your code here\n",
    "##\n"
   ]
  },
  {
   "cell_type": "markdown",
   "metadata": {},
   "source": [
    "What did you get for the file location? Does this make sense?  What location does the number represent?"
   ]
  },
  {
   "cell_type": "markdown",
   "metadata": {},
   "source": [
    "3\\. **Enter your answer here**"
   ]
  },
  {
   "cell_type": "markdown",
   "metadata": {},
   "source": [
    "You are also able to reset the file pointer to any location that you want.  You can do this with the ***seek()*** method.  The ***seek()*** method takes one or two arguments.  If there is only one argument, ***seek()*** will set the **file pointer** to that location (remember, like indices, **file pointers** start at 0, not 1).   If there are two arguments, the first is a positive or negative offset and the second tells Python how to apply the offset.  For example:\n",
    "\n",
    "```Python\n",
    "f.seek(4)\n",
    "```\n",
    "\n",
    "Sets the file pointer location to four (fifth position in the file), so all reads and writes will start from there.  This is the same as saying:\n",
    "\n",
    "```Python\n",
    "f.seek(4,0)\n",
    "```\n",
    "\n",
    "Since ***0*** tells ***seek()*** that you want to use an absolute number as the **file pointer** (so it cannot be negative).\n",
    "\n",
    "```Python\n",
    "f.seek(3,1)\n",
    "```\n",
    "\n",
    "Sets the **file pointer** location to three plus the current location, so it moves it three places farther forward than it is now.  You can use both positive and negative offsets with the relative option.\n",
    "\n",
    "```Python\n",
    "f.seek(-5,2)\n",
    "```\n",
    "\n",
    "Sets the file pointer location to five before the end of the file.  It only makes sense to use negative numbers for the file location with this option.  The final caution for using ***seek()*** is that some modes will *undo your seek* after each write.  Check the online documentation for this before you use seek.\n",
    "\n",
    "One other consideration for writing files is the underlying system.  Many file systems, in order to make transfers to storage device more efficient, batch up transfers and then write them all at one time.  Python does this as well with it's writes (on many syatems). So there are **buffers** in Python and **buffers** in the operating system.  The ***flush()*** method tells Python to send everything is has buffered straight to the operating system without waiting for enough data to accumulate to make the transfer efficient.  This is usually good enough to ensure that changes are available inside the same program (because it will use the system buffers), but it is important to note that data may not be written out to the actual physical storage devices at that moment.  Performing a ***close()*** operation on the file will automatically perform the same function as a ***flush()***, so you only need to do one or the other.\n",
    "\n",
    "If it’s important that the data be stored immediately, you need to use the ***os*** module.  This is a module you can import which will provide a set of generic functions for dealing with the operating system.  The idea is that programs are more portable if you don’t have write operating system specific code to manage  low level system calls (which can be different for different systems).  One of these functions is the ***os.sync()*** function.  This function tells the underlying operating system to write its buffers to the physical devices immediately.  It ensures that your Python program writes get stored on disk immediately.  "
   ]
  },
  {
   "cell_type": "markdown",
   "metadata": {},
   "source": [
    "Can you think of a reason you may want to use these calls?"
   ]
  },
  {
   "cell_type": "markdown",
   "metadata": {},
   "source": [
    "4\\.  **Enter your answer here**"
   ]
  },
  {
   "cell_type": "markdown",
   "metadata": {},
   "source": [
    "The ***os*** module also provides lot of other functions to interact with the filesystem.  On example of this is the ***os.remove()*** function.  This is used to delete a file.  Another is ***os.walk()***.  This is a way to look through a file system tree in a systematic way.  There is a good example of how to use this in the in the slides for this week that you can try for yourself:\n",
    "\n",
    "One thing that varies from system to system is the character used to separate a **directory** (or directory **path**) from a **filename**.  Some systems use ***\\\\*** and others use ***/***.  The ***os.path*** module allows you to abstract the handling of this to make your program work on either type of system.\n",
    "\n",
    "Once you import ***os.path***, you will have access to a variable that is called ***os.path.sep*** which contains whatever separator character (or string) is correct for the current operating system.  It also has its own ***split()*** and ***join()*** functions (as opposed to the string methods).  The ***os.path.join()*** function will take a series of strings and add the strings together but it will put the appropriate separator between the string.  The ***os.path.split()*** function works in the opposite way, it will take a single string and break it into a tuple which contains the directory **path** and the **filename**.\n",
    "\n",
    "The ***os.path*** module also includes two very handy routines to help you identify if a **path** (directory) exists of if a **file** exists.  The ***os.path.exists()*** function takes a string (which is a directory **path**) and returns ***True*** if the directory exists and ***False*** if it does not.  The ***os.path.isfile()*** function checks to see if a **file** (not a directory) exists and returns ***True*** or ***False***.  Try the following code in the code cell:\n",
    "\n",
    "```Python\n",
    "import os.path\n",
    "\n",
    "print(os.path.isfile('file_out1.txt'))\n",
    "f=open(\"file_out1.txt\")\n",
    "c=f.readlines()\n",
    "print(f.tell())\n",
    "f.close()\n",
    "```\n"
   ]
  },
  {
   "cell_type": "code",
   "execution_count": 1,
   "metadata": {},
   "outputs": [],
   "source": [
    "##\n",
    "## Enter your code here\n",
    "##\n"
   ]
  },
  {
   "cell_type": "markdown",
   "metadata": {},
   "source": [
    "### Context Managers\n",
    "\n",
    "We talked about using the ***close()*** method for files.  This is important because open files take system resources.  This can impact performance or, depending on the size of the system, may be limited.   However, it can be tedious to always have to remember to close resources and deallocate any temporary variables.  Python has a way to automate this using a **context manager**.  A **context manager** is simply something that helps you manage resources by keeping the resources local to a small part of the code.  The most frequently used context manager is the ***with*** keyword.  Let’s start by changing our code to look like the following:\n",
    "\n",
    "```Python\n",
    "import os.path\n",
    "\n",
    "print(os.path.isfile('file_out1.txt'))\n",
    "\n",
    "with open(\"Outdata.txt\") as f:\n",
    "       c=f.readlines()\n",
    "print(c)\n",
    "```\n"
   ]
  },
  {
   "cell_type": "code",
   "execution_count": null,
   "metadata": {},
   "outputs": [],
   "source": [
    "##\n",
    "## Enter your code here\n",
    "##\n"
   ]
  },
  {
   "cell_type": "markdown",
   "metadata": {},
   "source": [
    "7\\.  Why might this be more convenient?   **Enter your answer here**"
   ]
  },
  {
   "cell_type": "markdown",
   "metadata": {},
   "source": [
    "Let's look at one other thing. \n",
    "\n",
    "Try adding this to the above code (at the end):\n",
    "\n",
    "```Python\n",
    "print(f)\n",
    "```"
   ]
  },
  {
   "cell_type": "code",
   "execution_count": null,
   "metadata": {},
   "outputs": [],
   "source": [
    "##\n",
    "## Enter your code here\n",
    "##\n"
   ]
  },
  {
   "cell_type": "markdown",
   "metadata": {},
   "source": [
    "Notice that the ***with*** statement starts with a file function (mostly ***open()***) and a variable.  These both will be managed by the **context manager**.  Also notice that there is an indented code block associated with the **context manager**.  The variables in the ***with*** statement (the **file descriptor**) will be opened before the start of the code block.  The code block can be any size, but after the code block is complete, the file will automatically be closed and the **file descriptor** variable and object will be destroyed.  This saves you from having to manage these explicitly.\n",
    "\n",
    "It is also quite common that you will need to look at data generated by another program (or to generate data that needs to be sent to another program or a human).  One common way to do this is by creating a **Comma-Separated-Values (CSV)** file.  Although this started with database and spreadsheet programs, it is now very widely used because it is simple and can be read easily by both humans and machines.  The format is simple.  The data file is a text file, but it is organized in rows and columns.  The rows are easy as each line in the file is a different row.  The columns for each line are delimited by a ***','***.   However, that separator character is not always a comma, it can be  tab, a '.' or some other character (but they are still called CSV files).\n",
    "\n",
    "The good news is that Python has specific functions to help you read and write CSV files.  For this part of the lab, we will use a sample CSV file called **file_csv.csv**. It looks like\n",
    "\n",
    "```C\n",
    "Name,Class,Score\n",
    "Alice,Science,A\n",
    "Bob,English, B\n",
    "Charlie,History,C\n",
    "```\n",
    "      \n",
    "Now, enter the following code in the code cell:\n",
    "\n",
    "```Python\n",
    "import csv\n",
    "\n",
    "with open(\"file_csv.csv\") as f:\n",
    "    c=csv.reader(f,delimiter=',')\n",
    "    print(c)\n",
    "    for i in c:\n",
    "        print(i)\n",
    "```\n"
   ]
  },
  {
   "cell_type": "code",
   "execution_count": 2,
   "metadata": {},
   "outputs": [],
   "source": [
    "##\n",
    "## Enter your code here\n",
    "##\n"
   ]
  },
  {
   "cell_type": "markdown",
   "metadata": {},
   "source": [
    "The **csv.reader()** will return a **nested** list of strings (i.e a list of lists).  Each element of the list is a row.  Each row is also a list of column values.  It is important to note that the first row is often a header row (e.g. containing the names of the columns).  You want to check for that when reading the CSV file (since not all of them have header rows).  Also note that you can specify a delimiter value (the default is ',') in the ***csv.reader()*** call to math the delimiter expected in your file.\n",
    "\n",
    "Writing CSV files works by first opening a new file and then calling ***csv.writer()*** to set up the CSV library functions.  There are two different write methods, ***writerow()*** and ***writerows()***.  The difference is that ***writerow()*** expects a list of values.   These values will be written on one line (i.e. a single row), with the list values delimited by whatever separator was specified in the ***csv.writer()*** call.  The ***writerows()*** works the same way, but takes a list of lists, which each element in the outer list being a row and each of those elements being a column.\n",
    "\n",
    "Finally, note that you still need to pay attention to the mode in the ***open()*** call and make sure you specify one so that the makes reads and writes act the way you want.  Make the following changes to the code:\n",
    "\n",
    "```Python\n",
    "import csv\n",
    "\n",
    "data=[\n",
    "      ['student', 'course', 'grade'], # Row 1\n",
    "      ['Alice', 'Programming', 'B'],  # Row 2\n",
    "      ['Alice', 'Programming', 'B'],  # Row 3\n",
    "      ['Alice', 'Programming', 'B']   # Row 4\n",
    "     ]\n",
    "\n",
    "print(data)\n",
    "print('----')\n",
    "\n",
    "with open(\"ex_new.csv\",'w') as f:\n",
    "    g=csv.writer(f)\n",
    "    g.writerows(data)\n",
    "\n",
    "with open(\"file_csv.csv\") as r:\n",
    "    l=csv.reader(r,delimiter=',')\n",
    "    for i in l:  \n",
    "        print(i)\n",
    "```\n",
    " "
   ]
  },
  {
   "cell_type": "code",
   "execution_count": 3,
   "metadata": {},
   "outputs": [],
   "source": [
    "##\n",
    "## Enter your code here\n",
    "##\n"
   ]
  },
  {
   "cell_type": "markdown",
   "metadata": {},
   "source": [
    "### JSON\n",
    "\n",
    "Another very popular format for storing data is **JavaScript Object Notation (JSON)**.  It is designed to be a lightweight test format to describe daa objects.  It is commonly used for data delivered from a web server or a network source.  The basic format is that data is stored in **name/value** pairs, with every object being contained in ***{ }*** or ***[ ]*** (for arrays)."
   ]
  },
  {
   "cell_type": "markdown",
   "metadata": {},
   "source": [
    "8\\.  This format may seem familiar now.  What does it resemble?   **Enter your answer here**"
   ]
  },
  {
   "cell_type": "markdown",
   "metadata": {},
   "source": [
    "Python has libraries to make it easier to work with JSON data.  Let's do a simple example.  In this example, we have a string called ***data*** that we set to a JSON formatted string.  JSON data will always be in text/string format.  This particular JSON describes on object (you know that because there is only one pair of ***{ }***) with three attributes.   Try the following code:\n",
    "\n",
    "```Python\n",
    "data='{\"name\":\"John\", \"age\":30, \"city\":null}'\n",
    "\n",
    "import json\n",
    "\n",
    "new_data = json.loads(data)\n",
    "\n",
    "print(type(new_data))\n",
    "print(data)\n",
    "```\n"
   ]
  },
  {
   "cell_type": "code",
   "execution_count": 5,
   "metadata": {},
   "outputs": [],
   "source": [
    "##\n",
    "## Enter your code here\n",
    "##\n"
   ]
  },
  {
   "cell_type": "markdown",
   "metadata": {},
   "source": [
    "This example uses the Python ***json*** library.  The function ***json.loads()*** will take a JSON string and convert it into a Python object that can then be used in the program.  The data structure returned may have a lot of elements if the JSON string is complex.\n",
    "\n",
    "You can also use the ***json*** library to convert a Python data structure into a JSON string.  Try the following code:\n",
    "\n",
    "```Python\n",
    "my_data=[ 2, \"string\", { \"key1\":\"value 1\", \"key2\":\"value2\"} ]\n",
    "\n",
    "jstr = json.dumps(my_data)\n",
    "\n",
    "print(type(jstr))\n",
    "print(jstr)\n",
    "```"
   ]
  },
  {
   "cell_type": "code",
   "execution_count": 12,
   "metadata": {},
   "outputs": [],
   "source": [
    "##\n",
    "## Enter your code here\n",
    "##\n"
   ]
  }
 ],
 "metadata": {
  "kernelspec": {
   "display_name": "Python 3",
   "language": "python",
   "name": "python3"
  },
  "language_info": {
   "codemirror_mode": {
    "name": "ipython",
    "version": 3
   },
   "file_extension": ".py",
   "mimetype": "text/x-python",
   "name": "python",
   "nbconvert_exporter": "python",
   "pygments_lexer": "ipython3",
   "version": "3.6.3"
  }
 },
 "nbformat": 4,
 "nbformat_minor": 4
}
