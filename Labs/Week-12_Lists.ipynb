{
 "cells": [
  {
   "cell_type": "markdown",
   "metadata": {},
   "source": [
    "# Lab - Lists\n",
    "\n",
    "*There are two intentional errors in this lab*"
   ]
  },
  {
   "cell_type": "markdown",
   "metadata": {},
   "source": [
    "### Lists Review\n",
    "\n",
    "Lists are one of the most powerful and most used data structures in Python.  Lists are like a supercharged version of strings in that they are an **ordered sequence** of objects.  They can be **indexed** just like strings so you can pull out subgroups of objects.  In fact, the indexing follows the same rules as string indexing.  However, there is one big difference with lists.  Lists are collections of any types of objects, not just characters.  Lists could contain integers, floating point values, character, or other lists.  Also, please note that all the elements of a list do not have to be the same type.  They can be any mixture of types because lists are flexible.\n",
    "\n",
    "Lists are declared using [ ] and when you want to access an element you also use [ ] (just like strings).  Try the following code:\n",
    "\n",
    "```Python\n",
    "my_list=[]\n",
    "print(my_list)\n",
    "my_list=['Hi', 2, 4.5]\n",
    "print(my_list)\n",
    "print('----')\n",
    "print(my_list[0])\n",
    "print('----')\n",
    "print(my_list[0:2])\n",
    "```\n"
   ]
  },
  {
   "cell_type": "code",
   "execution_count": 2,
   "metadata": {},
   "outputs": [],
   "source": [
    "##\n",
    "## Enter your code here\n",
    "##\n"
   ]
  },
  {
   "cell_type": "markdown",
   "metadata": {},
   "source": [
    "Recall another important feature of lists is that they are *mutable*.  Try the following:\n",
    "\n",
    "```Python\n",
    "my_list=[1,2,3]\n",
    "print(my_list)\n",
    "my_list[1]=5\n",
    "print(my_list)\n",
    "```\n"
   ]
  },
  {
   "cell_type": "code",
   "execution_count": 3,
   "metadata": {},
   "outputs": [],
   "source": [
    "##\n",
    "## Enter your code here\n",
    "##\n"
   ]
  },
  {
   "cell_type": "markdown",
   "metadata": {},
   "source": [
    "What does this allow you to do and why might this be useful?"
   ]
  },
  {
   "cell_type": "markdown",
   "metadata": {},
   "source": [
    "1\\. **Enter your answer here**"
   ]
  },
  {
   "cell_type": "markdown",
   "metadata": {},
   "source": [
    "Lists have a lot of methods, and we looked at a few, but two important ones are used to add or remove objects from the list.  To add an element to the end of a list you can call the ***append()*** method.  To remove elements, you can use the ***remove()*** method.\n",
    "\n",
    "```Python\n",
    "print(my_list)\n",
    "my_list.append('Yo')\n",
    "print(my_list)\n",
    "my_list.remove('Yo')\n",
    "print(my_list)\n",
    "```\n"
   ]
  },
  {
   "cell_type": "code",
   "execution_count": 4,
   "metadata": {},
   "outputs": [],
   "source": [
    "##\n",
    "## Enter your code here\n",
    "##\n"
   ]
  },
  {
   "cell_type": "markdown",
   "metadata": {},
   "source": [
    "One thing you need to watch is trying to remove something that is not in the list.  Try the following code:\n",
    "\n",
    "```Python\n",
    "print(my_list)\n",
    "my_list.remove('X')\n",
    "print(my_list)\n",
    "```\n"
   ]
  },
  {
   "cell_type": "code",
   "execution_count": 5,
   "metadata": {},
   "outputs": [],
   "source": [
    "##\n",
    "## Enter your code here\n",
    "##\n"
   ]
  },
  {
   "cell_type": "markdown",
   "metadata": {},
   "source": [
    "Lists are also **iterable** objects.  An **iterable** object has a special method called ***__iter()__*** that returns a sequence of objects.  This means that lists can be used with any keyword or function that expects an **iterator**.  For example, the ***for*** operator expects something iterable (like a ***range()*** call or a list, etc.) so it can go through values one at a time in order.\n",
    "\n",
    "### Functions and List Methods\n",
    "\n",
    "Since lists are so important, many of the Python functions can be used on lists.  Try the following:\n",
    "\n",
    "```Python\n",
    "my_list=[1,2,3]\n",
    "print(len(my_list))\n",
    "print(min(my_list))\n",
    "print(max(my_list))\n",
    "print(sum(my_list))\n",
    "```\n"
   ]
  },
  {
   "cell_type": "code",
   "execution_count": 6,
   "metadata": {},
   "outputs": [],
   "source": [
    "##\n",
    "## Enter your code here\n",
    "##\n"
   ]
  },
  {
   "cell_type": "markdown",
   "metadata": {},
   "source": [
    "Do the results make sense?"
   ]
  },
  {
   "cell_type": "markdown",
   "metadata": {},
   "source": [
    "2\\.  ***Enter your answer here***"
   ]
  },
  {
   "cell_type": "markdown",
   "metadata": {},
   "source": [
    "Just like strings, lists have a lot of methods for manipulating them.  However, it’s important to remember than because lists are **mutable**, some methods *change the original list* and some just return a modified list or other object. Let’s look at an example of adding items to the list.  Let’s try adding a list to a list:\n",
    "\n",
    "```Python\n",
    "my_list.append([4,5])\n",
    "print(my_list)\n",
    "```\n"
   ]
  },
  {
   "cell_type": "code",
   "execution_count": 7,
   "metadata": {},
   "outputs": [],
   "source": [
    "##\n",
    "## Enter your code here\n",
    "##\n"
   ]
  },
  {
   "cell_type": "markdown",
   "metadata": {},
   "source": [
    "What did you get and why?"
   ]
  },
  {
   "cell_type": "markdown",
   "metadata": {},
   "source": [
    "3\\.  ***Enter your answer here***"
   ]
  },
  {
   "cell_type": "markdown",
   "metadata": {},
   "source": [
    "The ***append()*** method just adds the argument to the end of a list.  What if you want to add all the elements of a list to an existing list as individual elements?   You can do this in two different ways.  Try the following:\n",
    "\n",
    "```Python\n",
    "my_list=[1,2]\n",
    "my_list.extend([10,11])\n",
    "print(my_list)\n",
    "print('----')\n",
    "print(my_list+[14,15])\n",
    "```\n"
   ]
  },
  {
   "cell_type": "code",
   "execution_count": 8,
   "metadata": {},
   "outputs": [],
   "source": [
    "##\n",
    "## Enter your code here\n",
    "##\n"
   ]
  },
  {
   "cell_type": "markdown",
   "metadata": {},
   "source": [
    "Do both methods work the same?"
   ]
  },
  {
   "cell_type": "markdown",
   "metadata": {},
   "source": [
    "4\\.  ***Enter your answer here***"
   ]
  },
  {
   "cell_type": "markdown",
   "metadata": {},
   "source": [
    "The most flexible way to add something into a list is to use the ***insert()*** method.  This allows us to add an element anywhere in the list.  Try the following:\n",
    "\n",
    "```Python\n",
    "my_list=[1,2]\n",
    "my_list.insert(0,'X')\n",
    "print(my_list)\n",
    "```\n"
   ]
  },
  {
   "cell_type": "code",
   "execution_count": 9,
   "metadata": {},
   "outputs": [],
   "source": [
    "##\n",
    "## Enter your code here\n",
    "##\n"
   ]
  },
  {
   "cell_type": "markdown",
   "metadata": {},
   "source": [
    "Where does this put the element in relation ot the index?"
   ]
  },
  {
   "cell_type": "markdown",
   "metadata": {},
   "source": [
    "5\\.  ***Enter your answer here***"
   ]
  },
  {
   "cell_type": "markdown",
   "metadata": {},
   "source": [
    "This leads to a very interesting question:  How do you use ***insert()*** to add something to the end of a list?   This is one of the few cases where you can use an index equal to the length of an array.  Try the following:\n",
    "\n",
    "```Python\n",
    "my_list.insert(len(my_list),'Q')\n",
    "print(my_list)\n",
    "```\n"
   ]
  },
  {
   "cell_type": "code",
   "execution_count": 10,
   "metadata": {},
   "outputs": [],
   "source": [
    "##\n",
    "## Enter your code here\n",
    "##\n"
   ]
  },
  {
   "cell_type": "markdown",
   "metadata": {},
   "source": [
    "That gives you many ways to add items to a list, but there are also ways to remove list items.  Let’s start by removing the last item from a list.  This can be done with the ***pop()*** method.  Try the following:\n",
    "\n",
    "```Python\n",
    "my_list=[1,2,3]\n",
    "my_list.pop()\n",
    "print(my_list)\n",
    "```\n"
   ]
  },
  {
   "cell_type": "code",
   "execution_count": 11,
   "metadata": {},
   "outputs": [],
   "source": [
    "##\n",
    "## Enter your code here\n",
    "##\n"
   ]
  },
  {
   "cell_type": "markdown",
   "metadata": {},
   "source": [
    "Which element in the list does ***pop()*** remove by default?"
   ]
  },
  {
   "cell_type": "markdown",
   "metadata": {},
   "source": [
    "6\\.  ***Enter your answer here***"
   ]
  },
  {
   "cell_type": "markdown",
   "metadata": {},
   "source": [
    "Notice that when you use the ***pop()*** method, you need to save the returned argument if you will need it for something else, otherwise it is lost because the list itself is modified.  The ***pop()*** method takes an optional argument which is the index of the element to remove.  Try the following:\n",
    "\n",
    "```Python\n",
    "val=my_list.pop(1)\n",
    "print(val)\n",
    "print(my_list)\n",
    "```\n"
   ]
  },
  {
   "cell_type": "code",
   "execution_count": 12,
   "metadata": {},
   "outputs": [],
   "source": [
    "##\n",
    "## Enter your code here\n",
    "##\n"
   ]
  },
  {
   "cell_type": "markdown",
   "metadata": {},
   "source": [
    "Notice that the index for the ***pop()*** method must be a valid index of the list Try the following:\n",
    "\n",
    "```Python\n",
    "my_list.pop(len(my_list))\n",
    "```"
   ]
  },
  {
   "cell_type": "code",
   "execution_count": 13,
   "metadata": {},
   "outputs": [],
   "source": [
    "##\n",
    "## Enter your code here\n",
    "##\n"
   ]
  },
  {
   "cell_type": "markdown",
   "metadata": {},
   "source": [
    "You can also remove an element from a list based on the values in a list.  The ***remove()*** method allows you to remove an element by specifying its value.  Try the following:\n",
    "\n",
    "```Python\n",
    "my_list=[1,2,3,2,1]\n",
    "my_list.remove(3)\n",
    "print(my_list)\n",
    "```\n"
   ]
  },
  {
   "cell_type": "code",
   "execution_count": 14,
   "metadata": {},
   "outputs": [],
   "source": [
    "##\n",
    "## Enter your code here\n",
    "##\n"
   ]
  },
  {
   "cell_type": "markdown",
   "metadata": {},
   "source": [
    "What's the fundamental difference between ***pop()*** and ***remove()***?"
   ]
  },
  {
   "cell_type": "markdown",
   "metadata": {},
   "source": [
    "7\\.  ***Enter your answer here***"
   ]
  },
  {
   "cell_type": "markdown",
   "metadata": {},
   "source": [
    "Now try the following:\n",
    "\n",
    "```Python\n",
    "my_list.remove(1)\n",
    "print(my_list)\n",
    "```\n"
   ]
  },
  {
   "cell_type": "code",
   "execution_count": 15,
   "metadata": {},
   "outputs": [],
   "source": [
    "##\n",
    "## Enter your code here\n",
    "##\n"
   ]
  },
  {
   "cell_type": "markdown",
   "metadata": {},
   "source": [
    "What did you get?"
   ]
  },
  {
   "cell_type": "markdown",
   "metadata": {},
   "source": [
    "8\\.  ***Enter your answer here***"
   ]
  },
  {
   "cell_type": "markdown",
   "metadata": {},
   "source": [
    "The ***remove()*** method will only remove the first value that it finds which matches the argument, not all the values that match the argument.  There are also some convenient methods to modify the order of a list.  Try the following code:\n",
    "\n",
    "```Python\n",
    "my_list=[1,2,3,4]\n",
    "my_list.reverse()\n",
    "print(my_list)\n",
    "```\n"
   ]
  },
  {
   "cell_type": "code",
   "execution_count": 16,
   "metadata": {},
   "outputs": [],
   "source": [
    "##\n",
    "## Enter your code here\n",
    "##\n"
   ]
  },
  {
   "cell_type": "markdown",
   "metadata": {},
   "source": [
    "You can also use the ***sort()*** method to reorder the elements in a list.  Please note that this will permanently change the list.  Try the following code:\n",
    "\n",
    "```Python\n",
    "print(my_list)\n",
    "my_list.sort()\n",
    "print(my_list)\n",
    "```\n"
   ]
  },
  {
   "cell_type": "code",
   "execution_count": 17,
   "metadata": {},
   "outputs": [],
   "source": [
    "##\n",
    "## Enter your code here\n",
    "##\n"
   ]
  },
  {
   "cell_type": "markdown",
   "metadata": {},
   "source": [
    "What if you want to sort the list, but do not want to change the original list?  The best way to do this is to use the ***sorted()*** function.   Try the following code:\n",
    "\n",
    "```Python\n",
    "my_list=[4,5,2,3,1]\n",
    "new_list=sorted(my_list)\n",
    "print(my_list)\n",
    "print('----')\n",
    "print(new_list)\n",
    "```\n"
   ]
  },
  {
   "cell_type": "code",
   "execution_count": 18,
   "metadata": {},
   "outputs": [],
   "source": [
    "##\n",
    "## Enter your code here\n",
    "##\n"
   ]
  },
  {
   "cell_type": "markdown",
   "metadata": {},
   "source": [
    "Was the original list changed this time?"
   ]
  },
  {
   "cell_type": "markdown",
   "metadata": {},
   "source": [
    "9\\.  ***Enter your answer here***"
   ]
  },
  {
   "cell_type": "markdown",
   "metadata": {},
   "source": [
    "You can also use methods to look at some of the characteristics of a list.  Two examples of this are the ***index()*** and ***count()*** methods.  Let’s start with counting elements in a list.  Try the following:\n",
    "\n",
    "```Python\n",
    "my_list=[1,2,3,2,1]\n",
    "print(my_list.count(3))\n",
    "print(my_list.count(1))\n",
    "print(my_list.count(4))\n",
    "```\n"
   ]
  },
  {
   "cell_type": "code",
   "execution_count": 19,
   "metadata": {},
   "outputs": [],
   "source": [
    "##\n",
    "## Enter your code here\n",
    "##\n"
   ]
  },
  {
   "cell_type": "markdown",
   "metadata": {},
   "source": [
    "Do the answers make sense?"
   ]
  },
  {
   "cell_type": "markdown",
   "metadata": {},
   "source": [
    "10\\.  ***Enter your answer here***"
   ]
  },
  {
   "cell_type": "markdown",
   "metadata": {},
   "source": [
    "Now let’s look at the ***index()*** method.  Try the following in the code cell:\n",
    "\n",
    "```Python\n",
    "my_list=[1,2,3,2,1]\n",
    "print(my_list.index(3))\n",
    "print(my_list.index(1))\n",
    "print(my_list.index(4))\n",
    "```\n"
   ]
  },
  {
   "cell_type": "code",
   "execution_count": 20,
   "metadata": {},
   "outputs": [],
   "source": [
    "##\n",
    "## Enter your code here\n",
    "##\n"
   ]
  },
  {
   "cell_type": "markdown",
   "metadata": {},
   "source": [
    "Why did you get the answers you got?"
   ]
  },
  {
   "cell_type": "markdown",
   "metadata": {},
   "source": [
    "11\\.  ***Enter your answer here***"
   ]
  },
  {
   "cell_type": "markdown",
   "metadata": {},
   "source": [
    "Notice that unlike ***count()***, if you specify a value that does not exist in the list to ***index()***, you will get an error.  \n",
    "\n",
    "As we covered in the beginning of the lab, lists are useful in ***for*** loops.  However, sometimes it is not enough to just get a series of values from the list, sometimes you need the **index** as well as the **value**.  You could use a loop that looks like this (you don’t have to type this into the code cell):\n",
    "\n",
    "```Python\n",
    "for i in range(len(my_list)):\n",
    "    print(my_list(i))\n",
    "```\n",
    "      \n",
    "However, this is a common thing, so remember from the section on loops, there is a function to make this more convenient.  The ***enumerate()*** function returns a **tuple** with the first value being the **index** of the element and the second being the **value**.  Try the following code:\n",
    "\n",
    "```Python\n",
    "my_list=[10, 21, 32, 43, 54]\n",
    " \n",
    "for  x  in  enumerate(my_list):\n",
    "    print('Index', x[0], 'Value', x[1])\n",
    "```\n",
    "    "
   ]
  },
  {
   "cell_type": "code",
   "execution_count": 21,
   "metadata": {},
   "outputs": [],
   "source": [
    "##\n",
    "## Enter your code here\n",
    "##\n"
   ]
  },
  {
   "cell_type": "markdown",
   "metadata": {},
   "source": [
    "The ***enumerate()*** function returns a tuple with the index in the value.  This means that if you use a single variable, you must index that variable.  However, you can also use **unpacking** as a convenient way to assign the return values to different variables.  Try the following:\n",
    "\n",
    "```Python\n",
    "for  i, x  in  enumerate(my_list):\n",
    "    print('Index', i, 'Value', x)\n",
    "```\n",
    "    "
   ]
  },
  {
   "cell_type": "code",
   "execution_count": 22,
   "metadata": {},
   "outputs": [],
   "source": [
    "##\n",
    "## Enter your code here\n",
    "##\n"
   ]
  },
  {
   "cell_type": "markdown",
   "metadata": {},
   "source": [
    "Why did we review this?  Sometimes you may need to modify the list inside the loop.  This can be tricky.  Try the following:\n",
    "\n",
    "```Python\n",
    "for  i, x  in  enumerate(my_list):\n",
    "    x=45\n",
    "    print(x)\n",
    "    print(my_list)\n",
    "```"
   ]
  },
  {
   "cell_type": "code",
   "execution_count": null,
   "metadata": {},
   "outputs": [],
   "source": [
    "##\n",
    "## Enter your code here\n",
    "##\n"
   ]
  },
  {
   "cell_type": "markdown",
   "metadata": {},
   "source": [
    "Was my_list modified? Why or why not?"
   ]
  },
  {
   "cell_type": "markdown",
   "metadata": {},
   "source": [
    "12\\.  ***Enter your answer here***"
   ]
  },
  {
   "cell_type": "markdown",
   "metadata": {},
   "source": [
    "This may not seem obvious because lists are **mutable**, so you would expect to be able to change values, but it’s due to way loop variables are implemented.  They are assigned at the beginning of each iteration and not designed to be changed.   If you want to change a list element, you must do it using the index into the list itself.  Try the following:\n",
    "\n",
    "```Python\n",
    "for  i, x  in  enumerate(my_list):\n",
    "    my_list[i]=45+i\n",
    "    print(my_list)\n",
    "```\n",
    "    "
   ]
  },
  {
   "cell_type": "code",
   "execution_count": 23,
   "metadata": {},
   "outputs": [],
   "source": [
    "##\n",
    "## Enter your code here\n",
    "##\n"
   ]
  },
  {
   "cell_type": "markdown",
   "metadata": {},
   "source": [
    "Note this is only for changing the values of existing element.  You may ask, can I just change the list with ***append()***, ***remove()***, or ***pop()***?  You cannot do that on a list that you are currently iterating with getting some strange behavior.  If you must change the order of a list in the loop, the way to do that is to work on a copy of the list.  This can be done easily using the ***copy()*** method, which returns a separate object that is a copy of the current list.  Try the following:\n",
    "\n",
    "```Python\n",
    "my_list=[1, 2, 3]\n",
    "for  i, x  in  enumerate(my_list.copy()):\n",
    "    print(my_list.pop())\n",
    "    print(my_list)\n",
    "```\n",
    "    "
   ]
  },
  {
   "cell_type": "code",
   "execution_count": 24,
   "metadata": {},
   "outputs": [],
   "source": [
    "##\n",
    "## Enter your code here\n",
    "##\n"
   ]
  },
  {
   "cell_type": "markdown",
   "metadata": {},
   "source": [
    "Why do you need to do it this way if you want to change a list that you are currently iterating?"
   ]
  },
  {
   "cell_type": "markdown",
   "metadata": {},
   "source": [
    "13\\.  ***Enter your answer here***"
   ]
  },
  {
   "cell_type": "markdown",
   "metadata": {},
   "source": [
    "### List Comprehensions\n",
    "\n",
    "The final topic of this lab is list **comprehensions**.  These are compact ways to generate lists.  While they are elegant and compact, they can be a little hard to read, especially if they are complex.  They are included in this course because you may see them out in the real world, so it’s good to understand a bit about how they work.\n",
    "\n",
    "List **comprehensions** have the basic form:\n",
    "\n",
    "`<expression> for <name> in <iterable>`\n",
    "\n",
    "The **iterable** can be a list, the **name** is a new variable used in the for loop and the **expression** is used to build each member of the new list.  Let’s try an example:\n",
    "\n",
    "```Python\n",
    "my_list=[2,3,4]\n",
    " \n",
    "new_list=[ x*2 for x in my_list ]\n",
    "print(new_list)\n",
    "```\n"
   ]
  },
  {
   "cell_type": "code",
   "execution_count": 25,
   "metadata": {},
   "outputs": [],
   "source": [
    "##\n",
    "## Enter your code here\n",
    "##\n"
   ]
  },
  {
   "cell_type": "markdown",
   "metadata": {},
   "source": [
    "This comprehension is the same as typing:\n",
    "\n",
    "```Python\n",
    "new_list=[]\n",
    "for  x  in my_list:\n",
    "    new_list.append(x*2)\n",
    "```\n",
    "      \n",
    "Hopefully, that makes sense.  You can add another feature to **comprehensions** to create **conditional comprehensions**.  These are like regular **comprehensions** but have an additional clause.  Try the following code:\n",
    "\n",
    "```Python\n",
    "print(my_list)\n",
    "new_list=[]\n",
    "for  x  in my_list:\n",
    "    if x % 2 == 0:\n",
    "        new_list.append(x*2)\n",
    "        \n",
    "print(new_list)\n",
    "```\n",
    "        "
   ]
  },
  {
   "cell_type": "code",
   "execution_count": 26,
   "metadata": {},
   "outputs": [],
   "source": [
    "##\n",
    "## Enter your code here\n",
    "##\n"
   ]
  },
  {
   "cell_type": "markdown",
   "metadata": {},
   "source": [
    "You can get the same thing by using:\n",
    "\n",
    "```Python\n",
    "new_list=[ x*2 for x in my_list if x % 2 == 0]\n",
    "print(new_list)\n",
    "```\n"
   ]
  },
  {
   "cell_type": "code",
   "execution_count": 27,
   "metadata": {},
   "outputs": [],
   "source": [
    "##\n",
    "## Enter your code here\n",
    "##\n"
   ]
  },
  {
   "cell_type": "markdown",
   "metadata": {},
   "source": [
    "Did that generate the same thing as the previous step?"
   ]
  },
  {
   "cell_type": "markdown",
   "metadata": {},
   "source": [
    "14\\.  ***Enter your answer here***"
   ]
  }
 ],
 "metadata": {
  "kernelspec": {
   "display_name": "Python 3",
   "language": "python",
   "name": "python3"
  },
  "language_info": {
   "codemirror_mode": {
    "name": "ipython",
    "version": 3
   },
   "file_extension": ".py",
   "mimetype": "text/x-python",
   "name": "python",
   "nbconvert_exporter": "python",
   "pygments_lexer": "ipython3",
   "version": "3.6.3"
  }
 },
 "nbformat": 4,
 "nbformat_minor": 4
}
