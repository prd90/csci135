{
 "cells": [
  {
   "cell_type": "markdown",
   "metadata": {},
   "source": [
    "# Data Types\n",
    "\n",
    "*This lab will have 4 error results*"
   ]
  },
  {
   "cell_type": "markdown",
   "metadata": {},
   "source": [
    "###  Mutability\n",
    "\n",
    "Last week we talked about objects in Python.  It is tempting to think of variables and objects as being the same thing, but it is important to remember the difference. One important difference is that all variables can be changed to point to different objects, but not all objects can have their values changed.  In fact, many objects cannot be changed once they are created.  Whether or not an object can be changed is the concept of **mutability**.  Although all this seems like a trivial detail, it will really matter in understanding how Python behaves later in this course and into CSCI-145.  So, what is mutability?  It is related to the concept of objects that we talked about last week in Variables and Expressions.  Start with the following code we also tried last week:\n",
    "\n",
    "```Python\n",
    "num = 3\n",
    "print(id(num))\n",
    "num=5\n",
    "print(id(num))\n",
    "```"
   ]
  },
  {
   "cell_type": "code",
   "execution_count": 1,
   "metadata": {},
   "outputs": [],
   "source": [
    "#\n",
    "# Enter your code here\n",
    "#\n"
   ]
  },
  {
   "cell_type": "markdown",
   "metadata": {},
   "source": [
    "Why are there different id’s?  It is because integer objects are **immutable**.  This means that when we assign a new value to *num*, it will no longer be linked to the \"3\" object but linked to a new object with the value \"5\" as in the picture below.\n",
    "\n",
    "<img src=\"images/Object-1.jpg\">\n"
   ]
  },
  {
   "cell_type": "markdown",
   "metadata": {},
   "source": [
    "1\\.  What would be one advantage and one disadvantage of mutability from a Python perspective?  *** Enter Answer Here***"
   ]
  },
  {
   "cell_type": "markdown",
   "metadata": {},
   "source": [
    "###  More on Objects\n",
    "\n",
    "2\\. Objects implement the concept of **abstraction**. This is where the details of an implementation of some data structure or operation is hidden behind a specified interface and public facing values.  for example, a string object can store multiple characters, but when using it, you don't have to worry about how it stores the individual characters or how it keeps the character order correct.  This useful for several reasons, can you think of any? ***Enter Answer Here***"
   ]
  },
  {
   "cell_type": "markdown",
   "metadata": {},
   "source": [
    "The interface to an object is via **methods**.  These are routines that allow you to access object information or to make changes on the object.  We will use various object methods in this course.   When accessing a method for a specific object, you must use a special format.  Try the following:\n",
    "\n",
    "```Python\n",
    "my_string='Hello'\n",
    "print(my_string)\n",
    "print(my_string.lower())\n",
    "```"
   ]
  },
  {
   "cell_type": "code",
   "execution_count": 1,
   "metadata": {},
   "outputs": [],
   "source": [
    "#\n",
    "# Enter your code here\n",
    "#\n"
   ]
  },
  {
   "cell_type": "markdown",
   "metadata": {},
   "source": [
    "In that code, we used a **method**.   Methods are specific to the **type** of the object (e.g. all string objects will have the same methods, but integer objects won't have the same methods as string objects) but must be called using the dot notation that looks like:\n",
    "\n",
    "***object_name.method_name(arguments_to_method)*** \n",
    "    \n",
    "**IMPORTANT:** This is different than functions, which look like ***function_name(arguments)***"
   ]
  },
  {
   "cell_type": "markdown",
   "metadata": {},
   "source": [
    "###  Strings\n",
    "\n",
    "You used some basic strings last week, but what exactly are they?  Strings are sequences of characters, but they are also ordered sequences of characters.  The characters always occur in a specific order.  Strings can be of any length, from 0 characters (an empty string) to very long strings.  Try these sample strings:\n",
    "\n",
    "```Python\n",
    "one = ''\n",
    "print(one)\n",
    "two='Yo!'\n",
    "print(two)\n",
    "```"
   ]
  },
  {
   "cell_type": "code",
   "execution_count": 2,
   "metadata": {},
   "outputs": [],
   "source": [
    "#\n",
    "# Enter your code here\n",
    "#\n"
   ]
  },
  {
   "cell_type": "markdown",
   "metadata": {},
   "source": [
    "Python has a very convenient function to determine the length of sequence objects (including strings) called ***len()***.  Note that this is a **function**, not a **method**, so we don't call it using the variable name first.  Try the following on the strings you just entered.\n",
    "\n",
    "```Python\n",
    "print(len(one))\n",
    "print(len(two))\n",
    "```"
   ]
  },
  {
   "cell_type": "code",
   "execution_count": 3,
   "metadata": {},
   "outputs": [],
   "source": [
    "#\n",
    "# Enter your code here\n",
    "#\n"
   ]
  },
  {
   "cell_type": "markdown",
   "metadata": {},
   "source": [
    "3\\.  If ***len()*** where a method, how might you have called it to get the length of string ***one***?  ***Enter Answer Here***"
   ]
  },
  {
   "cell_type": "markdown",
   "metadata": {},
   "source": [
    "Since strings are ordered sequences of characters, you can pull out and individual character from the string.  You do this using an ***index*** which is a number which indicates the character you want from the string.  You use the index in square brackets after the variable name and it will return a new one-character string consisting of the character requested.  Try the following:\n",
    "\n",
    "```Python\n",
    "my_str= 'Hello There'\n",
    "print(my_str[1])\n",
    "print(my_str[6])\n",
    "```"
   ]
  },
  {
   "cell_type": "code",
   "execution_count": 15,
   "metadata": {},
   "outputs": [],
   "source": [
    "#\n",
    "# Enter your code here\n",
    "#\n"
   ]
  },
  {
   "cell_type": "markdown",
   "metadata": {},
   "source": [
    "4\\.  What did you get?  Is it what you expected?  If not, why do you suppose you got the answer that you did?  ***Enter Answer Here***"
   ]
  },
  {
   "cell_type": "markdown",
   "metadata": {},
   "source": [
    "That may not have been what you expected because Python indices start at 0 and run to the *one minus the length of the string*.  This is a little tricky, but you will find indexing to be very consistent in Python, so once you learn this, it works everywhere.  Try the following:\n",
    "\n",
    "```Python\n",
    "print(my_str[0])\n",
    "print(my_str[len(my_str)])\n",
    "```"
   ]
  },
  {
   "cell_type": "code",
   "execution_count": 5,
   "metadata": {},
   "outputs": [],
   "source": [
    "#\n",
    "# Enter your code here\n",
    "#\n"
   ]
  },
  {
   "cell_type": "markdown",
   "metadata": {},
   "source": [
    "5\\.  What do you get?  Why did this happen?  ***Enter Answer Here***"
   ]
  },
  {
   "cell_type": "markdown",
   "metadata": {},
   "source": [
    "Another thing about indices is that they do not have to be positive.  Sometimes, you want to count backward from the end of a string instead of forward from the front.  You do this with a negative index.  A negative index counts backward from the end of the string.  One trick here is that 0 is already taken (it's the first character) so the index at the end of the string starts at -1 and goes back to minus the length of the string.  Try the following.\n",
    "\n",
    "```Python\n",
    "print(my_str[-1])\n",
    "print(my_str[-len(my_str)])\n",
    "```"
   ]
  },
  {
   "cell_type": "code",
   "execution_count": 6,
   "metadata": {},
   "outputs": [],
   "source": [
    "#\n",
    "# Enter your code here\n",
    "#\n"
   ]
  },
  {
   "cell_type": "markdown",
   "metadata": {},
   "source": [
    "You can use indices to get not just single characters, but larger chunks of strings.  To do this you specify a range of characters you want back.  This is called a **slice** in Python and you will see that term used a lot.  To do a simple **slice**, you must specify two indices separated by a ***:*** symbol.  Try the following:\n",
    "\n",
    "```Python\n",
    "print(my_str[0:4])\n",
    "```"
   ]
  },
  {
   "cell_type": "code",
   "execution_count": 7,
   "metadata": {},
   "outputs": [],
   "source": [
    "#\n",
    "# Enter your code here\n",
    "#\n"
   ]
  },
  {
   "cell_type": "markdown",
   "metadata": {},
   "source": [
    "6\\.  Did that give you what you thought?  ***Enter Answer Here***"
   ]
  },
  {
   "cell_type": "markdown",
   "metadata": {},
   "source": [
    "That may not work as you expected because of the way you need specify indices.  In Python, the first index for a slice indicates *the position of the first character of the returned slice*.  The second index indicates *the position of the character **AFTER** the last character in the slice* you want returned.  Again, that will be consistent in Python, you just have remember that is the way it works.  Slicing also works with negative indices as well.  Try the following:\n",
    "\n",
    "```Python\n",
    "print(my_str[-13:-6])\n",
    "print(my_str[-6:-1])\n",
    "```"
   ]
  },
  {
   "cell_type": "code",
   "execution_count": 12,
   "metadata": {},
   "outputs": [],
   "source": [
    "#\n",
    "# Enter your code here\n",
    "#\n"
   ]
  },
  {
   "cell_type": "markdown",
   "metadata": {},
   "source": [
    "Now try this:\n",
    "    \n",
    "```Python\n",
    "print(my_str[-1:-6])\n",
    "```"
   ]
  },
  {
   "cell_type": "code",
   "execution_count": 11,
   "metadata": {},
   "outputs": [
    {
     "name": "stdout",
     "output_type": "stream",
     "text": [
      "\n"
     ]
    }
   ],
   "source": [
    "#\n",
    "# Enter your code here\n",
    "#\n"
   ]
  },
  {
   "cell_type": "markdown",
   "metadata": {},
   "source": [
    "7\\.  That should have returned nothing (it's not that you did something wrong)  Why do you think that did not work? ***Enter Answer Here***"
   ]
  },
  {
   "cell_type": "markdown",
   "metadata": {},
   "source": [
    "Sometimes you want to specify a default value of the beginning or end of the original string.  You can easily do this by leaving that index blank.  Let’s try a couple of these:\n",
    "\n",
    "```Python\n",
    "print(my_str[-6:])\n",
    "print(my_str[:5])\n",
    "print(my_str[:])\n",
    "```"
   ]
  },
  {
   "cell_type": "code",
   "execution_count": 14,
   "metadata": {},
   "outputs": [],
   "source": [
    "#\n",
    "# Enter your code here\n",
    "#\n"
   ]
  },
  {
   "cell_type": "markdown",
   "metadata": {},
   "source": [
    "By default, when you create a slice it picks every character between the indices, but you can change this if you don’t want that behavior.  This is done by specifying a third value in the slice which is the **stride**.  This indicates how many characters to move forward each time a slice is generated.   By default, this value is 1.   Try the following:\n",
    "\n",
    "```Python\n",
    "print(my_str[-13:-6:2])\n",
    "print(my_str[::2])\n",
    "```"
   ]
  },
  {
   "cell_type": "code",
   "execution_count": 17,
   "metadata": {},
   "outputs": [],
   "source": [
    "#\n",
    "# Enter your code here\n",
    "#\n"
   ]
  },
  {
   "cell_type": "markdown",
   "metadata": {},
   "source": [
    "Just like any other index, you can also use a negative value for the stride as well.  Try the following:\n",
    "\n",
    "```Python\n",
    "print(my_str[0:4:-1])\n",
    "```"
   ]
  },
  {
   "cell_type": "code",
   "execution_count": 19,
   "metadata": {},
   "outputs": [],
   "source": [
    "#\n",
    "# Enter your code here\n",
    "#\n"
   ]
  },
  {
   "cell_type": "markdown",
   "metadata": {},
   "source": [
    "Of course, that returned nothing.  Remember the first two numbers are starting and ending indices, so you need change them as appropriate.\n",
    "\n",
    "8\\.  How would you fix this to work?  ***Enter Answer Here***"
   ]
  },
  {
   "cell_type": "code",
   "execution_count": 21,
   "metadata": {},
   "outputs": [],
   "source": [
    "#\n",
    "# Enter your code here\n",
    "#\n"
   ]
  },
  {
   "cell_type": "markdown",
   "metadata": {},
   "source": [
    "One very important thing to note is that strings are **immutable**.  This means that once a string object is created, the object cannot be changed.  *REMEMBER:*  It does not mean that a string **variable** cannot be changed, just that when a string variable is changed, a new **object** is created.  That's seems trivial, but mutability is important because it affects *details on how varaibles can be changed* in certain situations.  Try the following:  \n",
    "\n",
    "```Python\n",
    "print(my_str)\n",
    "my_str[6]='Q'\n",
    "```"
   ]
  },
  {
   "cell_type": "code",
   "execution_count": 22,
   "metadata": {},
   "outputs": [],
   "source": [
    "#\n",
    "# Enter your code here\n",
    "#\n"
   ]
  },
  {
   "cell_type": "markdown",
   "metadata": {},
   "source": [
    "9\\.  What do you get, and does it make sense? ***Enter Answer Here***"
   ]
  },
  {
   "cell_type": "markdown",
   "metadata": {},
   "source": [
    "Finally, you can do a another useful thing with strings.  You can add them together.  This is called **concatenation**.  It is done using the + operator and will add the contents of the strings together.  Please note:  Unlike the print command, concatenation does not add any spaces, it just literally chains strings together.  Try the following.  \n",
    "\n",
    "```Python\n",
    "new_str=my_str + 'X' + my_str\n",
    "print(new_str)\n",
    "```"
   ]
  },
  {
   "cell_type": "code",
   "execution_count": 25,
   "metadata": {},
   "outputs": [],
   "source": [
    "#\n",
    "# Enter your code here\n",
    "#\n"
   ]
  },
  {
   "cell_type": "markdown",
   "metadata": {},
   "source": [
    "###  Lists\n",
    "\n",
    "**Lists** are one of the most powerful and most used data structures in Python.  Lists are kind of like supercharged strings in that they are an **ordered sequence**, but instead of characters they hold a collection of objects.  A list can be indexed and sliced just like strings so you can pull out subgroups of objects.  In fact, list indexing follows the same rules as string indexing.  However, there is one big difference with lists.  Lists are sequences of any types of objects, not just characters.  Lists could contain integers, floating point values, strings, or even other lists.  Also, an important features of lists is that all the elements of a list do not have to be the same type of object.  They can be any mixture of types because lists are just that flexible.\n",
    "\n",
    "Lists are declared using [ ] (square brackets) and when you want to access an element you also use [ ] (just like strings).\n",
    "\n",
    "Try the following code.  Note how the lists are handled by the print statement.\n",
    "\n",
    "```Python\n",
    "my_list=[]\n",
    "print(my_list)\n",
    "my_list=[1,2,3]\n",
    "print(my_list)\n",
    "my_list=['Hi', 2, 4.5]\n",
    "print(my_list)\n",
    "```"
   ]
  },
  {
   "cell_type": "code",
   "execution_count": 26,
   "metadata": {},
   "outputs": [],
   "source": [
    "#\n",
    "# Enter your code here\n",
    "#\n"
   ]
  },
  {
   "cell_type": "markdown",
   "metadata": {},
   "source": [
    "Another important feature of lists is that they are **mutable**.  This means that the list can be changed after it is created.  This is handy because it means that you *replace* items in the list as needed.  Try the following:\n",
    "\n",
    "```Python\n",
    "my_list=[1,2,3]\n",
    "print(my_list)\n",
    "my_list[1]=5\n",
    "print(my_list)\n",
    "```"
   ]
  },
  {
   "cell_type": "code",
   "execution_count": 27,
   "metadata": {},
   "outputs": [],
   "source": [
    "#\n",
    "# Enter your code here\n",
    "#\n"
   ]
  },
  {
   "cell_type": "markdown",
   "metadata": {},
   "source": [
    "Lists have a lot of methods, but two important ones are used to add or remove members (as opposed to just replacing an item in an existing position).  To add an element to the end of a list you can call the ***.append()*** method.  To remove elements, you can use the ***.remove()*** method.  Try the following:\n",
    "\n",
    "```Python\n",
    "my_list=[]\n",
    "print(my_list)\n",
    "my_list.append('Hi')\n",
    "print(my_list)\n",
    "my_list.remove('Hi')\n",
    "print(my_list)\n",
    "```"
   ]
  },
  {
   "cell_type": "code",
   "execution_count": 28,
   "metadata": {},
   "outputs": [],
   "source": [
    "#\n",
    "# Enter your code here\n",
    "#\n"
   ]
  },
  {
   "cell_type": "markdown",
   "metadata": {},
   "source": [
    "###  Tuples\n",
    "\n",
    "**Tuples** are also ordered sequences with list-like flexibility in containing multiple data types and ability to be indexed, but since they are **immutable**, there a many functions (like replacing, adding, and deleting members) that cannot be done on a tuple.  Python uses tuples for things we will learn about later in the course, so it’s good to understand them now.  A tuple is declared using ( ), but when accessing members, you still use the form [ ].  This will be very consistent in Python.  You will use different types of brackets to declare things, but *always* use the square brackets to index things.  Try the following code:\n",
    "\n",
    "```Python\n",
    "items=(1,2,3)\n",
    "print(items)\n",
    "print(items[1])\n",
    "```"
   ]
  },
  {
   "cell_type": "code",
   "execution_count": 29,
   "metadata": {},
   "outputs": [],
   "source": [
    "#\n",
    "# Enter your code here\n",
    "#\n"
   ]
  },
  {
   "cell_type": "markdown",
   "metadata": {},
   "source": [
    "10\\. Since tuples are immutable, what do you get when you try the following?\n",
    "\n",
    "```Python\n",
    "items[1]=7\n",
    "```\n",
    "\n",
    "***Enter Answer Here***"
   ]
  },
  {
   "cell_type": "code",
   "execution_count": 50,
   "metadata": {},
   "outputs": [],
   "source": [
    "#\n",
    "# Enter your code here\n",
    "#\n"
   ]
  },
  {
   "cell_type": "markdown",
   "metadata": {},
   "source": [
    "###  Dictionaries\n",
    "\n",
    "**Dictionaries** are another type of python data structure.  These are sequences of objects, but they are **unordered**.   There are no numerical indices for a dictionary.  The way elements are accessed in a dictionary is with a **key**, which is associated (mapped) to a particular **value**.   When you define a dictionary, you need to specify any **key/value** pairs.  A value is indexed with its key.  Dictionaries are defined with { } but again indexed with [ ].  Try the following code:\n",
    "\n",
    "```Python\n",
    "d={'one':1 , 'two':2}\n",
    "print(d)\n",
    "print(d['two'])\n",
    "```"
   ]
  },
  {
   "cell_type": "code",
   "execution_count": 30,
   "metadata": {},
   "outputs": [],
   "source": [
    "#\n",
    "# Enter your code here\n",
    "#\n"
   ]
  },
  {
   "cell_type": "markdown",
   "metadata": {},
   "source": [
    "Dictionaries are also **mutable** so this means that they can have elements added, deleted and changed.  It is very easy to do all these.  To add or modify an element, simply reference it.  You can remove and element with the *del()* command.\n",
    "\n",
    "```Python\n",
    "d['three']=3\n",
    "print(d)\n",
    "del d['two']\n",
    "print(d)\n",
    "d['one']=256\n",
    "print(d)\n",
    "```"
   ]
  },
  {
   "cell_type": "code",
   "execution_count": 31,
   "metadata": {},
   "outputs": [],
   "source": [
    "#\n",
    "# Enter your code here\n",
    "#\n"
   ]
  },
  {
   "cell_type": "markdown",
   "metadata": {},
   "source": [
    "The one challenge with dictionaries is that if you try to access a key value that does not exist, you get an error.  Try the following:\n",
    "\n",
    "```Python\n",
    "print(d[‘four’])\n",
    "```"
   ]
  },
  {
   "cell_type": "code",
   "execution_count": 32,
   "metadata": {},
   "outputs": [],
   "source": [
    "#\n",
    "# Enter your code here\n",
    "#\n"
   ]
  },
  {
   "cell_type": "markdown",
   "metadata": {},
   "source": [
    "11\\.  What type of error do you get? ***Enter Answer Here***"
   ]
  },
  {
   "cell_type": "markdown",
   "metadata": {},
   "source": [
    "###  Data Type Conversions\n",
    "\n",
    "We have gone through a lot of different data types in this lab.  One of the convenient things in Python is that you can convert data types other data types. There are built-in conversion functions (e.g. ***int()***, ***str()***, ***float()***) to do this.  One important thing to note is that Python will try to make conversions for you as needed, but it does so using a certain set of rules.  This means Python may not automatically convert things the way you want them converted, so it  recommended that you do explicit conversions (using the conversion functions) so that you know exactly what is happening in your code.  Try the following:\n",
    "\n",
    "```Python\n",
    "i = 9\n",
    "print(i)\n",
    "f=float(i)\n",
    "print(f)\n",
    "s=str(f)\n",
    "print(s)\n",
    "```"
   ]
  },
  {
   "cell_type": "code",
   "execution_count": 33,
   "metadata": {},
   "outputs": [],
   "source": [
    "#\n",
    "# Enter your code here\n",
    "#\n"
   ]
  },
  {
   "cell_type": "markdown",
   "metadata": {},
   "source": [
    "One important thing to remember about using explicit conversions is that whatever you are trying to convert has to make sense as the new type.  For example, if you convert a string \"123\" to an integer value, that makes sense, while trying to convert a string \"xyz\" does not make sense as an integer value.  Try the following code:\n",
    "\n",
    "```Python\n",
    "print(int(\"abc\"))\n",
    "```"
   ]
  },
  {
   "cell_type": "code",
   "execution_count": 37,
   "metadata": {},
   "outputs": [],
   "source": [
    "#\n",
    "# Enter your code here\n",
    "#\n"
   ]
  }
 ],
 "metadata": {
  "kernelspec": {
   "display_name": "Python 3",
   "language": "python",
   "name": "python3"
  },
  "language_info": {
   "codemirror_mode": {
    "name": "ipython",
    "version": 3
   },
   "file_extension": ".py",
   "mimetype": "text/x-python",
   "name": "python",
   "nbconvert_exporter": "python",
   "pygments_lexer": "ipython3",
   "version": "3.6.3"
  }
 },
 "nbformat": 4,
 "nbformat_minor": 4
}
